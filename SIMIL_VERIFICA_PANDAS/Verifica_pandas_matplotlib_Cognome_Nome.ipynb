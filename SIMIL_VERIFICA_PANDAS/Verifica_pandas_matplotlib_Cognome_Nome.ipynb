{
 "cells": [
  {
   "cell_type": "markdown",
   "id": "9e64ce7c",
   "metadata": {},
   "source": [
    "# DALMASSO DARIO"
   ]
  },
  {
   "cell_type": "markdown",
   "id": "3b1da9cf",
   "metadata": {},
   "source": [
    "![Image](pandas.jpeg)\n",
    "    \n",
    "> An exam on Pandas and Matplotlib as perceived by the students tasked with completing it.\n",
    "  by **DALL.E3**"
   ]
  },
  {
   "cell_type": "code",
   "execution_count": 3,
   "id": "62d9b663",
   "metadata": {
    "ExecuteTime": {
     "start_time": "2023-12-15T11:11:50.369882Z",
     "end_time": "2023-12-15T11:11:57.144669Z"
    }
   },
   "outputs": [],
   "source": [
    "import pandas as pd\n",
    "import matplotlib.pyplot as plt\n",
    "import numpy as np"
   ]
  },
  {
   "cell_type": "markdown",
   "id": "75552a3e",
   "metadata": {},
   "source": [
    "# Esercizio 1: i dati di Netflix\n",
    "Il file `Netflix-Dataset-Latest-2021.xlsx` contiene svariati dati di film e serie Netflix.\n",
    "\n",
    "1) Tra tutti film/serie che durano meno di 30 minuti calcola il valore minimo, massimo e medio dello score (`IMDb Score`).\n",
    "\n",
    "2) Calcola, mediante una sola riga di codice, quanti sono i film (Movie) e le serie (Series) presenti nel file (`Series or Movie`).\n",
    "\n",
    "3) In media hanno uno score maggiore (`IMDb Score`) i film/serie che durano meno di 30 minuti oppure quelli che durano più di 2h?\n",
    "\n",
    "4) Utilizza matplotlib creare un grafico a dispersione che mostri la correlazione tra `IMDb Score` e `Awards Received`. I punti del grafico devono avere un colore che dipenda dal numero di voti ricevuti `IMDb Votes`. I grafici devono avere titolo, griglia ed etichette sugli assi.\n",
    "\n",
    "5) Traccia lo stesso grafico facendo in modo che la dimensione dei punti sia proporzionale al numero di voti `IMDb Votes`.\n",
    "\n",
    "6) Traccia in un'unica figura due due istogrammi che rappresentino rispettivamente le distribuzioni di `IMDb Score` e `Awards Received`."
   ]
  },
  {
   "cell_type": "code",
   "execution_count": 20,
   "id": "9207300c",
   "metadata": {
    "ExecuteTime": {
     "start_time": "2023-12-15T11:30:13.744941Z",
     "end_time": "2023-12-15T11:30:20.433533Z"
    }
   },
   "outputs": [
    {
     "data": {
      "text/plain": "                                          Title  \\\n0                              Lets Fight Ghost   \n1                           HOW TO BUILD A GIRL   \n2                              The Con-Heartist   \n3                                  Gleboka woda   \n4                                 Only a Mother   \n...                                         ...   \n9420                             13 Going on 30   \n9421                                   LIFE 2.0   \n9422                              Brand New Day   \n9423                Daniel Arends: Blessuretijd   \n9424  DreamWorks Happy Holidays from Madagascar   \n\n                                       Genre  \\\n0     Crime, Drama, Fantasy, Horror, Romance   \n1                                     Comedy   \n2                            Comedy, Romance   \n3                                      Drama   \n4                                      Drama   \n...                                      ...   \n9420                Comedy, Fantasy, Romance   \n9421                             Documentary   \n9422                      Documentary, Music   \n9423                                  Comedy   \n9424               Animation, Comedy, Family   \n\n                                                   Tags            Languages  \\\n0     Comedy Programmes,Romantic TV Comedies,Horror ...     Swedish, Spanish   \n1          Dramas,Comedies,Films Based on Books,British              English   \n2     Romantic Comedies,Comedies,Romantic Films,Thai...                 Thai   \n3      TV Dramas,Polish TV Shows,Social Issue TV Dramas               Polish   \n4     Social Issue Dramas,Dramas,Movies Based on Boo...              Swedish   \n...                                                 ...                  ...   \n9420  Romantic Comedies,Comedies,Romantic Films,Roma...  English, Portuguese   \n9421  Social & Cultural Documentaries,Biographical D...              English   \n9422  Australian Comedies,Romantic Comedies,Australi...              English   \n9423      Stand-up Comedy,International Movies,Comedies                Dutch   \n9424  TV Comedies,Kids TV,Animal Tales,TV Cartoons,T...              English   \n\n     Series or Movie  Hidden Gem Score  \\\n0             Series               4.3   \n1              Movie               7.0   \n2              Movie               8.6   \n3             Series               8.7   \n4              Movie               8.3   \n...              ...               ...   \n9420           Movie               3.1   \n9421           Movie               8.2   \n9422           Movie               8.6   \n9423           Movie               8.8   \n9424          Series               8.4   \n\n                                   Country Availability       Runtime  \\\n0                                              Thailand  < 30 minutes   \n1                                                Canada      1-2 hour   \n2                                              Thailand       > 2 hrs   \n3                                                Poland  < 30 minutes   \n4     Lithuania,Poland,France,Italy,Spain,Greece,Bel...      1-2 hour   \n...                                                 ...           ...   \n9420  Hungary,Lithuania,Romania,United Kingdom,Belgi...      1-2 hour   \n9421  Hungary,Lithuania,India,Australia,United Kingd...      1-2 hour   \n9422                                          Australia      1-2 hour   \n9423                                            Belgium      1-2 hour   \n9424  Belgium,Switzerland,United States,Germany,Unit...  < 30 minutes   \n\n                   Director  \\\n0           Tomas Alfredson   \n1             Coky Giedroyc   \n2             Mez Tharatorn   \n3                       NaN   \n4               Alf Sjöberg   \n...                     ...   \n9420            Gary Winick   \n9421    Jason Spingarn-Koff   \n9422             Amos Gitai   \n9423  Doesjka van Hoogdalem   \n9424                    NaN   \n\n                                                 Writer  ...  \\\n0                                 John Ajvide Lindqvist  ...   \n1                                         Caitlin Moran  ...   \n2     Pattaranad Bhiboonsawade, Mez Tharatorn, Thods...  ...   \n3                                                   NaN  ...   \n4                                     Ivar Lo-Johansson  ...   \n...                                                 ...  ...   \n9420                        Josh Goldsmith, Cathy Yuspa  ...   \n9421                                                NaN  ...   \n9422                                                NaN  ...   \n9423                                      Daniël Arends  ...   \n9424                                                NaN  ...   \n\n     Netflix Release Date                              Production House  \\\n0              2021-03-04                     Canal+, Sandrew Metronome   \n1              2021-03-04        Film 4, Monumental Pictures, Lionsgate   \n2              2021-03-03                                           NaN   \n3              2021-03-03                                           NaN   \n4              2021-03-03                                           NaN   \n...                   ...                                           ...   \n9420           2015-04-14  Revolution Studios, Thirteen Productions LLC   \n9421           2015-04-14                                           NaN   \n9422           2015-04-14                                           NaN   \n9423           2015-04-14                                           NaN   \n9424           2015-04-14                                           NaN   \n\n                                Netflix Link  \\\n0     https://www.netflix.com/watch/81415947   \n1     https://www.netflix.com/watch/81041267   \n2     https://www.netflix.com/watch/81306155   \n3     https://www.netflix.com/watch/81307527   \n4     https://www.netflix.com/watch/81382068   \n...                                      ...   \n9420  https://www.netflix.com/watch/60034573   \n9421  https://www.netflix.com/watch/70129457   \n9422  https://www.netflix.com/watch/70125340   \n9423  https://www.netflix.com/watch/70281233   \n9424  https://www.netflix.com/watch/70259784   \n\n                                  IMDb Link  \\\n0      https://www.imdb.com/title/tt1139797   \n1      https://www.imdb.com/title/tt4193072   \n2     https://www.imdb.com/title/tt13393728   \n3      https://www.imdb.com/title/tt2300049   \n4      https://www.imdb.com/title/tt0041155   \n...                                     ...   \n9420   https://www.imdb.com/title/tt0337563   \n9421   https://www.imdb.com/title/tt1518809   \n9422                                    NaN   \n9423                                    NaN   \n9424                                    NaN   \n\n                                                Summary  IMDb Votes  \\\n0     A med student with a supernatural gift tries t...    205926.0   \n1     When nerdy Johanna moves to London, things get...      2838.0   \n2     After her ex-boyfriend cons her out of a large...       131.0   \n3     A group of social welfare workers led by their...        47.0   \n4     An unhappily married farm worker struggling to...        88.0   \n...                                                 ...         ...   \n9420  When a geeky teens birthday party goes awry an...    167842.0   \n9421  Computer users across the globe log onto the v...       878.0   \n9422  In an idyllic port town on Australias west coa...        14.0   \n9423  In his third show, Daniël Arends argues that g...       174.0   \n9424  Madagascar goes wild with holiday spirit in th...        71.0   \n\n                                                  Image  \\\n0     https://occ-0-4708-64.1.nflxso.net/dnm/api/v6/...   \n1     https://occ-0-1081-999.1.nflxso.net/dnm/api/v6...   \n2     https://occ-0-2188-64.1.nflxso.net/dnm/api/v6/...   \n3     https://occ-0-2508-2706.1.nflxso.net/dnm/api/v...   \n4     https://occ-0-2851-41.1.nflxso.net/dnm/api/v6/...   \n...                                                 ...   \n9420  https://occ-0-2851-38.1.nflxso.net/dnm/api/v6/...   \n9421  https://occ-0-2851-38.1.nflxso.net/dnm/api/v6/...   \n9422   http://cdn1.nflximg.net/images/5543/12045543.jpg   \n9423  http://occ-0-768-769.1.nflxso.net/dnm/api/v6/e...   \n9424  https://occ-0-2773-2774.1.nflxso.net/dnm/api/v...   \n\n                                                 Poster  \\\n0     https://m.media-amazon.com/images/M/MV5BOWM4NT...   \n1     https://m.media-amazon.com/images/M/MV5BZGUyN2...   \n2     https://m.media-amazon.com/images/M/MV5BODAzOG...   \n3     https://m.media-amazon.com/images/M/MV5BMTc0Nz...   \n4     https://m.media-amazon.com/images/M/MV5BMjVmMz...   \n...                                                 ...   \n9420  https://images-na.ssl-images-amazon.com/images...   \n9421  https://images-na.ssl-images-amazon.com/images...   \n9422                                                NaN   \n9423                                                NaN   \n9424                                                NaN   \n\n                                     TMDb Trailer Trailer Site  \n0     https://www.youtube.com/watch?v=LqB6XJix-dM      YouTube  \n1     https://www.youtube.com/watch?v=eIbcxPy4okQ      YouTube  \n2     https://www.youtube.com/watch?v=md3CmFLGK6Y      YouTube  \n3     https://www.youtube.com/watch?v=5kyF2vy63r0      YouTube  \n4     https://www.youtube.com/watch?v=H0itWKFwMpQ      YouTube  \n...                                           ...          ...  \n9420  https://www.youtube.com/watch?v=SApIKVq1iJQ      YouTube  \n9421  https://www.youtube.com/watch?v=2TY-O5Dc8oA      YouTube  \n9422  https://www.youtube.com/watch?v=RnGRdaX594k      YouTube  \n9423  https://www.youtube.com/watch?v=vVCEm1G8Zss      YouTube  \n9424  https://www.youtube.com/watch?v=hOwDHUAQR9k          NaN  \n\n[9425 rows x 29 columns]",
      "text/html": "<div>\n<style scoped>\n    .dataframe tbody tr th:only-of-type {\n        vertical-align: middle;\n    }\n\n    .dataframe tbody tr th {\n        vertical-align: top;\n    }\n\n    .dataframe thead th {\n        text-align: right;\n    }\n</style>\n<table border=\"1\" class=\"dataframe\">\n  <thead>\n    <tr style=\"text-align: right;\">\n      <th></th>\n      <th>Title</th>\n      <th>Genre</th>\n      <th>Tags</th>\n      <th>Languages</th>\n      <th>Series or Movie</th>\n      <th>Hidden Gem Score</th>\n      <th>Country Availability</th>\n      <th>Runtime</th>\n      <th>Director</th>\n      <th>Writer</th>\n      <th>...</th>\n      <th>Netflix Release Date</th>\n      <th>Production House</th>\n      <th>Netflix Link</th>\n      <th>IMDb Link</th>\n      <th>Summary</th>\n      <th>IMDb Votes</th>\n      <th>Image</th>\n      <th>Poster</th>\n      <th>TMDb Trailer</th>\n      <th>Trailer Site</th>\n    </tr>\n  </thead>\n  <tbody>\n    <tr>\n      <th>0</th>\n      <td>Lets Fight Ghost</td>\n      <td>Crime, Drama, Fantasy, Horror, Romance</td>\n      <td>Comedy Programmes,Romantic TV Comedies,Horror ...</td>\n      <td>Swedish, Spanish</td>\n      <td>Series</td>\n      <td>4.3</td>\n      <td>Thailand</td>\n      <td>&lt; 30 minutes</td>\n      <td>Tomas Alfredson</td>\n      <td>John Ajvide Lindqvist</td>\n      <td>...</td>\n      <td>2021-03-04</td>\n      <td>Canal+, Sandrew Metronome</td>\n      <td>https://www.netflix.com/watch/81415947</td>\n      <td>https://www.imdb.com/title/tt1139797</td>\n      <td>A med student with a supernatural gift tries t...</td>\n      <td>205926.0</td>\n      <td>https://occ-0-4708-64.1.nflxso.net/dnm/api/v6/...</td>\n      <td>https://m.media-amazon.com/images/M/MV5BOWM4NT...</td>\n      <td>https://www.youtube.com/watch?v=LqB6XJix-dM</td>\n      <td>YouTube</td>\n    </tr>\n    <tr>\n      <th>1</th>\n      <td>HOW TO BUILD A GIRL</td>\n      <td>Comedy</td>\n      <td>Dramas,Comedies,Films Based on Books,British</td>\n      <td>English</td>\n      <td>Movie</td>\n      <td>7.0</td>\n      <td>Canada</td>\n      <td>1-2 hour</td>\n      <td>Coky Giedroyc</td>\n      <td>Caitlin Moran</td>\n      <td>...</td>\n      <td>2021-03-04</td>\n      <td>Film 4, Monumental Pictures, Lionsgate</td>\n      <td>https://www.netflix.com/watch/81041267</td>\n      <td>https://www.imdb.com/title/tt4193072</td>\n      <td>When nerdy Johanna moves to London, things get...</td>\n      <td>2838.0</td>\n      <td>https://occ-0-1081-999.1.nflxso.net/dnm/api/v6...</td>\n      <td>https://m.media-amazon.com/images/M/MV5BZGUyN2...</td>\n      <td>https://www.youtube.com/watch?v=eIbcxPy4okQ</td>\n      <td>YouTube</td>\n    </tr>\n    <tr>\n      <th>2</th>\n      <td>The Con-Heartist</td>\n      <td>Comedy, Romance</td>\n      <td>Romantic Comedies,Comedies,Romantic Films,Thai...</td>\n      <td>Thai</td>\n      <td>Movie</td>\n      <td>8.6</td>\n      <td>Thailand</td>\n      <td>&gt; 2 hrs</td>\n      <td>Mez Tharatorn</td>\n      <td>Pattaranad Bhiboonsawade, Mez Tharatorn, Thods...</td>\n      <td>...</td>\n      <td>2021-03-03</td>\n      <td>NaN</td>\n      <td>https://www.netflix.com/watch/81306155</td>\n      <td>https://www.imdb.com/title/tt13393728</td>\n      <td>After her ex-boyfriend cons her out of a large...</td>\n      <td>131.0</td>\n      <td>https://occ-0-2188-64.1.nflxso.net/dnm/api/v6/...</td>\n      <td>https://m.media-amazon.com/images/M/MV5BODAzOG...</td>\n      <td>https://www.youtube.com/watch?v=md3CmFLGK6Y</td>\n      <td>YouTube</td>\n    </tr>\n    <tr>\n      <th>3</th>\n      <td>Gleboka woda</td>\n      <td>Drama</td>\n      <td>TV Dramas,Polish TV Shows,Social Issue TV Dramas</td>\n      <td>Polish</td>\n      <td>Series</td>\n      <td>8.7</td>\n      <td>Poland</td>\n      <td>&lt; 30 minutes</td>\n      <td>NaN</td>\n      <td>NaN</td>\n      <td>...</td>\n      <td>2021-03-03</td>\n      <td>NaN</td>\n      <td>https://www.netflix.com/watch/81307527</td>\n      <td>https://www.imdb.com/title/tt2300049</td>\n      <td>A group of social welfare workers led by their...</td>\n      <td>47.0</td>\n      <td>https://occ-0-2508-2706.1.nflxso.net/dnm/api/v...</td>\n      <td>https://m.media-amazon.com/images/M/MV5BMTc0Nz...</td>\n      <td>https://www.youtube.com/watch?v=5kyF2vy63r0</td>\n      <td>YouTube</td>\n    </tr>\n    <tr>\n      <th>4</th>\n      <td>Only a Mother</td>\n      <td>Drama</td>\n      <td>Social Issue Dramas,Dramas,Movies Based on Boo...</td>\n      <td>Swedish</td>\n      <td>Movie</td>\n      <td>8.3</td>\n      <td>Lithuania,Poland,France,Italy,Spain,Greece,Bel...</td>\n      <td>1-2 hour</td>\n      <td>Alf Sjöberg</td>\n      <td>Ivar Lo-Johansson</td>\n      <td>...</td>\n      <td>2021-03-03</td>\n      <td>NaN</td>\n      <td>https://www.netflix.com/watch/81382068</td>\n      <td>https://www.imdb.com/title/tt0041155</td>\n      <td>An unhappily married farm worker struggling to...</td>\n      <td>88.0</td>\n      <td>https://occ-0-2851-41.1.nflxso.net/dnm/api/v6/...</td>\n      <td>https://m.media-amazon.com/images/M/MV5BMjVmMz...</td>\n      <td>https://www.youtube.com/watch?v=H0itWKFwMpQ</td>\n      <td>YouTube</td>\n    </tr>\n    <tr>\n      <th>...</th>\n      <td>...</td>\n      <td>...</td>\n      <td>...</td>\n      <td>...</td>\n      <td>...</td>\n      <td>...</td>\n      <td>...</td>\n      <td>...</td>\n      <td>...</td>\n      <td>...</td>\n      <td>...</td>\n      <td>...</td>\n      <td>...</td>\n      <td>...</td>\n      <td>...</td>\n      <td>...</td>\n      <td>...</td>\n      <td>...</td>\n      <td>...</td>\n      <td>...</td>\n      <td>...</td>\n    </tr>\n    <tr>\n      <th>9420</th>\n      <td>13 Going on 30</td>\n      <td>Comedy, Fantasy, Romance</td>\n      <td>Romantic Comedies,Comedies,Romantic Films,Roma...</td>\n      <td>English, Portuguese</td>\n      <td>Movie</td>\n      <td>3.1</td>\n      <td>Hungary,Lithuania,Romania,United Kingdom,Belgi...</td>\n      <td>1-2 hour</td>\n      <td>Gary Winick</td>\n      <td>Josh Goldsmith, Cathy Yuspa</td>\n      <td>...</td>\n      <td>2015-04-14</td>\n      <td>Revolution Studios, Thirteen Productions LLC</td>\n      <td>https://www.netflix.com/watch/60034573</td>\n      <td>https://www.imdb.com/title/tt0337563</td>\n      <td>When a geeky teens birthday party goes awry an...</td>\n      <td>167842.0</td>\n      <td>https://occ-0-2851-38.1.nflxso.net/dnm/api/v6/...</td>\n      <td>https://images-na.ssl-images-amazon.com/images...</td>\n      <td>https://www.youtube.com/watch?v=SApIKVq1iJQ</td>\n      <td>YouTube</td>\n    </tr>\n    <tr>\n      <th>9421</th>\n      <td>LIFE 2.0</td>\n      <td>Documentary</td>\n      <td>Social &amp; Cultural Documentaries,Biographical D...</td>\n      <td>English</td>\n      <td>Movie</td>\n      <td>8.2</td>\n      <td>Hungary,Lithuania,India,Australia,United Kingd...</td>\n      <td>1-2 hour</td>\n      <td>Jason Spingarn-Koff</td>\n      <td>NaN</td>\n      <td>...</td>\n      <td>2015-04-14</td>\n      <td>NaN</td>\n      <td>https://www.netflix.com/watch/70129457</td>\n      <td>https://www.imdb.com/title/tt1518809</td>\n      <td>Computer users across the globe log onto the v...</td>\n      <td>878.0</td>\n      <td>https://occ-0-2851-38.1.nflxso.net/dnm/api/v6/...</td>\n      <td>https://images-na.ssl-images-amazon.com/images...</td>\n      <td>https://www.youtube.com/watch?v=2TY-O5Dc8oA</td>\n      <td>YouTube</td>\n    </tr>\n    <tr>\n      <th>9422</th>\n      <td>Brand New Day</td>\n      <td>Documentary, Music</td>\n      <td>Australian Comedies,Romantic Comedies,Australi...</td>\n      <td>English</td>\n      <td>Movie</td>\n      <td>8.6</td>\n      <td>Australia</td>\n      <td>1-2 hour</td>\n      <td>Amos Gitai</td>\n      <td>NaN</td>\n      <td>...</td>\n      <td>2015-04-14</td>\n      <td>NaN</td>\n      <td>https://www.netflix.com/watch/70125340</td>\n      <td>NaN</td>\n      <td>In an idyllic port town on Australias west coa...</td>\n      <td>14.0</td>\n      <td>http://cdn1.nflximg.net/images/5543/12045543.jpg</td>\n      <td>NaN</td>\n      <td>https://www.youtube.com/watch?v=RnGRdaX594k</td>\n      <td>YouTube</td>\n    </tr>\n    <tr>\n      <th>9423</th>\n      <td>Daniel Arends: Blessuretijd</td>\n      <td>Comedy</td>\n      <td>Stand-up Comedy,International Movies,Comedies</td>\n      <td>Dutch</td>\n      <td>Movie</td>\n      <td>8.8</td>\n      <td>Belgium</td>\n      <td>1-2 hour</td>\n      <td>Doesjka van Hoogdalem</td>\n      <td>Daniël Arends</td>\n      <td>...</td>\n      <td>2015-04-14</td>\n      <td>NaN</td>\n      <td>https://www.netflix.com/watch/70281233</td>\n      <td>NaN</td>\n      <td>In his third show, Daniël Arends argues that g...</td>\n      <td>174.0</td>\n      <td>http://occ-0-768-769.1.nflxso.net/dnm/api/v6/e...</td>\n      <td>NaN</td>\n      <td>https://www.youtube.com/watch?v=vVCEm1G8Zss</td>\n      <td>YouTube</td>\n    </tr>\n    <tr>\n      <th>9424</th>\n      <td>DreamWorks Happy Holidays from Madagascar</td>\n      <td>Animation, Comedy, Family</td>\n      <td>TV Comedies,Kids TV,Animal Tales,TV Cartoons,T...</td>\n      <td>English</td>\n      <td>Series</td>\n      <td>8.4</td>\n      <td>Belgium,Switzerland,United States,Germany,Unit...</td>\n      <td>&lt; 30 minutes</td>\n      <td>NaN</td>\n      <td>NaN</td>\n      <td>...</td>\n      <td>2015-04-14</td>\n      <td>NaN</td>\n      <td>https://www.netflix.com/watch/70259784</td>\n      <td>NaN</td>\n      <td>Madagascar goes wild with holiday spirit in th...</td>\n      <td>71.0</td>\n      <td>https://occ-0-2773-2774.1.nflxso.net/dnm/api/v...</td>\n      <td>NaN</td>\n      <td>https://www.youtube.com/watch?v=hOwDHUAQR9k</td>\n      <td>NaN</td>\n    </tr>\n  </tbody>\n</table>\n<p>9425 rows × 29 columns</p>\n</div>"
     },
     "execution_count": 20,
     "metadata": {},
     "output_type": "execute_result"
    }
   ],
   "source": [
    "data = pd.read_excel(\"./Netflix-Dataset-Latest-2021.xlsx\")\n",
    "data"
   ]
  },
  {
   "cell_type": "code",
   "execution_count": 21,
   "outputs": [
    {
     "data": {
      "text/plain": "7.525767850019943"
     },
     "execution_count": 21,
     "metadata": {},
     "output_type": "execute_result"
    }
   ],
   "source": [
    "query_media = data[data[\"Runtime\"]  == \"< 30 minutes\"][\"IMDb Score\"].mean()\n",
    "query_media"
   ],
   "metadata": {
    "collapsed": false,
    "ExecuteTime": {
     "start_time": "2023-12-15T11:30:20.433533Z",
     "end_time": "2023-12-15T11:30:20.464840Z"
    }
   }
  },
  {
   "cell_type": "code",
   "execution_count": 22,
   "outputs": [
    {
     "data": {
      "text/plain": "2.7"
     },
     "execution_count": 22,
     "metadata": {},
     "output_type": "execute_result"
    }
   ],
   "source": [
    "query_min = data[data[\"Runtime\"]  == \"< 30 minutes\"][\"IMDb Score\"].min()\n",
    "query_min"
   ],
   "metadata": {
    "collapsed": false,
    "ExecuteTime": {
     "start_time": "2023-12-15T11:30:20.449808Z",
     "end_time": "2023-12-15T11:30:20.543453Z"
    }
   }
  },
  {
   "cell_type": "code",
   "execution_count": 23,
   "outputs": [
    {
     "data": {
      "text/plain": "9.5"
     },
     "execution_count": 23,
     "metadata": {},
     "output_type": "execute_result"
    }
   ],
   "source": [
    "query_max = data[data[\"Runtime\"]  == \"< 30 minutes\"][\"IMDb Score\"].max()\n",
    "query_max"
   ],
   "metadata": {
    "collapsed": false,
    "ExecuteTime": {
     "start_time": "2023-12-15T11:30:20.480468Z",
     "end_time": "2023-12-15T11:30:20.638387Z"
    }
   }
  },
  {
   "cell_type": "code",
   "execution_count": 24,
   "outputs": [
    {
     "data": {
      "text/plain": "Series or Movie\nMovie     7010\nSeries    2415\nName: count, dtype: int64"
     },
     "execution_count": 24,
     "metadata": {},
     "output_type": "execute_result"
    }
   ],
   "source": [
    "data[\"Series or Movie\"].value_counts()\n"
   ],
   "metadata": {
    "collapsed": false,
    "ExecuteTime": {
     "start_time": "2023-12-15T11:30:20.496099Z",
     "end_time": "2023-12-15T11:30:20.655267Z"
    }
   }
  },
  {
   "cell_type": "code",
   "execution_count": 27,
   "outputs": [
    {
     "data": {
      "text/plain": "7.1072398190045245"
     },
     "execution_count": 27,
     "metadata": {},
     "output_type": "execute_result"
    }
   ],
   "source": [
    "query_media_2 = (data[data[\"Runtime\"]  == \"> 2 hrs\"][\"IMDb Score\"].mean())\n",
    "query_media_2"
   ],
   "metadata": {
    "collapsed": false,
    "ExecuteTime": {
     "start_time": "2023-12-15T11:33:33.289230Z",
     "end_time": "2023-12-15T11:33:33.366783Z"
    }
   }
  },
  {
   "cell_type": "code",
   "execution_count": 30,
   "outputs": [
    {
     "data": {
      "text/plain": "True"
     },
     "execution_count": 30,
     "metadata": {},
     "output_type": "execute_result"
    }
   ],
   "source": [
    "query_media > query_media_2"
   ],
   "metadata": {
    "collapsed": false,
    "ExecuteTime": {
     "start_time": "2023-12-15T11:35:00.217438Z",
     "end_time": "2023-12-15T11:35:00.279803Z"
    }
   }
  },
  {
   "cell_type": "code",
   "execution_count": null,
   "outputs": [],
   "source": [],
   "metadata": {
    "collapsed": false
   }
  }
 ],
 "metadata": {
  "kernelspec": {
   "display_name": "Python 3 (ipykernel)",
   "language": "python",
   "name": "python3"
  },
  "language_info": {
   "codemirror_mode": {
    "name": "ipython",
    "version": 3
   },
   "file_extension": ".py",
   "mimetype": "text/x-python",
   "name": "python",
   "nbconvert_exporter": "python",
   "pygments_lexer": "ipython3",
   "version": "3.10.7"
  }
 },
 "nbformat": 4,
 "nbformat_minor": 5
}
