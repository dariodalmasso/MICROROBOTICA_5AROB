{
 "cells": [
  {
   "cell_type": "code",
   "execution_count": 3,
   "id": "c7040488",
   "metadata": {},
   "outputs": [],
   "source": [
    "import numpy as np"
   ]
  },
  {
   "cell_type": "code",
   "execution_count": 3,
   "id": "4234fbd2",
   "metadata": {},
   "outputs": [],
   "source": [
    "#%%timeit\n",
    "quadrati = []\n",
    "for i in range(100):\n",
    "    quadrati.append(i**2)"
   ]
  },
  {
   "cell_type": "code",
   "execution_count": 4,
   "id": "6647ef9e",
   "metadata": {},
   "outputs": [
    {
     "name": "stdout",
     "output_type": "stream",
     "text": [
      "2.06 ms ± 32.4 µs per loop (mean ± std. dev. of 7 runs, 100 loops each)\n"
     ]
    }
   ],
   "source": [
    "%%timeit\n",
    "quadrati = np.arange(0,1000000)**2"
   ]
  },
  {
   "cell_type": "code",
   "execution_count": 5,
   "id": "af52309d",
   "metadata": {},
   "outputs": [
    {
     "data": {
      "text/plain": [
       "[0,\n",
       " 1,\n",
       " 4,\n",
       " 9,\n",
       " 16,\n",
       " 25,\n",
       " 36,\n",
       " 49,\n",
       " 64,\n",
       " 81,\n",
       " 100,\n",
       " 121,\n",
       " 144,\n",
       " 169,\n",
       " 196,\n",
       " 225,\n",
       " 256,\n",
       " 289,\n",
       " 324,\n",
       " 361,\n",
       " 400,\n",
       " 441,\n",
       " 484,\n",
       " 529,\n",
       " 576,\n",
       " 625,\n",
       " 676,\n",
       " 729,\n",
       " 784,\n",
       " 841,\n",
       " 900,\n",
       " 961,\n",
       " 1024,\n",
       " 1089,\n",
       " 1156,\n",
       " 1225,\n",
       " 1296,\n",
       " 1369,\n",
       " 1444,\n",
       " 1521,\n",
       " 1600,\n",
       " 1681,\n",
       " 1764,\n",
       " 1849,\n",
       " 1936,\n",
       " 2025,\n",
       " 2116,\n",
       " 2209,\n",
       " 2304,\n",
       " 2401,\n",
       " 2500,\n",
       " 2601,\n",
       " 2704,\n",
       " 2809,\n",
       " 2916,\n",
       " 3025,\n",
       " 3136,\n",
       " 3249,\n",
       " 3364,\n",
       " 3481,\n",
       " 3600,\n",
       " 3721,\n",
       " 3844,\n",
       " 3969,\n",
       " 4096,\n",
       " 4225,\n",
       " 4356,\n",
       " 4489,\n",
       " 4624,\n",
       " 4761,\n",
       " 4900,\n",
       " 5041,\n",
       " 5184,\n",
       " 5329,\n",
       " 5476,\n",
       " 5625,\n",
       " 5776,\n",
       " 5929,\n",
       " 6084,\n",
       " 6241,\n",
       " 6400,\n",
       " 6561,\n",
       " 6724,\n",
       " 6889,\n",
       " 7056,\n",
       " 7225,\n",
       " 7396,\n",
       " 7569,\n",
       " 7744,\n",
       " 7921,\n",
       " 8100,\n",
       " 8281,\n",
       " 8464,\n",
       " 8649,\n",
       " 8836,\n",
       " 9025,\n",
       " 9216,\n",
       " 9409,\n",
       " 9604,\n",
       " 9801]"
      ]
     },
     "execution_count": 5,
     "metadata": {},
     "output_type": "execute_result"
    }
   ],
   "source": [
    "quadrati"
   ]
  },
  {
   "cell_type": "markdown",
   "id": "dcf11198",
   "metadata": {},
   "source": [
    "#### Creare gli array unidimensionali"
   ]
  },
  {
   "cell_type": "code",
   "execution_count": 6,
   "id": "3f3d3272",
   "metadata": {},
   "outputs": [
    {
     "data": {
      "text/plain": [
       "array([0., 0., 0., 0., 0., 0., 0., 0., 0., 0.])"
      ]
     },
     "execution_count": 6,
     "metadata": {},
     "output_type": "execute_result"
    }
   ],
   "source": [
    "array_di_zeri = np.zeros(10)\n",
    "array_di_zeri"
   ]
  },
  {
   "cell_type": "code",
   "execution_count": 7,
   "id": "1e4cf458",
   "metadata": {},
   "outputs": [
    {
     "data": {
      "text/plain": [
       "dtype('float64')"
      ]
     },
     "execution_count": 7,
     "metadata": {},
     "output_type": "execute_result"
    }
   ],
   "source": [
    "array_di_zeri.dtype"
   ]
  },
  {
   "cell_type": "code",
   "execution_count": 8,
   "id": "afde7fa8",
   "metadata": {},
   "outputs": [
    {
     "data": {
      "text/plain": [
       "array([0, 0, 0, 0, 0, 0, 0, 0, 0, 0], dtype=int8)"
      ]
     },
     "execution_count": 8,
     "metadata": {},
     "output_type": "execute_result"
    }
   ],
   "source": [
    "array_di_zeri_int = np.zeros(10, dtype=np.int8)\n",
    "array_di_zeri_int"
   ]
  },
  {
   "cell_type": "code",
   "execution_count": 9,
   "id": "be9cc041",
   "metadata": {},
   "outputs": [
    {
     "data": {
      "text/plain": [
       "array([1., 1., 1., 1., 1., 1., 1., 1., 1., 1.])"
      ]
     },
     "execution_count": 9,
     "metadata": {},
     "output_type": "execute_result"
    }
   ],
   "source": [
    "array_di_uni = np.ones(10)\n",
    "array_di_uni"
   ]
  },
  {
   "cell_type": "code",
   "execution_count": 10,
   "id": "8af21ff7",
   "metadata": {},
   "outputs": [
    {
     "data": {
      "text/plain": [
       "array([5., 5., 5., 5., 5., 5., 5., 5., 5., 5.])"
      ]
     },
     "execution_count": 10,
     "metadata": {},
     "output_type": "execute_result"
    }
   ],
   "source": [
    "array_di_cinque = np.ones(10)*5 #BROADCAST\n",
    "array_di_cinque"
   ]
  },
  {
   "cell_type": "code",
   "execution_count": 11,
   "id": "38c6f0ae",
   "metadata": {},
   "outputs": [
    {
     "data": {
      "text/plain": [
       "array([   1,    2,    3,    4, 1000])"
      ]
     },
     "execution_count": 11,
     "metadata": {},
     "output_type": "execute_result"
    }
   ],
   "source": [
    "array_da_lista_numeri = np.array([1,2,3,4,1000])\n",
    "array_da_lista_numeri\n",
    "#oppure\n",
    "#lista = [1,2,3,4,1000]\n",
    "#array_da_lista_numeri = np.array(lista)\n",
    "#array_da_lista_numeri"
   ]
  },
  {
   "cell_type": "code",
   "execution_count": 12,
   "id": "2a9d8f44",
   "metadata": {},
   "outputs": [
    {
     "data": {
      "text/plain": [
       "array(['1', '2', '3', '4', '1000', 'ciao'], dtype='<U11')"
      ]
     },
     "execution_count": 12,
     "metadata": {},
     "output_type": "execute_result"
    }
   ],
   "source": [
    "lista = [1,2,3,4,1000,\"ciao\"]\n",
    "array_da_lista_numeri = np.array(lista)\n",
    "array_da_lista_numeri"
   ]
  },
  {
   "cell_type": "code",
   "execution_count": 13,
   "id": "40c11c8b",
   "metadata": {},
   "outputs": [
    {
     "data": {
      "text/plain": [
       "3.0423793671961916"
      ]
     },
     "execution_count": 13,
     "metadata": {},
     "output_type": "execute_result"
    }
   ],
   "source": [
    "np.random.uniform(3,5) #genera un numero float a caso compreso tra due numeri (che metto come parametri), di cui il primo incluso e il secondo escluso"
   ]
  },
  {
   "cell_type": "code",
   "execution_count": 14,
   "id": "9ae3b9ce",
   "metadata": {},
   "outputs": [
    {
     "data": {
      "text/plain": [
       "array([3.85958036, 4.10336593, 4.13086636, 4.59443961, 4.94433366,\n",
       "       3.58934049, 4.97600438, 4.04798749, 4.67367836, 4.5601891 ])"
      ]
     },
     "execution_count": 14,
     "metadata": {},
     "output_type": "execute_result"
    }
   ],
   "source": [
    "float_casuali = np.random.uniform(3,5, 10) #10 = dimensione dell'array, cioè mi genera un array di 10 numeri, cioè la lunghezza dell'array\n",
    "float_casuali"
   ]
  },
  {
   "cell_type": "code",
   "execution_count": 15,
   "id": "11700efa",
   "metadata": {},
   "outputs": [
    {
     "data": {
      "text/plain": [
       "array([2, 3, 3, 3, 5, 1, 6, 3, 3, 5])"
      ]
     },
     "execution_count": 15,
     "metadata": {},
     "output_type": "execute_result"
    }
   ],
   "source": [
    "int_casuali = np.random.randint(1,7,10)\n",
    "int_casuali"
   ]
  },
  {
   "cell_type": "code",
   "execution_count": 16,
   "id": "6491abfa",
   "metadata": {},
   "outputs": [],
   "source": [
    "alice = np.random.randint(1, 7, 10)\n",
    "bob = np.random.randint(1, 7, 10)"
   ]
  },
  {
   "cell_type": "code",
   "execution_count": 17,
   "id": "1b59f323",
   "metadata": {},
   "outputs": [
    {
     "name": "stdout",
     "output_type": "stream",
     "text": [
      "Lanci del dadodi alice [2 5 1 4 2 1 1 6 3 2]\n",
      "Lanci del dadodi bob [6 5 6 1 5 1 3 5 2 3]\n"
     ]
    }
   ],
   "source": [
    "print(f\"Lanci del dadodi alice {alice}\")\n",
    "print(f\"Lanci del dadodi bob {bob}\")"
   ]
  },
  {
   "cell_type": "code",
   "execution_count": 18,
   "id": "0e6f0990",
   "metadata": {},
   "outputs": [
    {
     "data": {
      "text/plain": [
       "array([False, False, False,  True, False, False, False,  True,  True,\n",
       "       False])"
      ]
     },
     "execution_count": 18,
     "metadata": {},
     "output_type": "execute_result"
    }
   ],
   "source": [
    "alice > bob"
   ]
  },
  {
   "cell_type": "code",
   "execution_count": 19,
   "id": "ea6f5e72",
   "metadata": {},
   "outputs": [
    {
     "name": "stdout",
     "output_type": "stream",
     "text": [
      "Alice batte bob 3 volte\n"
     ]
    }
   ],
   "source": [
    "print(f\"Alice batte bob {np.count_nonzero(alice > bob)} volte\")"
   ]
  },
  {
   "cell_type": "code",
   "execution_count": 20,
   "id": "12407932",
   "metadata": {},
   "outputs": [
    {
     "data": {
      "text/plain": [
       "array([False, False, False,  True, False, False, False,  True,  True,\n",
       "       False])"
      ]
     },
     "execution_count": 20,
     "metadata": {},
     "output_type": "execute_result"
    }
   ],
   "source": [
    "vittorie_alice = alice > bob #alice > bob --> array di booleani\n",
    "vittorie_alice"
   ]
  },
  {
   "cell_type": "code",
   "execution_count": 21,
   "id": "e65df971",
   "metadata": {},
   "outputs": [
    {
     "data": {
      "text/plain": [
       "dtype('bool')"
      ]
     },
     "execution_count": 21,
     "metadata": {},
     "output_type": "execute_result"
    }
   ],
   "source": [
    "vittorie_alice.dtype"
   ]
  },
  {
   "cell_type": "code",
   "execution_count": 22,
   "id": "ad0d9a20",
   "metadata": {},
   "outputs": [
    {
     "data": {
      "text/plain": [
       "array([4, 5, 6, 7, 8, 9])"
      ]
     },
     "execution_count": 22,
     "metadata": {},
     "output_type": "execute_result"
    }
   ],
   "source": [
    "array_di_interi = np.arange(4,10)\n",
    "array_di_interi"
   ]
  },
  {
   "cell_type": "code",
   "execution_count": 24,
   "id": "a693871e",
   "metadata": {},
   "outputs": [
    {
     "data": {
      "text/plain": [
       "array([  1,   4,   9,  16,  25,  36,  49,  64,  81, 100])"
      ]
     },
     "execution_count": 24,
     "metadata": {},
     "output_type": "execute_result"
    }
   ],
   "source": [
    "quadrati = np.arange(1, 11)**2\n",
    "quadrati"
   ]
  },
  {
   "cell_type": "code",
   "execution_count": 25,
   "id": "f9f54551",
   "metadata": {},
   "outputs": [
    {
     "data": {
      "text/plain": [
       "array([1, 2, 3, 4])"
      ]
     },
     "execution_count": 25,
     "metadata": {},
     "output_type": "execute_result"
    }
   ],
   "source": [
    "array1 = np.arange(1, 5)\n",
    "array1"
   ]
  },
  {
   "cell_type": "code",
   "execution_count": 26,
   "id": "7b5714b8",
   "metadata": {},
   "outputs": [
    {
     "data": {
      "text/plain": [
       "4"
      ]
     },
     "execution_count": 26,
     "metadata": {},
     "output_type": "execute_result"
    }
   ],
   "source": [
    "len(array1)"
   ]
  },
  {
   "cell_type": "code",
   "execution_count": 27,
   "id": "4f84fd04",
   "metadata": {},
   "outputs": [
    {
     "data": {
      "text/plain": [
       "(4,)"
      ]
     },
     "execution_count": 27,
     "metadata": {},
     "output_type": "execute_result"
    }
   ],
   "source": [
    "array1.shape"
   ]
  },
  {
   "cell_type": "code",
   "execution_count": 28,
   "id": "cf8cb60b",
   "metadata": {},
   "outputs": [
    {
     "data": {
      "text/plain": [
       "array([1., 1., 1., 1.])"
      ]
     },
     "execution_count": 28,
     "metadata": {},
     "output_type": "execute_result"
    }
   ],
   "source": [
    "array2 = np.ones(4)\n",
    "array2"
   ]
  },
  {
   "cell_type": "code",
   "execution_count": 29,
   "id": "dfb4f558",
   "metadata": {},
   "outputs": [
    {
     "data": {
      "text/plain": [
       "dtype('int32')"
      ]
     },
     "execution_count": 29,
     "metadata": {},
     "output_type": "execute_result"
    }
   ],
   "source": [
    "array1.dtype"
   ]
  },
  {
   "cell_type": "code",
   "execution_count": 30,
   "id": "ae32479a",
   "metadata": {},
   "outputs": [
    {
     "data": {
      "text/plain": [
       "dtype('float64')"
      ]
     },
     "execution_count": 30,
     "metadata": {},
     "output_type": "execute_result"
    }
   ],
   "source": [
    "array2.dtype"
   ]
  },
  {
   "cell_type": "code",
   "execution_count": 31,
   "id": "fd4a1504",
   "metadata": {},
   "outputs": [
    {
     "data": {
      "text/plain": [
       "array([2., 3., 4., 5.])"
      ]
     },
     "execution_count": 31,
     "metadata": {},
     "output_type": "execute_result"
    }
   ],
   "source": [
    "somma = array1 + array2\n",
    "somma"
   ]
  },
  {
   "cell_type": "code",
   "execution_count": 32,
   "id": "4d4d22d8",
   "metadata": {},
   "outputs": [
    {
     "data": {
      "text/plain": [
       "dtype('float64')"
      ]
     },
     "execution_count": 32,
     "metadata": {},
     "output_type": "execute_result"
    }
   ],
   "source": [
    "somma.dtype"
   ]
  },
  {
   "cell_type": "markdown",
   "id": "97448c63",
   "metadata": {},
   "source": [
    "## Creazione di array 1D\n",
    "array di zeri:\n",
    "\n",
    "    np.zeros()\n",
    "    \n",
    "array di uni:\n",
    "\n",
    "    np.ones()\n",
    "    \n",
    "array da liste\n",
    "\n",
    "    np.array()\n",
    "    \n",
    "array di interi crescenti:\n",
    "\n",
    "    np.arange()\n",
    "    \n",
    "array pseudocasuali:\n",
    "\n",
    "    np.random.randint()\n",
    "    np.random.uniform()\n",
    "    \n"
   ]
  },
  {
   "cell_type": "markdown",
   "id": "060d0647",
   "metadata": {},
   "source": [
    "## Array pseudo-casuali"
   ]
  },
  {
   "cell_type": "code",
   "execution_count": 33,
   "id": "83ff0849",
   "metadata": {},
   "outputs": [
    {
     "data": {
      "text/plain": [
       "array([1, 1, 1, 1, 2, 2, 2, 2, 1, 1])"
      ]
     },
     "execution_count": 33,
     "metadata": {},
     "output_type": "execute_result"
    }
   ],
   "source": [
    "np.random.randint(1,3,10)"
   ]
  },
  {
   "cell_type": "code",
   "execution_count": 34,
   "id": "898da12a",
   "metadata": {},
   "outputs": [
    {
     "data": {
      "text/plain": [
       "array([180.82305762, 160.10636106, 179.062496  , 190.92388575,\n",
       "       179.29795328, 171.08829084, 177.93506543, 167.40032384,\n",
       "       158.22066005, 157.41316944])"
      ]
     },
     "execution_count": 34,
     "metadata": {},
     "output_type": "execute_result"
    }
   ],
   "source": [
    "np.random.normal(175, 12, 10)"
   ]
  },
  {
   "cell_type": "code",
   "execution_count": 35,
   "id": "6f6a2a38",
   "metadata": {},
   "outputs": [
    {
     "data": {
      "text/plain": [
       "array([173.33857507, 176.31594321, 173.06258415, 172.74652065,\n",
       "       174.33825247, 173.58442495, 176.96350997, 170.56675336,\n",
       "       174.19792997, 178.03493235])"
      ]
     },
     "execution_count": 35,
     "metadata": {},
     "output_type": "execute_result"
    }
   ],
   "source": [
    "np.random.normal(175, 2, 10)"
   ]
  },
  {
   "cell_type": "code",
   "execution_count": 36,
   "id": "3531bfce",
   "metadata": {},
   "outputs": [
    {
     "data": {
      "text/plain": [
       "array([178.3774733 , 175.65771841, 173.53124217, 177.72629983,\n",
       "       175.72509908, 175.50472022, 172.53675826, 178.82991257,\n",
       "       178.18099506, 174.76805305])"
      ]
     },
     "execution_count": 36,
     "metadata": {},
     "output_type": "execute_result"
    }
   ],
   "source": [
    "altezze = np.random.normal(175, 2, 10)\n",
    "altezze"
   ]
  },
  {
   "cell_type": "code",
   "execution_count": 37,
   "id": "12b92d0b",
   "metadata": {},
   "outputs": [
    {
     "data": {
      "text/plain": [
       "176.0838271947136"
      ]
     },
     "execution_count": 37,
     "metadata": {},
     "output_type": "execute_result"
    }
   ],
   "source": [
    "np.mean(altezze)"
   ]
  },
  {
   "cell_type": "code",
   "execution_count": 38,
   "id": "b304ae95",
   "metadata": {},
   "outputs": [
    {
     "data": {
      "text/plain": [
       "2.034008261940196"
      ]
     },
     "execution_count": 38,
     "metadata": {},
     "output_type": "execute_result"
    }
   ],
   "source": [
    "np.std(altezze)"
   ]
  },
  {
   "cell_type": "markdown",
   "id": "e3ffd6f9",
   "metadata": {},
   "source": [
    "## indicizzazione per booleani\n",
    "### Una delle funzioni più potenti di numpy"
   ]
  },
  {
   "cell_type": "code",
   "execution_count": 39,
   "id": "3043151e",
   "metadata": {},
   "outputs": [
    {
     "data": {
      "text/plain": [
       "array([6, 2, 1, 3, 4, 5, 4, 2, 5, 5])"
      ]
     },
     "execution_count": 39,
     "metadata": {},
     "output_type": "execute_result"
    }
   ],
   "source": [
    "lanci_dadi = np.random.randint(1, 7, 10)\n",
    "lanci_dadi"
   ]
  },
  {
   "cell_type": "markdown",
   "id": "6b7c0a79",
   "metadata": {},
   "source": [
    "quali sono i lanci in cui il valore del dado era > 3?"
   ]
  },
  {
   "cell_type": "code",
   "execution_count": 40,
   "id": "4bd5e4bf",
   "metadata": {},
   "outputs": [
    {
     "data": {
      "text/plain": [
       "array([ True, False, False, False,  True,  True,  True, False,  True,\n",
       "        True])"
      ]
     },
     "execution_count": 40,
     "metadata": {},
     "output_type": "execute_result"
    }
   ],
   "source": [
    "lanci_gt_3 = lanci_dadi > 3\n",
    "lanci_gt_3"
   ]
  },
  {
   "cell_type": "code",
   "execution_count": 41,
   "id": "b9214037",
   "metadata": {},
   "outputs": [
    {
     "data": {
      "text/plain": [
       "array([6, 4, 5, 4, 5, 5])"
      ]
     },
     "execution_count": 41,
     "metadata": {},
     "output_type": "execute_result"
    }
   ],
   "source": [
    "lanci_dadi[lanci_gt_3] #indicizzo array con array di booleani"
   ]
  },
  {
   "cell_type": "code",
   "execution_count": 42,
   "id": "98dbc602",
   "metadata": {},
   "outputs": [],
   "source": [
    "nomi = np.array([\"Alice\", \"Bob\", \"Trudy\"])\n",
    "voti = np.array([7, 9, 2])"
   ]
  },
  {
   "cell_type": "markdown",
   "id": "18aaa4b1",
   "metadata": {},
   "source": [
    "quali alunni sono sufficienti?"
   ]
  },
  {
   "cell_type": "code",
   "execution_count": 45,
   "id": "c4ef6d77",
   "metadata": {},
   "outputs": [
    {
     "data": {
      "text/plain": [
       "array(['Alice', 'Bob'], dtype='<U5')"
      ]
     },
     "execution_count": 45,
     "metadata": {},
     "output_type": "execute_result"
    }
   ],
   "source": [
    "nomi[voti >= 6]"
   ]
  },
  {
   "cell_type": "code",
   "execution_count": 46,
   "id": "1bd308c3",
   "metadata": {},
   "outputs": [
    {
     "data": {
      "text/plain": [
       "array([ True,  True, False])"
      ]
     },
     "execution_count": 46,
     "metadata": {},
     "output_type": "execute_result"
    }
   ],
   "source": [
    "voti > 6"
   ]
  },
  {
   "cell_type": "code",
   "execution_count": 48,
   "id": "f62b7ce9",
   "metadata": {},
   "outputs": [],
   "source": [
    "alice = np.random.randint(1, 7, 10)\n",
    "bob = np.random.randint(1, 7, 10)"
   ]
  },
  {
   "cell_type": "code",
   "execution_count": 49,
   "id": "aaecac04",
   "metadata": {},
   "outputs": [
    {
     "data": {
      "text/plain": [
       "array([ True,  True,  True, False, False, False,  True, False,  True,\n",
       "        True])"
      ]
     },
     "execution_count": 49,
     "metadata": {},
     "output_type": "execute_result"
    }
   ],
   "source": [
    "alice > bob"
   ]
  },
  {
   "cell_type": "code",
   "execution_count": 50,
   "id": "72ae7703",
   "metadata": {},
   "outputs": [
    {
     "data": {
      "text/plain": [
       "array([2, 6, 6, 6, 5, 5])"
      ]
     },
     "execution_count": 50,
     "metadata": {},
     "output_type": "execute_result"
    }
   ],
   "source": [
    "alice[alice > bob] ##vettorizzazione"
   ]
  },
  {
   "cell_type": "markdown",
   "id": "965c18f3",
   "metadata": {},
   "source": [
    "### Array bidimensionalià\n",
    "Es: \n",
    "- un'immagine in scale di grigi \n",
    "- un'immagine a colori è costituita da 3 array bidimensionali --> un'immagine da colori è composta da un array bidimensionale per ogni colore, rgb\n",
    "- un'immagine RGBA a colori è costituita da 4 array bidimensionali --> A è la trasparenza credo\n",
    "- i dati in forma di tabella "
   ]
  },
  {
   "cell_type": "code",
   "execution_count": 4,
   "id": "f8e26503",
   "metadata": {},
   "outputs": [
    {
     "data": {
      "text/plain": [
       "array([[0., 0., 0., 0., 0., 0.],\n",
       "       [0., 0., 0., 0., 0., 0.],\n",
       "       [0., 0., 0., 0., 0., 0.]])"
      ]
     },
     "execution_count": 4,
     "metadata": {},
     "output_type": "execute_result"
    }
   ],
   "source": [
    "matrice_di_zeri = np.zeros((3,6))\n",
    "matrice_di_zeri"
   ]
  },
  {
   "cell_type": "code",
   "execution_count": 5,
   "id": "c537739a",
   "metadata": {},
   "outputs": [
    {
     "data": {
      "text/plain": [
       "(3, 6)"
      ]
     },
     "execution_count": 5,
     "metadata": {},
     "output_type": "execute_result"
    }
   ],
   "source": [
    "matrice_di_zeri.shape"
   ]
  },
  {
   "cell_type": "code",
   "execution_count": 6,
   "id": "089889d3",
   "metadata": {},
   "outputs": [
    {
     "data": {
      "text/plain": [
       "array([0., 0., 0., 0., 0., 0., 0.])"
      ]
     },
     "execution_count": 6,
     "metadata": {},
     "output_type": "execute_result"
    }
   ],
   "source": [
    "array1d_di_zeri = np.zeros(7)\n",
    "array1d_di_zeri"
   ]
  },
  {
   "cell_type": "code",
   "execution_count": 7,
   "id": "ff2b14a4",
   "metadata": {},
   "outputs": [
    {
     "data": {
      "text/plain": [
       "(7,)"
      ]
     },
     "execution_count": 7,
     "metadata": {},
     "output_type": "execute_result"
    }
   ],
   "source": [
    "array1d_di_zeri.shape"
   ]
  },
  {
   "cell_type": "code",
   "execution_count": 10,
   "id": "eb9e1443",
   "metadata": {},
   "outputs": [
    {
     "data": {
      "text/plain": [
       "array([[1, 1, 1, 1, 1, 1, 1, 1],\n",
       "       [1, 1, 1, 1, 1, 1, 1, 1],\n",
       "       [1, 1, 1, 1, 1, 1, 1, 1],\n",
       "       [1, 1, 1, 1, 1, 1, 1, 1],\n",
       "       [1, 1, 1, 1, 1, 1, 1, 1],\n",
       "       [1, 1, 1, 1, 1, 1, 1, 1],\n",
       "       [1, 1, 1, 1, 1, 1, 1, 1],\n",
       "       [1, 1, 1, 1, 1, 1, 1, 1],\n",
       "       [1, 1, 1, 1, 1, 1, 1, 1],\n",
       "       [1, 1, 1, 1, 1, 1, 1, 1]], dtype=int8)"
      ]
     },
     "execution_count": 10,
     "metadata": {},
     "output_type": "execute_result"
    }
   ],
   "source": [
    " np.ones((10,8), dtype = np.int8)"
   ]
  },
  {
   "cell_type": "code",
   "execution_count": 17,
   "id": "ed6cc89f",
   "metadata": {},
   "outputs": [
    {
     "data": {
      "text/plain": [
       "array([['1', '2', '3'],\n",
       "       ['4', '5', 'ciao']], dtype='<U11')"
      ]
     },
     "execution_count": 17,
     "metadata": {},
     "output_type": "execute_result"
    }
   ],
   "source": [
    "np.array([[1,2,3],[4,5,\"ciao\"]])"
   ]
  },
  {
   "cell_type": "code",
   "execution_count": 19,
   "id": "be56af8a",
   "metadata": {},
   "outputs": [
    {
     "data": {
      "text/plain": [
       "array([[2, 2],\n",
       "       [4, 1],\n",
       "       [4, 2],\n",
       "       [1, 4],\n",
       "       [1, 6],\n",
       "       [6, 6],\n",
       "       [6, 5],\n",
       "       [3, 4],\n",
       "       [3, 3],\n",
       "       [1, 1]])"
      ]
     },
     "execution_count": 19,
     "metadata": {},
     "output_type": "execute_result"
    }
   ],
   "source": [
    "np.random.randint(1,7 ,(10,2))"
   ]
  },
  {
   "cell_type": "code",
   "execution_count": 20,
   "id": "0a36f239",
   "metadata": {},
   "outputs": [
    {
     "data": {
      "text/plain": [
       "array([[0.593491  , 0.03094846, 0.36484364, 0.73146447],\n",
       "       [0.92341818, 0.70351033, 0.36379308, 0.06421326],\n",
       "       [0.12453453, 0.6797083 , 0.43949964, 0.39268852],\n",
       "       [0.11600717, 0.79824738, 0.07813392, 0.80886564]])"
      ]
     },
     "execution_count": 20,
     "metadata": {},
     "output_type": "execute_result"
    }
   ],
   "source": [
    "np.random.uniform(0, 1, (4,4))"
   ]
  },
  {
   "cell_type": "code",
   "execution_count": 28,
   "id": "37d35ca1",
   "metadata": {},
   "outputs": [
    {
     "data": {
      "text/plain": [
       "array([[[0.57259928, 0.76020349],\n",
       "        [0.86270386, 0.40262411],\n",
       "        [0.50078118, 0.09628925]],\n",
       "\n",
       "       [[0.32031368, 0.81421122],\n",
       "        [0.21649758, 0.57759699],\n",
       "        [0.67653237, 0.18712464]],\n",
       "\n",
       "       [[0.93142939, 0.04274895],\n",
       "        [0.92669866, 0.29192928],\n",
       "        [0.40789424, 0.56661035]]])"
      ]
     },
     "execution_count": 28,
     "metadata": {},
     "output_type": "execute_result"
    }
   ],
   "source": [
    "array_3d = np.random.uniform(0, 1, (3,3,2)) ##ho tre matrici, ciascuna delle quali è 3x2\n",
    "array_3d"
   ]
  },
  {
   "cell_type": "code",
   "execution_count": 29,
   "id": "2450566a",
   "metadata": {},
   "outputs": [
    {
     "data": {
      "text/plain": [
       "(3, 3, 2)"
      ]
     },
     "execution_count": 29,
     "metadata": {},
     "output_type": "execute_result"
    }
   ],
   "source": [
    "array_3d.shape"
   ]
  },
  {
   "cell_type": "markdown",
   "id": "2b780696",
   "metadata": {},
   "source": [
    "### Operazioni matematiche di aggregazione\n",
    "Per esempio:\n",
    "- somma \n",
    "- massimo/minimo\n",
    "- media\n",
    "- deviazione standard\n",
    "- somma cumulata"
   ]
  },
  {
   "cell_type": "code",
   "execution_count": 31,
   "id": "41c8895d",
   "metadata": {},
   "outputs": [
    {
     "data": {
      "text/plain": [
       "5050"
      ]
     },
     "execution_count": 31,
     "metadata": {},
     "output_type": "execute_result"
    }
   ],
   "source": [
    "#somma\n",
    "array = np.arange(1, 101)\n",
    "np.sum(array)"
   ]
  },
  {
   "cell_type": "code",
   "execution_count": 32,
   "id": "fddb16ec",
   "metadata": {},
   "outputs": [
    {
     "data": {
      "text/plain": [
       "array([0.3964051 , 0.71148816, 0.08143462, 0.85446169, 0.50446065,\n",
       "       0.69746995, 0.52456795, 0.52989284, 0.19929318, 0.98536171])"
      ]
     },
     "execution_count": 32,
     "metadata": {},
     "output_type": "execute_result"
    }
   ],
   "source": [
    "#massimo/minimo\n",
    "array = np.random.uniform(0, 1, 10)\n",
    "array"
   ]
  },
  {
   "cell_type": "code",
   "execution_count": 33,
   "id": "37e4278d",
   "metadata": {},
   "outputs": [
    {
     "data": {
      "text/plain": [
       "0.9853617088058958"
      ]
     },
     "execution_count": 33,
     "metadata": {},
     "output_type": "execute_result"
    }
   ],
   "source": [
    "np.max(array) #massimo"
   ]
  },
  {
   "cell_type": "code",
   "execution_count": 34,
   "id": "2e0d41ba",
   "metadata": {},
   "outputs": [
    {
     "data": {
      "text/plain": [
       "0.26444369151731784"
      ]
     },
     "execution_count": 34,
     "metadata": {},
     "output_type": "execute_result"
    }
   ],
   "source": [
    "np.std(array) #deviazione standard"
   ]
  },
  {
   "cell_type": "code",
   "execution_count": 35,
   "id": "2e6ca868",
   "metadata": {},
   "outputs": [
    {
     "data": {
      "text/plain": [
       "array([1., 1., 1., 1., 1., 1., 1., 1., 1., 1.])"
      ]
     },
     "execution_count": 35,
     "metadata": {},
     "output_type": "execute_result"
    }
   ],
   "source": [
    "array_di_uni = np.ones(10)\n",
    "array_di_uni"
   ]
  },
  {
   "cell_type": "code",
   "execution_count": 36,
   "id": "ec916622",
   "metadata": {},
   "outputs": [
    {
     "data": {
      "text/plain": [
       "10.0"
      ]
     },
     "execution_count": 36,
     "metadata": {},
     "output_type": "execute_result"
    }
   ],
   "source": [
    "np.sum(array_di_uni)"
   ]
  },
  {
   "cell_type": "code",
   "execution_count": 37,
   "id": "65cb5bf7",
   "metadata": {},
   "outputs": [
    {
     "data": {
      "text/plain": [
       "array([ 1.,  2.,  3.,  4.,  5.,  6.,  7.,  8.,  9., 10.])"
      ]
     },
     "execution_count": 37,
     "metadata": {},
     "output_type": "execute_result"
    }
   ],
   "source": [
    "np.cumsum(array_di_uni) #primo elemento = al primo, il secondo = somma tra il primo e il secondo"
   ]
  },
  {
   "cell_type": "code",
   "execution_count": 38,
   "id": "37183f0f",
   "metadata": {},
   "outputs": [],
   "source": [
    "prezzo_apple = 178\n",
    "variazioni = np.array([8, 3, -20, 6])"
   ]
  },
  {
   "cell_type": "code",
   "execution_count": 40,
   "id": "26a660eb",
   "metadata": {},
   "outputs": [
    {
     "data": {
      "text/plain": [
       "array([186, 189, 169, 175])"
      ]
     },
     "execution_count": 40,
     "metadata": {},
     "output_type": "execute_result"
    }
   ],
   "source": [
    "prezzo_apple + np.cumsum(variazioni)"
   ]
  },
  {
   "cell_type": "markdown",
   "id": "dbfc9f15",
   "metadata": {},
   "source": [
    "### Cambiare forma agli array"
   ]
  },
  {
   "cell_type": "code",
   "execution_count": 43,
   "id": "7a344f7c",
   "metadata": {},
   "outputs": [
    {
     "data": {
      "text/plain": [
       "array([ 1,  2,  3,  4,  5,  6,  7,  8,  9, 10, 11, 12])"
      ]
     },
     "execution_count": 43,
     "metadata": {},
     "output_type": "execute_result"
    }
   ],
   "source": [
    "array_1d = np.arange(1,13)\n",
    "array_1d"
   ]
  },
  {
   "cell_type": "code",
   "execution_count": 44,
   "id": "b294572d",
   "metadata": {},
   "outputs": [
    {
     "data": {
      "text/plain": [
       "array([[ 1,  2,  3],\n",
       "       [ 4,  5,  6],\n",
       "       [ 7,  8,  9],\n",
       "       [10, 11, 12]])"
      ]
     },
     "execution_count": 44,
     "metadata": {},
     "output_type": "execute_result"
    }
   ],
   "source": [
    "array_1d.reshape((4,3)) ##4,3 --> dimensione dell'array che voglio, che non deve superare 12, cioè tipo 4*3 non deve superare 12\n",
    "                        ## ad esempio 5,6 non va bene perchè 5*6 fa 30 ed è maggiore di 12"
   ]
  },
  {
   "cell_type": "code",
   "execution_count": 45,
   "id": "59fe378d",
   "metadata": {},
   "outputs": [
    {
     "data": {
      "text/plain": [
       "array([[ 1,  2],\n",
       "       [ 3,  4],\n",
       "       [ 5,  6],\n",
       "       [ 7,  8],\n",
       "       [ 9, 10],\n",
       "       [11, 12]])"
      ]
     },
     "execution_count": 45,
     "metadata": {},
     "output_type": "execute_result"
    }
   ],
   "source": [
    "array_1d.reshape((6,2))"
   ]
  },
  {
   "cell_type": "code",
   "execution_count": 47,
   "id": "a53220db",
   "metadata": {},
   "outputs": [
    {
     "data": {
      "text/plain": [
       "array([[ 1,  2,  3,  4],\n",
       "       [ 5,  6,  7,  8],\n",
       "       [ 9, 10, 11, 12]])"
      ]
     },
     "execution_count": 47,
     "metadata": {},
     "output_type": "execute_result"
    }
   ],
   "source": [
    "array_1d.reshape((3,-1)) # -1 vuol dire \"non lo so\", cioè calcola da solo il numero di colonne (in questo caso 4)"
   ]
  },
  {
   "cell_type": "markdown",
   "id": "45f4f97f",
   "metadata": {},
   "source": [
    "### Esercizio\n",
    "Dato n intero, generare l'array 2d in questo modo:\n",
    "\n",
    "    [[1,2,3,...,n],\n",
    "     [1,2,3,...,n],\n",
    "     ...\n",
    "     ...\n",
    "     [1,2,3,...,n]]\n",
    "\n",
    "con n righe\n"
   ]
  },
  {
   "cell_type": "code",
   "execution_count": 53,
   "id": "862d5845",
   "metadata": {},
   "outputs": [
    {
     "data": {
      "text/plain": [
       "array([[1, 2, 3, 0],\n",
       "       [1, 2, 3, 0],\n",
       "       [1, 2, 3, 0],\n",
       "       [1, 2, 3, 0]], dtype=int32)"
      ]
     },
     "execution_count": 53,
     "metadata": {},
     "output_type": "execute_result"
    }
   ],
   "source": [
    "n = 4\n",
    "array1d = np.arange(1, n*n+1)\n",
    "##array1d%n mi dà il resto di tutti i numeri --> divide i numeri per 4 e mi scrive il resto\n",
    "array2d = (array1d%n).reshape((n, -1))\n",
    "array2d"
   ]
  },
  {
   "cell_type": "code",
   "execution_count": 57,
   "id": "e5c7c29b",
   "metadata": {},
   "outputs": [
    {
     "data": {
      "text/plain": [
       "array([[1, 2, 3, 4],\n",
       "       [1, 2, 3, 4],\n",
       "       [1, 2, 3, 4],\n",
       "       [1, 2, 3, 4]])"
      ]
     },
     "execution_count": 57,
     "metadata": {},
     "output_type": "execute_result"
    }
   ],
   "source": [
    "array2d = 1 + np.roll(array2d, 1) #roll fa shiftare in avanti (numero positivo) o indietro (numero negativo)l'array \n",
    "                                #(diventa 0,1,2,3) di quanto voglio, in base al numero (in questo caso di uno), \n",
    "                                #l'1 + davanti fa aumentare di 1 tutti gli elementi\n",
    "array2d"
   ]
  },
  {
   "cell_type": "code",
   "execution_count": 59,
   "id": "1ed8140f",
   "metadata": {},
   "outputs": [
    {
     "data": {
      "text/plain": [
       "array([1, 2, 3, 4, 1, 2, 3, 4, 1, 2, 3, 4, 1, 2, 3, 4])"
      ]
     },
     "execution_count": 59,
     "metadata": {},
     "output_type": "execute_result"
    }
   ],
   "source": [
    "array2d.flatten() #spiattella l'array su una riga unica"
   ]
  },
  {
   "cell_type": "markdown",
   "id": "4a4987d2",
   "metadata": {},
   "source": [
    "### Slicing"
   ]
  },
  {
   "cell_type": "code",
   "execution_count": 61,
   "id": "ce02dc55",
   "metadata": {},
   "outputs": [
    {
     "data": {
      "text/plain": [
       "array([ 1,  2,  3,  4,  5,  6,  7,  8,  9, 10])"
      ]
     },
     "execution_count": 61,
     "metadata": {},
     "output_type": "execute_result"
    }
   ],
   "source": [
    "array1d = np.arange(1,11)\n",
    "array1d"
   ]
  },
  {
   "cell_type": "code",
   "execution_count": 62,
   "id": "9bb8c217",
   "metadata": {},
   "outputs": [
    {
     "data": {
      "text/plain": [
       "4"
      ]
     },
     "execution_count": 62,
     "metadata": {},
     "output_type": "execute_result"
    }
   ],
   "source": [
    "array1d[3]"
   ]
  },
  {
   "cell_type": "code",
   "execution_count": 64,
   "id": "6a3817ef",
   "metadata": {},
   "outputs": [
    {
     "data": {
      "text/plain": [
       "array([4, 5, 6, 7, 8])"
      ]
     },
     "execution_count": 64,
     "metadata": {},
     "output_type": "execute_result"
    }
   ],
   "source": [
    "array1d[3:8]"
   ]
  },
  {
   "cell_type": "code",
   "execution_count": 65,
   "id": "6b831437",
   "metadata": {},
   "outputs": [
    {
     "data": {
      "text/plain": [
       "10"
      ]
     },
     "execution_count": 65,
     "metadata": {},
     "output_type": "execute_result"
    }
   ],
   "source": [
    "array1d[-1]"
   ]
  },
  {
   "cell_type": "code",
   "execution_count": 66,
   "id": "945a409d",
   "metadata": {},
   "outputs": [
    {
     "data": {
      "text/plain": [
       "9"
      ]
     },
     "execution_count": 66,
     "metadata": {},
     "output_type": "execute_result"
    }
   ],
   "source": [
    "array1d[-2]"
   ]
  },
  {
   "cell_type": "code",
   "execution_count": 67,
   "id": "79ee6311",
   "metadata": {},
   "outputs": [
    {
     "data": {
      "text/plain": [
       "array([2, 3, 4, 5, 6, 7, 8, 9])"
      ]
     },
     "execution_count": 67,
     "metadata": {},
     "output_type": "execute_result"
    }
   ],
   "source": [
    "array1d[1:-1]"
   ]
  },
  {
   "cell_type": "code",
   "execution_count": 68,
   "id": "1e7f46ba",
   "metadata": {},
   "outputs": [
    {
     "data": {
      "text/plain": [
       "array([ 2,  3,  4,  5,  6,  7,  8,  9, 10])"
      ]
     },
     "execution_count": 68,
     "metadata": {},
     "output_type": "execute_result"
    }
   ],
   "source": [
    "array1d[1:]"
   ]
  },
  {
   "cell_type": "code",
   "execution_count": 69,
   "id": "e5e576d6",
   "metadata": {},
   "outputs": [
    {
     "data": {
      "text/plain": [
       "array([4, 6, 8])"
      ]
     },
     "execution_count": 69,
     "metadata": {},
     "output_type": "execute_result"
    }
   ],
   "source": [
    "array1d[3:8:2]"
   ]
  },
  {
   "cell_type": "code",
   "execution_count": 70,
   "id": "26d423cd",
   "metadata": {},
   "outputs": [
    {
     "data": {
      "text/plain": [
       "array([[0.77132064, 0.02075195, 0.63364823],\n",
       "       [0.74880388, 0.49850701, 0.22479665],\n",
       "       [0.19806286, 0.76053071, 0.16911084]])"
      ]
     },
     "execution_count": 70,
     "metadata": {},
     "output_type": "execute_result"
    }
   ],
   "source": [
    "np.random.seed(10)\n",
    "array2d = np.random.uniform(0,1, (3,3))\n",
    "array2d"
   ]
  },
  {
   "cell_type": "code",
   "execution_count": 71,
   "id": "d3c9bfb5",
   "metadata": {},
   "outputs": [
    {
     "data": {
      "text/plain": [
       "0.771320643266746"
      ]
     },
     "execution_count": 71,
     "metadata": {},
     "output_type": "execute_result"
    }
   ],
   "source": [
    "array2d[0,0]"
   ]
  },
  {
   "cell_type": "code",
   "execution_count": 72,
   "id": "22d0db99",
   "metadata": {},
   "outputs": [
    {
     "data": {
      "text/plain": [
       "0.22479664553084766"
      ]
     },
     "execution_count": 72,
     "metadata": {},
     "output_type": "execute_result"
    }
   ],
   "source": [
    "array2d[1,2]"
   ]
  },
  {
   "cell_type": "code",
   "execution_count": 73,
   "id": "37da5b81",
   "metadata": {},
   "outputs": [
    {
     "data": {
      "text/plain": [
       "array([0.71148816, 0.08143462, 0.85446169, 0.50446065, 0.69746995,\n",
       "       0.52456795, 0.52989284, 0.19929318, 0.98536171])"
      ]
     },
     "execution_count": 73,
     "metadata": {},
     "output_type": "execute_result"
    }
   ],
   "source": [
    "array[1:]"
   ]
  },
  {
   "cell_type": "code",
   "execution_count": 74,
   "id": "3003bad1",
   "metadata": {},
   "outputs": [
    {
     "data": {
      "text/plain": [
       "array([[0.02075195, 0.63364823],\n",
       "       [0.49850701, 0.22479665],\n",
       "       [0.76053071, 0.16911084]])"
      ]
     },
     "execution_count": 74,
     "metadata": {},
     "output_type": "execute_result"
    }
   ],
   "source": [
    "array2d[:, 1:] #slicing sulle colonne"
   ]
  },
  {
   "cell_type": "code",
   "execution_count": 75,
   "id": "4e7ea77a",
   "metadata": {},
   "outputs": [
    {
     "data": {
      "text/plain": [
       "array([[0.49850701, 0.22479665],\n",
       "       [0.76053071, 0.16911084]])"
      ]
     },
     "execution_count": 75,
     "metadata": {},
     "output_type": "execute_result"
    }
   ],
   "source": [
    "array2d[1:, 1:] #slicing su righe e colonne (righe prima, colonne dopo)"
   ]
  },
  {
   "cell_type": "code",
   "execution_count": 76,
   "id": "021b53b0",
   "metadata": {},
   "outputs": [
    {
     "data": {
      "text/plain": [
       "array([[0.77132064, 0.02075195, 0.63364823],\n",
       "       [0.74880388, 0.        , 0.        ],\n",
       "       [0.19806286, 0.        , 0.        ]])"
      ]
     },
     "execution_count": 76,
     "metadata": {},
     "output_type": "execute_result"
    }
   ],
   "source": [
    "array2d[1:, 1:] = 0\n",
    "array2d"
   ]
  },
  {
   "cell_type": "markdown",
   "id": "581edba8",
   "metadata": {},
   "source": [
    "## Es_1\n",
    "Dato n creare array 1d[0,1,0,1,0,1,0...] tipo int"
   ]
  },
  {
   "cell_type": "code",
   "execution_count": 77,
   "id": "883db585",
   "metadata": {},
   "outputs": [
    {
     "data": {
      "text/plain": [
       "array([0, 1, 0, 1, 0, 1, 0, 1, 0, 1])"
      ]
     },
     "execution_count": 77,
     "metadata": {},
     "output_type": "execute_result"
    }
   ],
   "source": [
    "import numpy as np\n",
    "n = 10\n",
    "array1d = np.zeros(n, dtype=int)\n",
    "array1d[1::2] = 1\n",
    "array1d"
   ]
  },
  {
   "cell_type": "markdown",
   "id": "8154193a",
   "metadata": {},
   "source": [
    "## Es_2\n",
    "Dato n creare array 2d n:\n",
    "\n",
    "    [[0,1,0,1..]\n",
    "    [1,0,1,0,..]\n",
    "    [0,1,0,1,..]\n",
    "    [1,0,1,0,..]]\n",
    "    \n",
    "    "
   ]
  },
  {
   "cell_type": "code",
   "execution_count": 99,
   "id": "bcccbdf5",
   "metadata": {},
   "outputs": [
    {
     "data": {
      "text/plain": [
       "array([[0, 0, 0, 0, 0],\n",
       "       [0, 0, 0, 0, 0],\n",
       "       [0, 0, 0, 0, 0],\n",
       "       [0, 0, 0, 0, 0],\n",
       "       [0, 0, 0, 0, 0]])"
      ]
     },
     "execution_count": 99,
     "metadata": {},
     "output_type": "execute_result"
    }
   ],
   "source": [
    "import numpy as np\n",
    "n = 5\n",
    "array2d = np.zeros((n,n), dtype=int)\n",
    "array2d"
   ]
  },
  {
   "cell_type": "code",
   "execution_count": 100,
   "id": "d7cbc1b4",
   "metadata": {},
   "outputs": [
    {
     "data": {
      "text/plain": [
       "array([[0, 1, 0, 1, 0],\n",
       "       [1, 0, 1, 0, 1],\n",
       "       [0, 1, 0, 1, 0],\n",
       "       [1, 0, 1, 0, 1],\n",
       "       [0, 1, 0, 1, 0]])"
      ]
     },
     "execution_count": 100,
     "metadata": {},
     "output_type": "execute_result"
    }
   ],
   "source": [
    "array2d[::2, 1::2] = 1\n",
    "array2d[1::2, ::2] = 1\n",
    "array2d"
   ]
  },
  {
   "cell_type": "markdown",
   "id": "fa200a20",
   "metadata": {},
   "source": [
    "## Es_3\n",
    "\n",
    "Dato v = np.array([1,2,3,1,-2,4,3,1,2])\n",
    "\n",
    "trovare minimi e massimi locali e globali\n",
    "usare np.roll"
   ]
  },
  {
   "cell_type": "code",
   "execution_count": 12,
   "id": "23074f0c",
   "metadata": {},
   "outputs": [
    {
     "data": {
      "text/plain": [
       "array([ 1,  2,  3,  1, -2,  4,  3,  1,  2])"
      ]
     },
     "execution_count": 12,
     "metadata": {},
     "output_type": "execute_result"
    }
   ],
   "source": [
    "import numpy as np\n",
    "array = np.array([1,2,3,1,-2,4,3,1,2])\n",
    "array"
   ]
  },
  {
   "cell_type": "code",
   "execution_count": 13,
   "id": "d36df14b",
   "metadata": {},
   "outputs": [
    {
     "data": {
      "text/plain": [
       "array([ 2,  1,  2,  3,  1, -2,  4,  3,  1])"
      ]
     },
     "execution_count": 13,
     "metadata": {},
     "output_type": "execute_result"
    }
   ],
   "source": [
    "array_dx = np.roll(array, 1)\n",
    "array_dx"
   ]
  },
  {
   "cell_type": "code",
   "execution_count": 14,
   "id": "57bfed90",
   "metadata": {},
   "outputs": [
    {
     "data": {
      "text/plain": [
       "array([ 2,  3,  1, -2,  4,  3,  1,  2,  1])"
      ]
     },
     "execution_count": 14,
     "metadata": {},
     "output_type": "execute_result"
    }
   ],
   "source": [
    "array_sx = np.roll(array, -1)\n",
    "array_sx"
   ]
  },
  {
   "cell_type": "code",
   "execution_count": 15,
   "id": "0ca153c9",
   "metadata": {},
   "outputs": [
    {
     "data": {
      "text/plain": [
       "array([False, False,  True, False, False,  True, False, False,  True])"
      ]
     },
     "execution_count": 15,
     "metadata": {},
     "output_type": "execute_result"
    }
   ],
   "source": [
    "(array > array_sx) & (array > array_dx)"
   ]
  },
  {
   "cell_type": "code",
   "execution_count": 16,
   "id": "6f7b7f00",
   "metadata": {},
   "outputs": [
    {
     "data": {
      "text/plain": [
       "array([3, 4, 2])"
      ]
     },
     "execution_count": 16,
     "metadata": {},
     "output_type": "execute_result"
    }
   ],
   "source": [
    "array[(array > array_sx) & (array > array_dx)]"
   ]
  },
  {
   "cell_type": "code",
   "execution_count": 17,
   "id": "a6d75f3b",
   "metadata": {},
   "outputs": [
    {
     "data": {
      "text/plain": [
       "array([ 1, -2,  1])"
      ]
     },
     "execution_count": 17,
     "metadata": {},
     "output_type": "execute_result"
    }
   ],
   "source": [
    "array[(array < array_sx) & (array < array_dx)]"
   ]
  },
  {
   "cell_type": "markdown",
   "id": "61463ac1",
   "metadata": {},
   "source": [
    " ### Es 7 pagina 93"
   ]
  },
  {
   "cell_type": "code",
   "execution_count": 18,
   "id": "b9a2787e",
   "metadata": {},
   "outputs": [
    {
     "data": {
      "text/plain": [
       "array([[1, 1, 1, 1, 1, 1, 1, 1, 1, 1],\n",
       "       [1, 2, 2, 2, 2, 2, 2, 2, 2, 1],\n",
       "       [1, 2, 3, 3, 3, 3, 3, 3, 2, 1],\n",
       "       [1, 2, 3, 4, 4, 4, 4, 3, 2, 1],\n",
       "       [1, 2, 3, 4, 5, 5, 4, 3, 2, 1],\n",
       "       [1, 2, 3, 4, 5, 5, 4, 3, 2, 1],\n",
       "       [1, 2, 3, 4, 4, 4, 4, 3, 2, 1],\n",
       "       [1, 2, 3, 3, 3, 3, 3, 3, 2, 1],\n",
       "       [1, 2, 2, 2, 2, 2, 2, 2, 2, 1],\n",
       "       [1, 1, 1, 1, 1, 1, 1, 1, 1, 1]])"
      ]
     },
     "execution_count": 18,
     "metadata": {},
     "output_type": "execute_result"
    }
   ],
   "source": [
    "import numpy as np\n",
    "n = 10\n",
    "cornice = np.ones((n,n), dtype=int)\n",
    "cornice[1:(n-1), 1:(n-1)] = 2\n",
    "cornice[2:(n-2), 2:(n-2)] = 3\n",
    "cornice[3:(n-3), 3:(n-3)] = 4\n",
    "cornice[4:(n-4), 4:(n-4)] = 5\n",
    "cornice"
   ]
  },
  {
   "cell_type": "code",
   "execution_count": 22,
   "id": "e3ec2a3f",
   "metadata": {},
   "outputs": [
    {
     "data": {
      "text/plain": [
       "array([[1, 1, 1, 1, 1, 1, 1, 1, 1, 1],\n",
       "       [1, 2, 2, 2, 2, 2, 2, 2, 2, 1],\n",
       "       [1, 2, 3, 3, 3, 3, 3, 3, 2, 1],\n",
       "       [1, 2, 3, 4, 4, 4, 4, 3, 2, 1],\n",
       "       [1, 2, 3, 4, 5, 5, 4, 3, 2, 1],\n",
       "       [1, 2, 3, 4, 5, 5, 4, 3, 2, 1],\n",
       "       [1, 2, 3, 4, 4, 4, 4, 3, 2, 1],\n",
       "       [1, 2, 3, 3, 3, 3, 3, 3, 2, 1],\n",
       "       [1, 2, 2, 2, 2, 2, 2, 2, 2, 1],\n",
       "       [1, 1, 1, 1, 1, 1, 1, 1, 1, 1]])"
      ]
     },
     "execution_count": 22,
     "metadata": {},
     "output_type": "execute_result"
    }
   ],
   "source": [
    "import numpy as np\n",
    "n = 10\n",
    "cornice = np.ones((n,n), dtype=int)\n",
    "for i in range(0, n//2):\n",
    "    cornice[i:-i, i:-i] += 1\n",
    "cornice"
   ]
  },
  {
   "cell_type": "code",
   "execution_count": 21,
   "id": "ceec6f7e",
   "metadata": {},
   "outputs": [
    {
     "data": {
      "text/plain": [
       "<matplotlib.image.AxesImage at 0x2dd1b00ee10>"
      ]
     },
     "execution_count": 21,
     "metadata": {},
     "output_type": "execute_result"
    },
    {
     "data": {
      "image/png": "[encoded data removed]",
      "text/plain": [
       "<Figure size 640x480 with 1 Axes>"
      ]
     },
     "metadata": {},
     "output_type": "display_data"
    }
   ],
   "source": [
    "import matplotlib.pyplot as plt\n",
    "plt.imshow(cornice)"
   ]
  },
  {
   "cell_type": "markdown",
   "id": "b49d03f1",
   "metadata": {},
   "source": [
    "### Es 9 pagina 93"
   ]
  },
  {
   "cell_type": "code",
   "execution_count": 11,
   "id": "9a6ad760",
   "metadata": {
    "scrolled": true
   },
   "outputs": [
    {
     "data": {
      "text/plain": [
       "array([ 189.99886944,  541.06188327,  179.40356824,   98.81185554,\n",
       "        112.25890112,  142.46873673, -248.91125447,  518.6538768 ,\n",
       "        268.8958521 ,  356.14782564,  147.61428335,  -67.85219918,\n",
       "        215.9270972 ,  174.28053517,  196.61744566,  189.95027552,\n",
       "        187.91528205,   22.59846967,  114.23946732,  452.95964622,\n",
       "        -11.87458135,  443.99075478])"
      ]
     },
     "execution_count": 11,
     "metadata": {},
     "output_type": "execute_result"
    }
   ],
   "source": [
    "import numpy as np\n",
    "mean = 160\n",
    "dev = 195\n",
    "shape = 22\n",
    "ndarray = np.random.normal(mean, dev, shape)\n",
    "ndarray"
   ]
  },
  {
   "cell_type": "markdown",
   "id": "ae6fc1b6",
   "metadata": {},
   "source": [
    "### Es 10 pagina 93"
   ]
  },
  {
   "cell_type": "code",
   "execution_count": 29,
   "id": "8661760e",
   "metadata": {},
   "outputs": [
    {
     "data": {
      "text/plain": [
       "array([2.31754229e+01, 2.16991315e+01, 1.80819428e+01, 1.26359948e+01,\n",
       "       2.20771910e+01, 2.22118660e+01, 9.99999000e+03, 2.27322406e+01,\n",
       "       1.99284294e+01, 2.32791093e+01, 2.17847572e+01, 2.12693615e+01,\n",
       "       2.71420302e+01, 2.26732047e+01, 2.13263095e+01, 2.64988579e+01,\n",
       "       1.77092234e+01, 2.72634946e+01, 2.56315433e+01, 1.58905259e+01,\n",
       "       1.96606250e+01, 1.61364909e+01, 2.27074021e+01, 1.55314028e+01,\n",
       "       1.62999632e+01, 2.52987852e+01, 1.80016388e+01, 1.67614902e+01,\n",
       "       1.72751496e+01, 2.73033379e+01, 1.84570636e+01, 1.74861093e+01,\n",
       "       2.24680828e+01, 1.69463797e+01, 1.72077722e+01, 1.98259660e+01,\n",
       "       1.67006126e+01, 1.81977002e+01, 2.43894953e+01, 1.87299118e+01,\n",
       "       2.26111863e+01, 2.22059161e+01, 1.75218445e+01, 1.75484141e+01,\n",
       "       1.89321343e+01, 2.05644280e+01, 3.24492323e+01, 1.66953408e+01,\n",
       "       1.95161458e+01, 1.87618453e+01, 1.45266682e+01, 1.80951251e+01,\n",
       "       1.42756926e+01, 9.98505121e+00, 2.00236352e+01, 1.34279924e+01,\n",
       "       1.20117250e+01, 1.20442690e+01, 2.98725273e+01, 1.77186773e+01,\n",
       "       1.42150751e+01, 1.98015149e+01, 2.13249116e+01, 2.68766748e+01,\n",
       "       2.01408754e+01, 2.31591087e+01, 9.99999000e+03, 2.41870470e+01,\n",
       "       2.56501973e+01, 1.26632453e+01, 1.86187727e+01, 9.90869274e+00,\n",
       "       9.96154495e+00, 2.00587738e+01, 2.50290363e+01, 2.07316453e+01,\n",
       "       1.76121467e+01, 2.15948635e+01, 1.69962038e+01, 2.99541503e+01,\n",
       "       1.90353292e+01, 1.97716532e+01, 2.58269949e+01, 1.68132780e+01,\n",
       "       3.05085966e+01, 1.90166069e+01, 1.93167610e+01, 1.93729176e+01,\n",
       "       2.20573227e+01, 1.51760055e+01, 2.26646896e+01, 2.19246210e+01,\n",
       "       1.78432859e+01, 1.83321019e+01, 1.07322433e+01, 1.25595349e+01,\n",
       "       1.65582562e+01, 2.50964397e+01, 2.58550749e+01, 2.16823290e+01,\n",
       "       1.89121357e+01, 2.07060441e+01, 1.79615409e+01, 1.64558710e+01,\n",
       "       1.53907791e+01, 1.93992715e+01, 1.62726538e+01, 1.19641479e+01,\n",
       "       1.62316230e+01, 1.14369381e+01, 1.64040926e+01, 2.83404309e+01,\n",
       "       1.30767185e+01, 1.93085579e+01, 2.14379323e+01, 2.53685280e+01,\n",
       "       2.43508432e+01, 1.07598531e+01, 2.12987016e+01, 2.65123411e+01,\n",
       "       2.32783156e+01, 1.11646775e+01, 1.65290221e+01, 1.83130697e+01,\n",
       "       1.68124091e+01, 1.91765535e+01, 2.07868671e+01, 1.82389843e+01,\n",
       "       1.63710959e+01, 1.95194540e+01, 1.92031516e+01, 1.67587480e+01,\n",
       "       1.14091914e+01, 1.24385103e+01, 1.88841998e+01, 1.78934180e+01,\n",
       "       6.26103026e+00, 1.66863679e+01, 1.43553700e+01, 2.40135435e+01,\n",
       "       1.88318559e+01, 2.03839027e+01, 1.89820976e+01, 1.43974236e+01,\n",
       "       2.12533054e+01, 1.92689054e+01, 2.43633879e+01, 2.15894943e+01,\n",
       "       1.73621416e+01, 1.38128537e+01, 1.60981502e+01, 1.16639136e+01,\n",
       "       2.08519116e+01, 1.77274500e+01, 1.33183396e+01, 2.53447558e+01,\n",
       "       2.15910619e+01, 9.99999000e+03, 2.05291979e+01, 1.48488180e+01,\n",
       "       1.02460376e+01, 1.17781646e+01, 1.76917277e+01, 9.45627361e+00,\n",
       "       1.64954252e+01, 1.97564098e+01, 1.95354278e+01, 1.07285783e+01,\n",
       "       1.96474291e+01, 9.99999000e+03, 1.78925642e+01, 1.21538246e+01,\n",
       "       1.19863615e+01, 2.07072374e+01, 8.67773787e+00, 1.63760345e+01,\n",
       "       1.55919997e+01, 1.99805374e+01, 2.26984210e+01, 1.41917668e+01,\n",
       "       1.68430180e+01, 1.82308037e+01, 2.53114889e+01, 1.55928438e+01,\n",
       "       1.32989410e+01, 1.75827145e+01, 7.27357473e+00, 1.19786173e+01,\n",
       "       1.95381895e+01, 2.54097274e+01, 1.74979154e+01, 1.98356410e+01,\n",
       "       1.64063013e+01, 1.31831578e+01, 2.47299804e+01, 2.19048353e+01,\n",
       "       2.17120294e+01, 2.34407181e+01, 1.94104585e+01, 2.04099106e+01,\n",
       "       2.29327979e+01, 1.87279684e+01, 2.09815251e+01, 1.60787735e+01,\n",
       "       2.94651429e+01, 1.00149148e+01, 1.88435209e+01, 1.90800026e+01,\n",
       "       2.26792379e+01, 1.41862348e+01, 1.65811607e+01, 2.71680014e+01,\n",
       "       1.92629660e+01, 2.22592397e+01, 2.41545234e+01, 2.79558691e+01,\n",
       "       2.35854132e+01, 1.64939194e+01, 1.30334182e+01, 1.91240050e+01,\n",
       "       2.15891796e+01, 2.26048960e+01, 1.77528156e+01, 1.78394288e+01,\n",
       "       1.34526208e+01, 1.69124962e+01, 2.65596793e+01, 2.50326966e+01,\n",
       "       1.29359305e+01, 2.39320223e+01, 2.10599271e+01, 2.25050058e+01,\n",
       "       1.88982584e+01, 2.58755829e+01, 2.07242822e+01, 1.64011427e+01,\n",
       "       1.97761972e+01, 1.61476055e+01, 1.87663631e+01, 1.49176913e+01,\n",
       "       2.32883407e+01, 2.28345451e+01, 9.99999000e+03, 1.91724939e+01,\n",
       "       1.20480119e+01, 2.59325824e+01, 2.22762940e+01, 2.08443698e+01,\n",
       "       2.17138488e+01, 2.95082667e+01, 1.73827854e+01, 1.59764190e+01,\n",
       "       9.99999000e+03, 1.89688629e+01, 1.61524572e+01, 2.94108785e+01,\n",
       "       2.40275185e+01, 2.02446337e+01, 1.61006100e+01, 2.64949305e+01,\n",
       "       1.12169568e+01, 1.77587983e+01, 2.33302203e+01, 1.83640915e+01,\n",
       "       1.89152313e+01, 1.53268264e+01, 2.37551736e+01, 2.19867373e+01,\n",
       "       1.80569941e+01, 1.82446842e+01, 2.08619859e+01, 2.31001777e+01,\n",
       "       2.88524173e+01, 1.51068257e+01, 1.59719888e+01, 1.27794248e+01,\n",
       "       2.18418146e+01, 2.45601462e+01, 1.68381521e+01, 2.31383735e+01,\n",
       "       2.46961247e+01, 2.57991405e+01, 1.38262902e+01, 1.74125896e+01,\n",
       "       8.59530490e+00, 1.63258620e+01, 2.99196974e+01, 1.67291209e+01,\n",
       "       1.90243992e+01, 1.71975875e+01, 1.40014369e+01, 1.84748938e+01,\n",
       "       8.81623707e+00, 2.10254497e+01, 1.46100299e+01, 2.29619819e+01,\n",
       "       2.19271775e+01, 2.14449739e+01, 1.61561169e+01, 2.54697061e+01,\n",
       "       2.70632272e+01, 2.29944909e+01, 1.70311768e+01, 2.55104845e+01,\n",
       "       2.45280028e+01, 2.44503861e+01, 1.59162563e+01, 2.34319018e+01,\n",
       "       1.59562021e+01, 2.40934008e+01, 2.01306350e+01, 1.67080029e+01,\n",
       "       1.23668507e+01, 1.81766959e+01, 2.03721226e+01, 2.27273775e+01,\n",
       "       1.98598565e+01, 1.48892314e+01, 2.31638636e+01, 2.78438500e+01,\n",
       "       1.89754036e+01, 1.92464941e+01, 1.94028870e+01, 1.57994732e+01,\n",
       "       2.11464582e+01, 2.50669467e+01, 2.85060970e+01, 1.58665814e+01,\n",
       "       9.99999000e+03, 2.23969921e+01, 1.42420087e+01, 2.20756237e+01,\n",
       "       2.09389478e+01, 2.41364130e+01, 2.37283370e+01, 1.85227129e+01,\n",
       "       2.22581268e+01, 2.16848261e+01, 2.11589619e+01, 2.24857250e+01,\n",
       "       1.68139806e+01, 3.18242458e+01, 1.27009986e+01, 2.12877892e+01,\n",
       "       2.65595305e+01, 1.38140864e+01, 2.61259768e+01, 1.13666396e+01,\n",
       "       2.01325103e+01, 1.33487474e+01, 2.04701814e+01, 2.51627273e+01,\n",
       "       2.09684826e+01, 9.99999000e+03, 2.01387342e+01, 1.80512233e+01,\n",
       "       1.54649432e+01, 2.25492614e+01, 2.13455043e+01, 1.02950848e+01,\n",
       "       1.58091666e+01, 2.05915296e+01, 2.75868601e+01, 1.42576014e+01,\n",
       "       2.47381922e+01, 2.37293599e+01, 1.09779940e+01, 1.66818488e+01,\n",
       "       1.73451541e+01, 2.16388547e+01, 2.15140129e+01, 1.74602032e+01,\n",
       "       1.52397780e+01, 2.11794682e+01, 1.78066956e+01, 2.58188207e+01,\n",
       "       1.94275026e+01, 2.44858906e+01, 1.68990877e+01, 2.18282615e+01,\n",
       "       3.19759069e+01, 1.74368299e+01, 1.62869323e+01, 1.38254725e+01,\n",
       "       1.74696854e+01, 2.23004791e+01, 1.77365116e+01, 1.93287677e+01,\n",
       "       2.26791007e+01, 1.93077557e+01, 2.13611739e+01, 2.41407721e+01,\n",
       "       1.72469248e+01, 2.52137155e+01, 2.30859058e+01, 2.14250480e+01,\n",
       "       1.66897438e+01, 3.08389992e+01, 2.27283606e+01, 1.26196762e+01,\n",
       "       1.77291022e+01, 3.05735556e+01, 1.58058640e+01, 1.92287504e+01,\n",
       "       1.48922433e+01, 2.46114518e+01, 1.49441162e+01, 2.10152493e+01,\n",
       "       2.10557314e+01, 1.44425839e+01, 2.25086327e+01, 1.77211017e+01,\n",
       "       1.63335207e+01, 1.88952091e+01, 1.81254981e+01, 1.37826181e+01,\n",
       "       2.55701126e+01, 1.24596767e+01, 2.36585736e+01, 2.36360468e+01,\n",
       "       2.69717878e+01, 2.62695918e+01, 2.09628509e+01, 1.93726908e+01,\n",
       "       2.38816870e+01, 2.11020713e+01, 2.68998365e+01, 2.94698633e+01,\n",
       "       1.77961011e+01, 1.68770405e+01, 1.67872734e+01, 1.65201979e+01,\n",
       "       1.22587361e+01, 2.74332423e+01, 2.32222484e+01, 2.16653314e+01,\n",
       "       2.26220803e+01, 2.70841103e+01, 2.09207338e+01, 2.24052474e+01,\n",
       "       1.38803115e+01, 2.32489992e+01, 1.11778539e+01, 9.99999000e+03,\n",
       "       2.00236232e+01, 1.68597490e+01, 9.96525727e+00, 3.21553163e+01,\n",
       "       1.88532958e+01, 1.57342946e+01, 9.99999000e+03, 2.24496582e+01,\n",
       "       1.14927236e+01, 2.53719215e+01, 2.36874398e+01, 1.65410213e+01,\n",
       "       9.02121887e+00, 1.53002081e+01, 2.17778748e+01, 2.38963074e+01,\n",
       "       1.62375705e+01, 1.85194562e+01, 2.40041811e+01, 2.02152701e+01,\n",
       "       1.18408118e+01, 1.04862323e+01, 1.67621769e+01, 1.95733521e+01,\n",
       "       1.89464269e+01, 2.26727069e+01, 1.55487526e+01, 2.42315405e+01,\n",
       "       2.12820032e+01, 8.88197840e+00, 1.61901980e+01, 1.91579860e+01,\n",
       "       1.11721911e+01, 1.89383711e+01, 1.41874273e+01, 1.68129951e+01,\n",
       "       1.71680230e+01, 2.27472935e+01, 2.15434191e+01, 1.04178898e+01,\n",
       "       1.83957918e+01, 2.23220934e+01, 1.79895091e+01, 1.36984113e+01,\n",
       "       1.41626089e+01, 1.93615578e+01, 1.81841045e+01, 1.76015455e+01,\n",
       "       2.09965086e+01, 1.89563796e+01, 2.17186034e+01, 1.89493659e+01,\n",
       "       2.11506559e+01, 1.67984613e+01, 1.31195383e+01, 2.25192212e+01,\n",
       "       2.04376160e+01, 1.42407314e+01, 2.46284966e+01, 1.23891854e+01,\n",
       "       1.81978187e+01, 1.65105230e+01, 2.83838536e+01, 2.08308089e+01,\n",
       "       1.51504975e+01, 1.74922467e+01, 2.44155275e+01, 2.41788175e+01,\n",
       "       9.99999000e+03, 2.56872550e+01, 1.57416782e+01, 1.25367237e+01,\n",
       "       1.57200412e+01, 1.75485654e+01, 1.67059486e+01, 1.49056252e+01,\n",
       "       2.20909026e+01, 1.75087395e+01, 2.06259965e+01, 2.02725286e+01,\n",
       "       2.01875275e+01, 1.44359865e+01, 1.27750833e+01, 1.08326542e+01,\n",
       "       1.26681368e+01, 2.14176845e+01, 2.41238726e+01, 9.99999000e+03,\n",
       "       1.76095483e+01, 1.63248987e+01, 1.32126417e+01, 1.77647815e+01,\n",
       "       2.50605894e+01, 2.07239810e+01, 2.33900693e+01, 1.57603309e+01,\n",
       "       1.94652230e+01, 1.66122905e+01, 1.69199649e+01, 2.52427881e+01,\n",
       "       2.40294431e+01, 1.14636103e+01, 1.91557448e+01, 2.24997414e+01,\n",
       "       2.74802091e+01, 1.33866468e+01, 9.99999000e+03, 9.99999000e+03,\n",
       "       1.86494031e+01, 1.57465708e+01, 1.80695736e+01, 1.84294684e+01,\n",
       "       2.51858524e+01, 2.40130979e+01, 1.82601567e+01, 2.62198896e+01,\n",
       "       2.02659894e+01, 2.02660477e+01, 1.58797519e+01, 1.93402690e+01,\n",
       "       1.54394092e+01, 2.00440646e+01, 9.96056189e+00, 1.58735608e+01,\n",
       "       1.68799890e+01, 1.98669342e+01, 2.02527903e+01, 2.03041177e+01,\n",
       "       2.19501666e+01, 1.72841133e+01, 2.71101498e+01, 6.88708790e+00,\n",
       "       2.08436712e+01, 1.23303429e+01, 2.35765937e+01, 2.17304994e+01,\n",
       "       2.31128257e+01, 1.56138826e+01, 1.97567645e+01, 1.51977679e+01,\n",
       "       1.51687130e+01, 2.80474994e+01, 1.59168142e+01, 1.98580585e+01,\n",
       "       1.47932200e+01, 1.87865936e+01, 1.38004826e+01, 2.37081159e+01,\n",
       "       3.34396784e+01, 1.09929940e+01, 1.55729661e+01, 1.41333657e+01,\n",
       "       1.38851089e+01, 1.96014854e+01, 1.40009528e+01, 1.98155616e+01,\n",
       "       1.79704876e+01, 2.36350478e+01, 1.09414191e+01, 1.92430166e+01,\n",
       "       2.82701257e+01, 2.45820053e+01, 1.61142367e+01, 1.20923591e+01,\n",
       "       1.43520149e+01, 2.28452666e+01, 1.39299478e+01, 1.97566497e+01,\n",
       "       2.06469273e+01, 2.36124589e+01, 1.81682790e+01, 1.14453389e+01,\n",
       "       2.77974342e+01, 1.55164485e+01, 1.96354777e+01, 1.54262744e+01,\n",
       "       2.18428379e+01, 7.96852119e+00, 1.46146338e+01, 1.46560232e+01,\n",
       "       1.30227398e+01, 2.28952401e+01, 2.20900471e+01, 1.98206785e+01,\n",
       "       1.60928027e+01, 2.44730605e+01, 1.82869335e+01, 1.57416187e+01,\n",
       "       1.02732832e+01, 1.67246917e+01, 2.07067463e+01, 1.59299396e+01,\n",
       "       2.15120006e+01, 1.32462408e+01, 2.18407950e+01, 1.77847941e+01,\n",
       "       1.41734742e+01, 2.54416007e+01, 1.42847647e+01, 2.30055524e+01,\n",
       "       2.16719509e+01, 2.39334892e+01, 1.01499179e+01, 1.79249337e+01,\n",
       "       2.17029654e+01, 1.72758874e+01, 1.62353930e+01, 2.25202207e+01,\n",
       "       1.55306332e+01, 2.35482660e+01, 1.71236367e+01, 2.76778939e+01,\n",
       "       2.75586569e+01, 1.44523327e+01, 2.18764055e+01, 1.53610753e+01,\n",
       "       1.43116857e+01, 2.02413821e+01, 1.36549884e+01, 1.16615804e+01,\n",
       "       2.69919454e+01, 2.45900599e+01, 1.73963149e+01, 2.41274958e+01,\n",
       "       1.66738920e+01, 2.96123309e+01, 1.49495638e+01, 1.78207543e+01,\n",
       "       2.89576094e+01, 1.15239255e+01, 9.99999000e+03, 1.93688019e+01,\n",
       "       1.57756692e+01, 2.33799829e+01, 2.75741553e+01, 2.63175384e+01,\n",
       "       2.45222267e+01, 2.83099331e+01, 2.22363441e+01, 2.70629289e+01,\n",
       "       1.51115825e+01, 1.96290881e+01, 2.14806657e+01, 2.15182941e+01,\n",
       "       1.92276523e+01, 2.13846892e+01, 1.80863517e+01, 2.22958287e+01,\n",
       "       1.39249572e+01, 2.03479592e+01, 9.99999000e+03, 1.01099169e+01,\n",
       "       2.11950280e+01, 2.29265672e+01, 2.74492839e+01, 2.80129263e+01,\n",
       "       1.76573204e+01, 1.23436970e+01, 1.26696770e+01, 2.22063312e+01,\n",
       "       2.18311280e+01, 1.36129043e+01, 2.20492983e+01, 2.31996588e+01,\n",
       "       9.99999000e+03, 2.27490708e+01, 1.98845921e+01, 2.38063019e+01,\n",
       "       2.23711680e+01, 2.02116185e+01, 1.94179125e+01, 2.16205263e+01,\n",
       "       1.84321925e+01, 1.17763838e+01, 2.31089661e+01, 2.10642937e+01,\n",
       "       1.42687087e+01, 2.39679462e+01, 1.73628945e+01, 1.41102930e+01,\n",
       "       1.37261661e+01, 1.65896191e+01, 1.53559629e+01, 1.31180626e+01,\n",
       "       1.03713618e+01, 2.24048307e+01, 2.19039410e+01, 1.58447115e+01,\n",
       "       2.69699882e+01, 2.14196117e+01, 2.05696137e+01, 1.48170330e+01,\n",
       "       1.69594470e+01, 9.45070597e+00, 1.76321266e+01, 1.60684880e+01,\n",
       "       2.94621753e+01, 1.46144953e+01, 1.66368109e+01, 2.18843045e+01,\n",
       "       1.99524308e+01, 2.11373980e+01, 1.68624527e+01, 1.87363028e+01,\n",
       "       1.94862714e+01, 2.23315194e+01, 1.99858610e+01, 2.28970002e+01,\n",
       "       1.21775147e+01, 2.41890288e+01, 1.61348054e+01, 2.28210666e+01,\n",
       "       2.38563900e+01, 1.79665353e+01, 5.87667073e+00, 1.03538909e+01,\n",
       "       2.53034256e+01, 1.94574204e+01, 1.84262835e+01, 1.09017740e+01,\n",
       "       1.95686696e+01, 9.99999000e+03, 2.83698286e+01, 1.65271909e+01,\n",
       "       1.46371541e+01, 2.23810143e+01, 2.04098058e+01, 2.07896735e+01,\n",
       "       1.65518859e+01, 2.65119721e+01, 2.22235115e+01, 1.92958864e+01,\n",
       "       2.35572625e+01, 2.74821669e+01, 2.03696522e+01, 1.99602784e+01,\n",
       "       2.33211478e+01, 1.14459193e+01, 2.60898210e+01, 1.68952542e+01,\n",
       "       1.29706976e+01, 1.96320948e+01, 2.46203859e+01, 1.21858939e+01,\n",
       "       2.43502374e+01, 1.60695180e+01, 1.81826061e+01, 1.73048467e+01,\n",
       "       2.05843360e+01, 1.81905869e+01, 2.46577391e+01, 1.69318223e+01,\n",
       "       1.92473944e+01, 2.20066810e+01, 2.87748035e+01, 2.72879773e+01,\n",
       "       1.72049032e+01, 8.93307000e+00, 1.76844046e+01, 2.10420086e+01,\n",
       "       1.42195708e+01, 1.84843848e+01, 1.92133573e+01, 1.31824855e+01,\n",
       "       1.68189080e+01, 1.73579853e+01, 2.18776349e+01, 2.33643562e+01,\n",
       "       5.23538532e+00, 1.08675876e+01, 1.90064217e+01, 1.45713065e+01,\n",
       "       1.78086035e+01, 2.06566482e+01, 1.37972684e+01, 2.19621517e+01,\n",
       "       3.16468610e+01, 9.83316883e+00, 1.98172202e+01, 2.00270562e+01,\n",
       "       1.94413924e+01, 2.49697939e+01, 2.64659684e+01, 2.37097492e+01,\n",
       "       2.00909859e+01, 1.26023131e+01, 8.26682128e+00, 1.65047467e+01,\n",
       "       1.70665631e+01, 1.75222521e+01, 1.30888830e+01, 2.10678619e+01,\n",
       "       1.42008783e+01, 1.17509891e+01, 2.21110478e+01, 2.21613872e+01,\n",
       "       1.27888037e+01, 2.32180584e+01, 2.41109714e+01, 2.03680989e+01,\n",
       "       2.33309495e+01, 1.86996064e+01, 2.44438565e+01, 1.78237004e+01,\n",
       "       2.29545884e+01, 2.17192890e+01, 1.14116149e+01, 2.60259580e+01,\n",
       "       1.39864158e+01, 2.07627269e+01, 1.84146533e+01, 1.69822419e+01,\n",
       "       2.25825472e+01, 1.64562020e+01, 1.74804636e+01, 1.60301280e+01,\n",
       "       1.90267900e+01, 1.21454791e+01, 2.07217690e+01, 2.03427385e+01,\n",
       "       1.42683213e+01, 1.22897699e+01, 2.26456010e+01, 1.72220983e+01,\n",
       "       1.65722628e+01, 2.56411793e+01, 2.53264058e+01, 1.22096820e+01,\n",
       "       2.21373333e+01, 2.40764032e+01, 1.10586782e+01, 2.15593358e+01,\n",
       "       1.51898069e+01, 2.41274866e+01, 1.13946238e+01, 7.09774425e+00,\n",
       "       2.26217273e+01, 2.34272450e+01, 2.39120139e+01, 1.96211311e+01,\n",
       "       2.09721116e+01, 1.55926201e+01, 1.68734174e+01, 1.67443019e+01,\n",
       "       1.92675631e+01, 2.13197268e+01, 1.81044727e+01, 2.02144364e+01,\n",
       "       2.48604935e+01, 2.26191352e+01, 9.99999000e+03, 1.58709583e+01,\n",
       "       1.26014732e+01, 2.00417709e+01, 1.85200864e+01, 2.35559179e+01,\n",
       "       2.01825853e+01, 1.67375577e+01, 2.40218355e+01, 1.82527074e+01,\n",
       "       2.32484554e+01, 2.49311348e+01, 2.48472441e+01, 2.47506724e+01,\n",
       "       2.00220719e+01, 1.83878258e+01, 2.06138324e+01, 2.03130808e+01,\n",
       "       1.93106822e+01, 2.54896580e+01, 1.80144777e+01, 1.37946761e+01,\n",
       "       1.69714537e+01, 2.15270901e+01, 2.25226977e+01, 2.02278111e+01,\n",
       "       1.82001941e+01, 1.69484139e+01, 2.39322639e+01, 1.61437727e+01,\n",
       "       2.64352686e+01, 1.92844316e+01, 1.82483076e+01, 1.74569946e+01,\n",
       "       2.27565454e+01, 1.48687700e+01, 9.65566329e+00, 2.48875450e+01,\n",
       "       1.56909792e+01, 1.50436592e+01, 1.99558974e+01, 1.65199816e+01,\n",
       "       1.02867421e+01, 2.15714483e+01, 1.84970017e+01, 1.73031636e+01,\n",
       "       1.99897113e+01, 2.29979686e+01, 2.18279274e+01, 1.59162669e+01,\n",
       "       1.17836240e+01, 1.51158274e+01, 2.10508343e+01, 1.12029504e+01,\n",
       "       1.66081709e+01, 1.91975054e+01, 2.04980148e+01, 1.59809963e+01,\n",
       "       2.90370476e+01, 1.65519948e+01, 2.33338993e+01, 1.53847144e+01,\n",
       "       1.93135252e+01, 2.36957830e+01, 2.18778053e+01, 1.75417333e+01,\n",
       "       1.86515242e+01, 1.57619553e+01, 1.45585894e+01, 1.95690568e+01,\n",
       "       1.93097480e+01, 1.83018815e+01, 2.72922216e+01, 9.99999000e+03,\n",
       "       1.08101280e+01, 2.34280936e+01, 1.94715914e+01, 1.89341647e+01,\n",
       "       2.40753890e+01, 1.59753348e+01, 2.20454171e+01, 3.72575855e+00,\n",
       "       1.53931088e+01, 1.50237397e+01, 1.73999382e+01, 1.35187630e+01,\n",
       "       2.18918015e+01, 1.68331222e+01, 2.14710830e+01, 2.32259985e+01,\n",
       "       1.80742169e+01, 1.39356787e+01, 2.21593250e+01, 1.26689828e+01,\n",
       "       2.44043965e+01, 1.78869558e+01, 1.47032204e+01, 1.99810704e+01,\n",
       "       2.05004489e+01, 2.45636447e+01, 1.65840788e+01, 2.29196329e+01,\n",
       "       2.59794952e+01, 2.01919432e+01, 1.76270501e+01, 1.79686367e+01])"
      ]
     },
     "execution_count": 29,
     "metadata": {},
     "output_type": "execute_result"
    }
   ],
   "source": [
    "import numpy as np\n",
    "n = 1000\n",
    "pm10 = np.random.normal(19,5,n)\n",
    "pm10[np.random.randint(0,n,20)] = 9999.99\n",
    "pm10"
   ]
  },
  {
   "cell_type": "code",
   "execution_count": null,
   "id": "47ef04dd",
   "metadata": {},
   "outputs": [],
   "source": []
  }
 ],
 "metadata": {
  "celltoolbar": "Raw Cell Format",
  "kernelspec": {
   "display_name": "Python 3 (ipykernel)",
   "language": "python",
   "name": "python3"
  },
  "language_info": {
   "codemirror_mode": {
    "name": "ipython",
    "version": 3
   },
   "file_extension": ".py",
   "mimetype": "text/x-python",
   "name": "python",
   "nbconvert_exporter": "python",
   "pygments_lexer": "ipython3",
   "version": "3.11.4"
  }
 },
 "nbformat": 4,
 "nbformat_minor": 5
}
