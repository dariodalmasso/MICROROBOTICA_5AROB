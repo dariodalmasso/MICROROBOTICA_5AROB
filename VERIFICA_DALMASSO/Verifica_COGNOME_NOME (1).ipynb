{
 "cells": [
  {
   "cell_type": "markdown",
   "id": "44ce9d47",
   "metadata": {},
   "source": [
    "# Verifica su Python e Numpy\n",
    "### COGNOME NOME"
   ]
  },
  {
   "cell_type": "code",
   "execution_count": 8,
   "id": "6f9ac6d2",
   "metadata": {},
   "outputs": [],
   "source": [
    "import numpy as np\n",
    "import matplotlib.pyplot as plt"
   ]
  },
  {
   "cell_type": "markdown",
   "id": "8446b35f",
   "metadata": {},
   "source": [
    "## ESERCIZIO 1\n",
    "Crea un numpy array unidimensionale che contenga tutti i numeri interi tra 2 e 1000 (estremi inclusi), ma nel quale tutti i numeri divisibili per 7 sono sostituiti da uno 0. Infine crea un array contenente tutti i numeri interi tra 2 e 1000 (estremi inclusi) ma privo di tutti i numeri divisibili per 7."
   ]
  },
  {
   "cell_type": "code",
   "execution_count": null,
   "id": "c238539f",
   "metadata": {},
   "outputs": [],
   "source": [
    "\n"
   ]
  },
  {
   "cell_type": "markdown",
   "id": "67ec09e9",
   "metadata": {},
   "source": [
    "## ESERCIZIO 2 (Facoltativo per DSA)\n",
    "Usa numpy per creare l'immagine seguente (n x n). L'intensità del colore aumenta sia lungo le colonne sia lungo le righe. L'intensità di colore di ogni riga è sempre maggiore della riga precedente.\n",
    "\n",
    "Per esempio con n = 10:\n",
    "\n",
    "![matrice](matrice.png)\n",
    "\n",
    "Codice per visualizzare l'immagine:\n",
    "\n",
    "    plt.imshow(mat, cmap=\"Blues\")"
   ]
  },
  {
   "cell_type": "code",
   "execution_count": 9,
   "id": "58177ffd",
   "metadata": {},
   "outputs": [],
   "source": [
    "#soluzione qui"
   ]
  },
  {
   "cell_type": "markdown",
   "id": "dfbbb094",
   "metadata": {},
   "source": [
    "## ESERCIZIO 3\n",
    "All'interno dello stesso grafico traccia gli andamenti delle seguenti funzioni per valori di $x \\in [-2\\pi,2\\pi]$:\n",
    "\n",
    "- $f(x) = \\frac{\\sin(x)}{x}$ (usa la funzione `np.sin()`)\n",
    "- $g(x) = e^{-x^2} $ (usa funzione `np.exp()` per l'esponenziale)\n",
    "- $h(x) = f(x)-g(x)$"
   ]
  },
  {
   "cell_type": "code",
   "execution_count": 10,
   "id": "53545f80",
   "metadata": {},
   "outputs": [],
   "source": [
    "#soluzione qui"
   ]
  },
  {
   "cell_type": "markdown",
   "id": "c681a56c",
   "metadata": {},
   "source": [
    "## ESERCIZIO 4\n",
    "Dato `n`numero intero dispari maggiore o uguale a 5 crea una matrice di numpy che abbia la struttura seguente.\n",
    "\n",
    "La cornice della matrice deve essere composta di numeri pseudocasuali compresi tra 0 e 1, mentre l'interno deve essere riempito di 0 tranne nella riga e nella colonna mediane, le quali conterrano degli 1.\n",
    "\n",
    "Per esempio per n=5:\n",
    "\n",
    "    [[0.54619729, 0.80300612, 0.45894256, 0.67077658, 0.71578404],\n",
    "     [0.51791038, 0.        , 1.        , 0.        , 0.81375618],\n",
    "     [0.8230843 , 1.        , 1.        , 1.        , 0.48473322],\n",
    "     [0.87689576, 0.        , 1.        , 0.        , 0.58361921],\n",
    "     [0.13940942, 0.83365168, 0.03049039, 0.92278332, 0.69799144]]\n",
    " "
   ]
  },
  {
   "cell_type": "code",
   "execution_count": 11,
   "id": "dd7a28bb",
   "metadata": {},
   "outputs": [],
   "source": [
    "#soluzione qui"
   ]
  },
  {
   "cell_type": "markdown",
   "id": "e75da7dd",
   "metadata": {},
   "source": [
    "## ESERCIZIO 5\n",
    "Il file *robots.txt* contiene un frammento del vero file *robots.txt* di un importante quotidiano online. Tutte le righe che iniziano con la parola chiave `Disallow:` contengono le URL di pagine del quotidiano alle quali i software automatici di web crawling o di indicizzazione non dovrebbero mai accedere. La prima directory della URL indica la tipologia di notizia a cui punta l'URL. Per esempio la riga `Disallow: /economia/finanza-personale/2010/Prova-Metadati_a1b5a008-f178-11df-8c4b-00144f02aabc.shtml`fa riferimento a una notizia di **economia**.\n",
    "\n",
    "Crea un programma in Python 3 che legga il file e generi un dizionario in cui:\n",
    "* la chiave è la tipologia di notizia,\n",
    "* il valore è il numero di notizie di quella tipologia."
   ]
  },
  {
   "cell_type": "code",
   "execution_count": 12,
   "id": "744604f2",
   "metadata": {},
   "outputs": [],
   "source": [
    "#soluzione qui"
   ]
  }
 ],
 "metadata": {
  "kernelspec": {
   "display_name": "Python 3 (ipykernel)",
   "language": "python",
   "name": "python3"
  },
  "language_info": {
   "codemirror_mode": {
    "name": "ipython",
    "version": 3
   },
   "file_extension": ".py",
   "mimetype": "text/x-python",
   "name": "python",
   "nbconvert_exporter": "python",
   "pygments_lexer": "ipython3",
   "version": "3.10.7"
  }
 },
 "nbformat": 4,
 "nbformat_minor": 5
}
