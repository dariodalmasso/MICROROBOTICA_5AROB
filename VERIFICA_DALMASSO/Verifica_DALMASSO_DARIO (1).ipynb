{
 "cells": [
  {
   "cell_type": "markdown",
   "id": "44ce9d47",
   "metadata": {},
   "source": [
    "# Verifica su Python e Numpy\n",
    "### DALMASSO DARIO"
   ]
  },
  {
   "cell_type": "code",
   "execution_count": 1626,
   "id": "6f9ac6d2",
   "metadata": {},
   "outputs": [],
   "source": [
    "import numpy as np\n",
    "import matplotlib.pyplot as plt\n",
    "import random"
   ]
  },
  {
   "cell_type": "markdown",
   "id": "8446b35f",
   "metadata": {},
   "source": [
    "## ESERCIZIO 1\n",
    "Crea un numpy array unidimensionale che contenga tutti i numeri interi tra 2 e 1000 (estremi inclusi), ma nel quale tutti i numeri divisibili per 7 sono sostituiti da uno 0. Infine crea un array contenente tutti i numeri interi tra 2 e 1000 (estremi inclusi) ma privo di tutti i numeri divisibili per 7."
   ]
  },
  {
   "cell_type": "markdown",
   "metadata": {},
   "source": []
  },
  {
   "cell_type": "code",
   "execution_count": 1627,
   "id": "c238539f",
   "metadata": {},
   "outputs": [
    {
     "data": {
      "text/plain": [
       "array([  3,   4,   5,   6,   7,   8,   9,  10,  11,  12,  13,  14,  15,\n",
       "        16,  17,  18,  19,  20,  21,  22,  23,  24,  25,  26,  27,  28,\n",
       "        29,  30,  31,  32,  33,  34,  35,  36,  37,  38,  39,  40,  41,\n",
       "        42,  43,  44,  45,  46,  47,  48,  49,  50,  51,  52,  53,  54,\n",
       "        55,  56,  57,  58,  59,  60,  61,  62,  63,  64,  65,  66,  67,\n",
       "        68,  69,  70,  71,  72,  73,  74,  75,  76,  77,  78,  79,  80,\n",
       "        81,  82,  83,  84,  85,  86,  87,  88,  89,  90,  91,  92,  93,\n",
       "        94,  95,  96,  97,  98,  99, 100, 101, 102, 103, 104, 105, 106,\n",
       "       107, 108, 109, 110, 111, 112, 113, 114, 115, 116, 117, 118, 119,\n",
       "       120, 121, 122, 123, 124, 125, 126, 127, 128, 129, 130, 131, 132,\n",
       "       133, 134, 135, 136, 137, 138, 139, 140, 141, 142, 143, 144, 145,\n",
       "       146, 147, 148, 149, 150, 151, 152, 153, 154, 155, 156, 157, 158,\n",
       "       159, 160, 161, 162, 163, 164, 165, 166, 167, 168, 169, 170, 171,\n",
       "       172, 173, 174, 175, 176, 177, 178, 179, 180, 181, 182, 183, 184,\n",
       "       185, 186, 187, 188, 189, 190, 191, 192, 193, 194, 195, 196, 197,\n",
       "       198, 199, 200, 201, 202, 203, 204, 205, 206, 207, 208, 209, 210,\n",
       "       211, 212, 213, 214, 215, 216, 217, 218, 219, 220, 221, 222, 223,\n",
       "       224, 225, 226, 227, 228, 229, 230, 231, 232, 233, 234, 235, 236,\n",
       "       237, 238, 239, 240, 241, 242, 243, 244, 245, 246, 247, 248, 249,\n",
       "       250, 251, 252, 253, 254, 255, 256, 257, 258, 259, 260, 261, 262,\n",
       "       263, 264, 265, 266, 267, 268, 269, 270, 271, 272, 273, 274, 275,\n",
       "       276, 277, 278, 279, 280, 281, 282, 283, 284, 285, 286, 287, 288,\n",
       "       289, 290, 291, 292, 293, 294, 295, 296, 297, 298, 299, 300, 301,\n",
       "       302, 303, 304, 305, 306, 307, 308, 309, 310, 311, 312, 313, 314,\n",
       "       315, 316, 317, 318, 319, 320, 321, 322, 323, 324, 325, 326, 327,\n",
       "       328, 329, 330, 331, 332, 333, 334, 335, 336, 337, 338, 339, 340,\n",
       "       341, 342, 343, 344, 345, 346, 347, 348, 349, 350, 351, 352, 353,\n",
       "       354, 355, 356, 357, 358, 359, 360, 361, 362, 363, 364, 365, 366,\n",
       "       367, 368, 369, 370, 371, 372, 373, 374, 375, 376, 377, 378, 379,\n",
       "       380, 381, 382, 383, 384, 385, 386, 387, 388, 389, 390, 391, 392,\n",
       "       393, 394, 395, 396, 397, 398, 399, 400, 401, 402, 403, 404, 405,\n",
       "       406, 407, 408, 409, 410, 411, 412, 413, 414, 415, 416, 417, 418,\n",
       "       419, 420, 421, 422, 423, 424, 425, 426, 427, 428, 429, 430, 431,\n",
       "       432, 433, 434, 435, 436, 437, 438, 439, 440, 441, 442, 443, 444,\n",
       "       445, 446, 447, 448, 449, 450, 451, 452, 453, 454, 455, 456, 457,\n",
       "       458, 459, 460, 461, 462, 463, 464, 465, 466, 467, 468, 469, 470,\n",
       "       471, 472, 473, 474, 475, 476, 477, 478, 479, 480, 481, 482, 483,\n",
       "       484, 485, 486, 487, 488, 489, 490, 491, 492, 493, 494, 495, 496,\n",
       "       497, 498, 499, 500, 501, 502, 503, 504, 505, 506, 507, 508, 509,\n",
       "       510, 511, 512, 513, 514, 515, 516, 517, 518, 519, 520, 521, 522,\n",
       "       523, 524, 525, 526, 527, 528, 529, 530, 531, 532, 533, 534, 535,\n",
       "       536, 537, 538, 539, 540, 541, 542, 543, 544, 545, 546, 547, 548,\n",
       "       549, 550, 551, 552, 553, 554, 555, 556, 557, 558, 559, 560, 561,\n",
       "       562, 563, 564, 565, 566, 567, 568, 569, 570, 571, 572, 573, 574,\n",
       "       575, 576, 577, 578, 579, 580, 581, 582, 583, 584, 585, 586, 587,\n",
       "       588, 589, 590, 591, 592, 593, 594, 595, 596, 597, 598, 599, 600,\n",
       "       601, 602, 603, 604, 605, 606, 607, 608, 609, 610, 611, 612, 613,\n",
       "       614, 615, 616, 617, 618, 619, 620, 621, 622, 623, 624, 625, 626,\n",
       "       627, 628, 629, 630, 631, 632, 633, 634, 635, 636, 637, 638, 639,\n",
       "       640, 641, 642, 643, 644, 645, 646, 647, 648, 649, 650, 651, 652,\n",
       "       653, 654, 655, 656, 657, 658, 659, 660, 661, 662, 663, 664, 665,\n",
       "       666, 667, 668, 669, 670, 671, 672, 673, 674, 675, 676, 677, 678,\n",
       "       679, 680, 681, 682, 683, 684, 685, 686, 687, 688, 689, 690, 691,\n",
       "       692, 693, 694, 695, 696, 697, 698, 699, 700, 701, 702, 703, 704,\n",
       "       705, 706, 707, 708, 709, 710, 711, 712, 713, 714, 715, 716, 717,\n",
       "       718, 719, 720, 721, 722, 723, 724, 725, 726, 727, 728, 729, 730,\n",
       "       731, 732, 733, 734, 735, 736, 737, 738, 739, 740, 741, 742, 743,\n",
       "       744, 745, 746, 747, 748, 749, 750, 751, 752, 753, 754, 755, 756,\n",
       "       757, 758, 759, 760, 761, 762, 763, 764, 765, 766, 767, 768, 769,\n",
       "       770, 771, 772, 773, 774, 775, 776, 777, 778, 779, 780, 781, 782,\n",
       "       783, 784, 785, 786, 787, 788, 789, 790, 791, 792, 793, 794, 795,\n",
       "       796, 797, 798, 799, 800, 801, 802, 803, 804, 805, 806, 807, 808,\n",
       "       809, 810, 811, 812, 813, 814, 815, 816, 817, 818, 819, 820, 821,\n",
       "       822, 823, 824, 825, 826, 827, 828, 829, 830, 831, 832, 833, 834,\n",
       "       835, 836, 837, 838, 839, 840, 841, 842, 843, 844, 845, 846, 847,\n",
       "       848, 849, 850, 851, 852, 853, 854, 855, 856, 857, 858, 859, 860,\n",
       "       861, 862, 863, 864, 865, 866, 867, 868, 869, 870, 871, 872, 873,\n",
       "       874, 875, 876, 877, 878, 879, 880, 881, 882, 883, 884, 885, 886,\n",
       "       887, 888, 889, 890, 891, 892, 893, 894, 895, 896, 897, 898, 899,\n",
       "       900, 901, 902, 903, 904, 905, 906, 907, 908, 909, 910, 911, 912,\n",
       "       913, 914, 915, 916, 917, 918, 919, 920, 921, 922, 923, 924, 925,\n",
       "       926, 927, 928, 929, 930, 931, 932, 933, 934, 935, 936, 937, 938,\n",
       "       939, 940, 941, 942, 943, 944, 945, 946, 947, 948, 949, 950, 951,\n",
       "       952, 953, 954, 955, 956, 957, 958, 959, 960, 961, 962, 963, 964,\n",
       "       965, 966, 967, 968, 969, 970, 971, 972, 973, 974, 975, 976, 977,\n",
       "       978, 979, 980, 981, 982, 983, 984, 985, 986, 987, 988, 989, 990,\n",
       "       991, 992, 993, 994, 995, 996, 997, 998, 999])"
      ]
     },
     "execution_count": 1627,
     "metadata": {},
     "output_type": "execute_result"
    }
   ],
   "source": [
    "\n",
    "array=np.arange(2+1,1000)\n",
    "array"
   ]
  },
  {
   "cell_type": "code",
   "execution_count": 1628,
   "metadata": {},
   "outputs": [
    {
     "data": {
      "text/plain": [
       "array([  3,   4,   5,   6,   0,   8,   9,  10,  11,  12,  13,   0,  15,\n",
       "        16,  17,  18,  19,  20,   0,  22,  23,  24,  25,  26,  27,   0,\n",
       "        29,  30,  31,  32,  33,  34,   0,  36,  37,  38,  39,  40,  41,\n",
       "         0,  43,  44,  45,  46,  47,  48,   0,  50,  51,  52,  53,  54,\n",
       "        55,   0,  57,  58,  59,  60,  61,  62,   0,  64,  65,  66,  67,\n",
       "        68,  69,   0,  71,  72,  73,  74,  75,  76,   0,  78,  79,  80,\n",
       "        81,  82,  83,   0,  85,  86,  87,  88,  89,  90,   0,  92,  93,\n",
       "        94,  95,  96,  97,   0,  99, 100, 101, 102, 103, 104,   0, 106,\n",
       "       107, 108, 109, 110, 111,   0, 113, 114, 115, 116, 117, 118,   0,\n",
       "       120, 121, 122, 123, 124, 125,   0, 127, 128, 129, 130, 131, 132,\n",
       "         0, 134, 135, 136, 137, 138, 139,   0, 141, 142, 143, 144, 145,\n",
       "       146,   0, 148, 149, 150, 151, 152, 153,   0, 155, 156, 157, 158,\n",
       "       159, 160,   0, 162, 163, 164, 165, 166, 167,   0, 169, 170, 171,\n",
       "       172, 173, 174,   0, 176, 177, 178, 179, 180, 181,   0, 183, 184,\n",
       "       185, 186, 187, 188,   0, 190, 191, 192, 193, 194, 195,   0, 197,\n",
       "       198, 199, 200, 201, 202,   0, 204, 205, 206, 207, 208, 209,   0,\n",
       "       211, 212, 213, 214, 215, 216,   0, 218, 219, 220, 221, 222, 223,\n",
       "         0, 225, 226, 227, 228, 229, 230,   0, 232, 233, 234, 235, 236,\n",
       "       237,   0, 239, 240, 241, 242, 243, 244,   0, 246, 247, 248, 249,\n",
       "       250, 251,   0, 253, 254, 255, 256, 257, 258,   0, 260, 261, 262,\n",
       "       263, 264, 265,   0, 267, 268, 269, 270, 271, 272,   0, 274, 275,\n",
       "       276, 277, 278, 279,   0, 281, 282, 283, 284, 285, 286,   0, 288,\n",
       "       289, 290, 291, 292, 293,   0, 295, 296, 297, 298, 299, 300,   0,\n",
       "       302, 303, 304, 305, 306, 307,   0, 309, 310, 311, 312, 313, 314,\n",
       "         0, 316, 317, 318, 319, 320, 321,   0, 323, 324, 325, 326, 327,\n",
       "       328,   0, 330, 331, 332, 333, 334, 335,   0, 337, 338, 339, 340,\n",
       "       341, 342,   0, 344, 345, 346, 347, 348, 349,   0, 351, 352, 353,\n",
       "       354, 355, 356,   0, 358, 359, 360, 361, 362, 363,   0, 365, 366,\n",
       "       367, 368, 369, 370,   0, 372, 373, 374, 375, 376, 377,   0, 379,\n",
       "       380, 381, 382, 383, 384,   0, 386, 387, 388, 389, 390, 391,   0,\n",
       "       393, 394, 395, 396, 397, 398,   0, 400, 401, 402, 403, 404, 405,\n",
       "         0, 407, 408, 409, 410, 411, 412,   0, 414, 415, 416, 417, 418,\n",
       "       419,   0, 421, 422, 423, 424, 425, 426,   0, 428, 429, 430, 431,\n",
       "       432, 433,   0, 435, 436, 437, 438, 439, 440,   0, 442, 443, 444,\n",
       "       445, 446, 447,   0, 449, 450, 451, 452, 453, 454,   0, 456, 457,\n",
       "       458, 459, 460, 461,   0, 463, 464, 465, 466, 467, 468,   0, 470,\n",
       "       471, 472, 473, 474, 475,   0, 477, 478, 479, 480, 481, 482,   0,\n",
       "       484, 485, 486, 487, 488, 489,   0, 491, 492, 493, 494, 495, 496,\n",
       "         0, 498, 499, 500, 501, 502, 503,   0, 505, 506, 507, 508, 509,\n",
       "       510,   0, 512, 513, 514, 515, 516, 517,   0, 519, 520, 521, 522,\n",
       "       523, 524,   0, 526, 527, 528, 529, 530, 531,   0, 533, 534, 535,\n",
       "       536, 537, 538,   0, 540, 541, 542, 543, 544, 545,   0, 547, 548,\n",
       "       549, 550, 551, 552,   0, 554, 555, 556, 557, 558, 559,   0, 561,\n",
       "       562, 563, 564, 565, 566,   0, 568, 569, 570, 571, 572, 573,   0,\n",
       "       575, 576, 577, 578, 579, 580,   0, 582, 583, 584, 585, 586, 587,\n",
       "         0, 589, 590, 591, 592, 593, 594,   0, 596, 597, 598, 599, 600,\n",
       "       601,   0, 603, 604, 605, 606, 607, 608,   0, 610, 611, 612, 613,\n",
       "       614, 615,   0, 617, 618, 619, 620, 621, 622,   0, 624, 625, 626,\n",
       "       627, 628, 629,   0, 631, 632, 633, 634, 635, 636,   0, 638, 639,\n",
       "       640, 641, 642, 643,   0, 645, 646, 647, 648, 649, 650,   0, 652,\n",
       "       653, 654, 655, 656, 657,   0, 659, 660, 661, 662, 663, 664,   0,\n",
       "       666, 667, 668, 669, 670, 671,   0, 673, 674, 675, 676, 677, 678,\n",
       "         0, 680, 681, 682, 683, 684, 685,   0, 687, 688, 689, 690, 691,\n",
       "       692,   0, 694, 695, 696, 697, 698, 699,   0, 701, 702, 703, 704,\n",
       "       705, 706,   0, 708, 709, 710, 711, 712, 713,   0, 715, 716, 717,\n",
       "       718, 719, 720,   0, 722, 723, 724, 725, 726, 727,   0, 729, 730,\n",
       "       731, 732, 733, 734,   0, 736, 737, 738, 739, 740, 741,   0, 743,\n",
       "       744, 745, 746, 747, 748,   0, 750, 751, 752, 753, 754, 755,   0,\n",
       "       757, 758, 759, 760, 761, 762,   0, 764, 765, 766, 767, 768, 769,\n",
       "         0, 771, 772, 773, 774, 775, 776,   0, 778, 779, 780, 781, 782,\n",
       "       783,   0, 785, 786, 787, 788, 789, 790,   0, 792, 793, 794, 795,\n",
       "       796, 797,   0, 799, 800, 801, 802, 803, 804,   0, 806, 807, 808,\n",
       "       809, 810, 811,   0, 813, 814, 815, 816, 817, 818,   0, 820, 821,\n",
       "       822, 823, 824, 825,   0, 827, 828, 829, 830, 831, 832,   0, 834,\n",
       "       835, 836, 837, 838, 839,   0, 841, 842, 843, 844, 845, 846,   0,\n",
       "       848, 849, 850, 851, 852, 853,   0, 855, 856, 857, 858, 859, 860,\n",
       "         0, 862, 863, 864, 865, 866, 867,   0, 869, 870, 871, 872, 873,\n",
       "       874,   0, 876, 877, 878, 879, 880, 881,   0, 883, 884, 885, 886,\n",
       "       887, 888,   0, 890, 891, 892, 893, 894, 895,   0, 897, 898, 899,\n",
       "       900, 901, 902,   0, 904, 905, 906, 907, 908, 909,   0, 911, 912,\n",
       "       913, 914, 915, 916,   0, 918, 919, 920, 921, 922, 923,   0, 925,\n",
       "       926, 927, 928, 929, 930,   0, 932, 933, 934, 935, 936, 937,   0,\n",
       "       939, 940, 941, 942, 943, 944,   0, 946, 947, 948, 949, 950, 951,\n",
       "         0, 953, 954, 955, 956, 957, 958,   0, 960, 961, 962, 963, 964,\n",
       "       965,   0, 967, 968, 969, 970, 971, 972,   0, 974, 975, 976, 977,\n",
       "       978, 979,   0, 981, 982, 983, 984, 985, 986,   0, 988, 989, 990,\n",
       "       991, 992, 993,   0, 995, 996, 997, 998, 999])"
      ]
     },
     "execution_count": 1628,
     "metadata": {},
     "output_type": "execute_result"
    }
   ],
   "source": [
    "array[array % 7 == 0] = 0\n",
    "array"
   ]
  },
  {
   "cell_type": "code",
   "execution_count": 1629,
   "metadata": {},
   "outputs": [
    {
     "data": {
      "text/plain": [
       "array([   2,    3,    4,    5,    6,    7,    8,    9,   10,   11,   12,\n",
       "         13,   14,   15,   16,   17,   18,   19,   20,   21,   22,   23,\n",
       "         24,   25,   26,   27,   28,   29,   30,   31,   32,   33,   34,\n",
       "         35,   36,   37,   38,   39,   40,   41,   42,   43,   44,   45,\n",
       "         46,   47,   48,   49,   50,   51,   52,   53,   54,   55,   56,\n",
       "         57,   58,   59,   60,   61,   62,   63,   64,   65,   66,   67,\n",
       "         68,   69,   70,   71,   72,   73,   74,   75,   76,   77,   78,\n",
       "         79,   80,   81,   82,   83,   84,   85,   86,   87,   88,   89,\n",
       "         90,   91,   92,   93,   94,   95,   96,   97,   98,   99,  100,\n",
       "        101,  102,  103,  104,  105,  106,  107,  108,  109,  110,  111,\n",
       "        112,  113,  114,  115,  116,  117,  118,  119,  120,  121,  122,\n",
       "        123,  124,  125,  126,  127,  128,  129,  130,  131,  132,  133,\n",
       "        134,  135,  136,  137,  138,  139,  140,  141,  142,  143,  144,\n",
       "        145,  146,  147,  148,  149,  150,  151,  152,  153,  154,  155,\n",
       "        156,  157,  158,  159,  160,  161,  162,  163,  164,  165,  166,\n",
       "        167,  168,  169,  170,  171,  172,  173,  174,  175,  176,  177,\n",
       "        178,  179,  180,  181,  182,  183,  184,  185,  186,  187,  188,\n",
       "        189,  190,  191,  192,  193,  194,  195,  196,  197,  198,  199,\n",
       "        200,  201,  202,  203,  204,  205,  206,  207,  208,  209,  210,\n",
       "        211,  212,  213,  214,  215,  216,  217,  218,  219,  220,  221,\n",
       "        222,  223,  224,  225,  226,  227,  228,  229,  230,  231,  232,\n",
       "        233,  234,  235,  236,  237,  238,  239,  240,  241,  242,  243,\n",
       "        244,  245,  246,  247,  248,  249,  250,  251,  252,  253,  254,\n",
       "        255,  256,  257,  258,  259,  260,  261,  262,  263,  264,  265,\n",
       "        266,  267,  268,  269,  270,  271,  272,  273,  274,  275,  276,\n",
       "        277,  278,  279,  280,  281,  282,  283,  284,  285,  286,  287,\n",
       "        288,  289,  290,  291,  292,  293,  294,  295,  296,  297,  298,\n",
       "        299,  300,  301,  302,  303,  304,  305,  306,  307,  308,  309,\n",
       "        310,  311,  312,  313,  314,  315,  316,  317,  318,  319,  320,\n",
       "        321,  322,  323,  324,  325,  326,  327,  328,  329,  330,  331,\n",
       "        332,  333,  334,  335,  336,  337,  338,  339,  340,  341,  342,\n",
       "        343,  344,  345,  346,  347,  348,  349,  350,  351,  352,  353,\n",
       "        354,  355,  356,  357,  358,  359,  360,  361,  362,  363,  364,\n",
       "        365,  366,  367,  368,  369,  370,  371,  372,  373,  374,  375,\n",
       "        376,  377,  378,  379,  380,  381,  382,  383,  384,  385,  386,\n",
       "        387,  388,  389,  390,  391,  392,  393,  394,  395,  396,  397,\n",
       "        398,  399,  400,  401,  402,  403,  404,  405,  406,  407,  408,\n",
       "        409,  410,  411,  412,  413,  414,  415,  416,  417,  418,  419,\n",
       "        420,  421,  422,  423,  424,  425,  426,  427,  428,  429,  430,\n",
       "        431,  432,  433,  434,  435,  436,  437,  438,  439,  440,  441,\n",
       "        442,  443,  444,  445,  446,  447,  448,  449,  450,  451,  452,\n",
       "        453,  454,  455,  456,  457,  458,  459,  460,  461,  462,  463,\n",
       "        464,  465,  466,  467,  468,  469,  470,  471,  472,  473,  474,\n",
       "        475,  476,  477,  478,  479,  480,  481,  482,  483,  484,  485,\n",
       "        486,  487,  488,  489,  490,  491,  492,  493,  494,  495,  496,\n",
       "        497,  498,  499,  500,  501,  502,  503,  504,  505,  506,  507,\n",
       "        508,  509,  510,  511,  512,  513,  514,  515,  516,  517,  518,\n",
       "        519,  520,  521,  522,  523,  524,  525,  526,  527,  528,  529,\n",
       "        530,  531,  532,  533,  534,  535,  536,  537,  538,  539,  540,\n",
       "        541,  542,  543,  544,  545,  546,  547,  548,  549,  550,  551,\n",
       "        552,  553,  554,  555,  556,  557,  558,  559,  560,  561,  562,\n",
       "        563,  564,  565,  566,  567,  568,  569,  570,  571,  572,  573,\n",
       "        574,  575,  576,  577,  578,  579,  580,  581,  582,  583,  584,\n",
       "        585,  586,  587,  588,  589,  590,  591,  592,  593,  594,  595,\n",
       "        596,  597,  598,  599,  600,  601,  602,  603,  604,  605,  606,\n",
       "        607,  608,  609,  610,  611,  612,  613,  614,  615,  616,  617,\n",
       "        618,  619,  620,  621,  622,  623,  624,  625,  626,  627,  628,\n",
       "        629,  630,  631,  632,  633,  634,  635,  636,  637,  638,  639,\n",
       "        640,  641,  642,  643,  644,  645,  646,  647,  648,  649,  650,\n",
       "        651,  652,  653,  654,  655,  656,  657,  658,  659,  660,  661,\n",
       "        662,  663,  664,  665,  666,  667,  668,  669,  670,  671,  672,\n",
       "        673,  674,  675,  676,  677,  678,  679,  680,  681,  682,  683,\n",
       "        684,  685,  686,  687,  688,  689,  690,  691,  692,  693,  694,\n",
       "        695,  696,  697,  698,  699,  700,  701,  702,  703,  704,  705,\n",
       "        706,  707,  708,  709,  710,  711,  712,  713,  714,  715,  716,\n",
       "        717,  718,  719,  720,  721,  722,  723,  724,  725,  726,  727,\n",
       "        728,  729,  730,  731,  732,  733,  734,  735,  736,  737,  738,\n",
       "        739,  740,  741,  742,  743,  744,  745,  746,  747,  748,  749,\n",
       "        750,  751,  752,  753,  754,  755,  756,  757,  758,  759,  760,\n",
       "        761,  762,  763,  764,  765,  766,  767,  768,  769,  770,  771,\n",
       "        772,  773,  774,  775,  776,  777,  778,  779,  780,  781,  782,\n",
       "        783,  784,  785,  786,  787,  788,  789,  790,  791,  792,  793,\n",
       "        794,  795,  796,  797,  798,  799,  800,  801,  802,  803,  804,\n",
       "        805,  806,  807,  808,  809,  810,  811,  812,  813,  814,  815,\n",
       "        816,  817,  818,  819,  820,  821,  822,  823,  824,  825,  826,\n",
       "        827,  828,  829,  830,  831,  832,  833,  834,  835,  836,  837,\n",
       "        838,  839,  840,  841,  842,  843,  844,  845,  846,  847,  848,\n",
       "        849,  850,  851,  852,  853,  854,  855,  856,  857,  858,  859,\n",
       "        860,  861,  862,  863,  864,  865,  866,  867,  868,  869,  870,\n",
       "        871,  872,  873,  874,  875,  876,  877,  878,  879,  880,  881,\n",
       "        882,  883,  884,  885,  886,  887,  888,  889,  890,  891,  892,\n",
       "        893,  894,  895,  896,  897,  898,  899,  900,  901,  902,  903,\n",
       "        904,  905,  906,  907,  908,  909,  910,  911,  912,  913,  914,\n",
       "        915,  916,  917,  918,  919,  920,  921,  922,  923,  924,  925,\n",
       "        926,  927,  928,  929,  930,  931,  932,  933,  934,  935,  936,\n",
       "        937,  938,  939,  940,  941,  942,  943,  944,  945,  946,  947,\n",
       "        948,  949,  950,  951,  952,  953,  954,  955,  956,  957,  958,\n",
       "        959,  960,  961,  962,  963,  964,  965,  966,  967,  968,  969,\n",
       "        970,  971,  972,  973,  974,  975,  976,  977,  978,  979,  980,\n",
       "        981,  982,  983,  984,  985,  986,  987,  988,  989,  990,  991,\n",
       "        992,  993,  994,  995,  996,  997,  998,  999, 1000])"
      ]
     },
     "execution_count": 1629,
     "metadata": {},
     "output_type": "execute_result"
    }
   ],
   "source": [
    "array = np.arange(2,1000+1)\n",
    "array"
   ]
  },
  {
   "cell_type": "code",
   "execution_count": 1630,
   "metadata": {},
   "outputs": [
    {
     "data": {
      "text/plain": [
       "array([   2,    3,    4,    5,    6,    8,    9,   10,   11,   12,   13,\n",
       "         15,   16,   17,   18,   19,   20,   22,   23,   24,   25,   26,\n",
       "         27,   29,   30,   31,   32,   33,   34,   36,   37,   38,   39,\n",
       "         40,   41,   43,   44,   45,   46,   47,   48,   50,   51,   52,\n",
       "         53,   54,   55,   57,   58,   59,   60,   61,   62,   64,   65,\n",
       "         66,   67,   68,   69,   71,   72,   73,   74,   75,   76,   78,\n",
       "         79,   80,   81,   82,   83,   85,   86,   87,   88,   89,   90,\n",
       "         92,   93,   94,   95,   96,   97,   99,  100,  101,  102,  103,\n",
       "        104,  106,  107,  108,  109,  110,  111,  113,  114,  115,  116,\n",
       "        117,  118,  120,  121,  122,  123,  124,  125,  127,  128,  129,\n",
       "        130,  131,  132,  134,  135,  136,  137,  138,  139,  141,  142,\n",
       "        143,  144,  145,  146,  148,  149,  150,  151,  152,  153,  155,\n",
       "        156,  157,  158,  159,  160,  162,  163,  164,  165,  166,  167,\n",
       "        169,  170,  171,  172,  173,  174,  176,  177,  178,  179,  180,\n",
       "        181,  183,  184,  185,  186,  187,  188,  190,  191,  192,  193,\n",
       "        194,  195,  197,  198,  199,  200,  201,  202,  204,  205,  206,\n",
       "        207,  208,  209,  211,  212,  213,  214,  215,  216,  218,  219,\n",
       "        220,  221,  222,  223,  225,  226,  227,  228,  229,  230,  232,\n",
       "        233,  234,  235,  236,  237,  239,  240,  241,  242,  243,  244,\n",
       "        246,  247,  248,  249,  250,  251,  253,  254,  255,  256,  257,\n",
       "        258,  260,  261,  262,  263,  264,  265,  267,  268,  269,  270,\n",
       "        271,  272,  274,  275,  276,  277,  278,  279,  281,  282,  283,\n",
       "        284,  285,  286,  288,  289,  290,  291,  292,  293,  295,  296,\n",
       "        297,  298,  299,  300,  302,  303,  304,  305,  306,  307,  309,\n",
       "        310,  311,  312,  313,  314,  316,  317,  318,  319,  320,  321,\n",
       "        323,  324,  325,  326,  327,  328,  330,  331,  332,  333,  334,\n",
       "        335,  337,  338,  339,  340,  341,  342,  344,  345,  346,  347,\n",
       "        348,  349,  351,  352,  353,  354,  355,  356,  358,  359,  360,\n",
       "        361,  362,  363,  365,  366,  367,  368,  369,  370,  372,  373,\n",
       "        374,  375,  376,  377,  379,  380,  381,  382,  383,  384,  386,\n",
       "        387,  388,  389,  390,  391,  393,  394,  395,  396,  397,  398,\n",
       "        400,  401,  402,  403,  404,  405,  407,  408,  409,  410,  411,\n",
       "        412,  414,  415,  416,  417,  418,  419,  421,  422,  423,  424,\n",
       "        425,  426,  428,  429,  430,  431,  432,  433,  435,  436,  437,\n",
       "        438,  439,  440,  442,  443,  444,  445,  446,  447,  449,  450,\n",
       "        451,  452,  453,  454,  456,  457,  458,  459,  460,  461,  463,\n",
       "        464,  465,  466,  467,  468,  470,  471,  472,  473,  474,  475,\n",
       "        477,  478,  479,  480,  481,  482,  484,  485,  486,  487,  488,\n",
       "        489,  491,  492,  493,  494,  495,  496,  498,  499,  500,  501,\n",
       "        502,  503,  505,  506,  507,  508,  509,  510,  512,  513,  514,\n",
       "        515,  516,  517,  519,  520,  521,  522,  523,  524,  526,  527,\n",
       "        528,  529,  530,  531,  533,  534,  535,  536,  537,  538,  540,\n",
       "        541,  542,  543,  544,  545,  547,  548,  549,  550,  551,  552,\n",
       "        554,  555,  556,  557,  558,  559,  561,  562,  563,  564,  565,\n",
       "        566,  568,  569,  570,  571,  572,  573,  575,  576,  577,  578,\n",
       "        579,  580,  582,  583,  584,  585,  586,  587,  589,  590,  591,\n",
       "        592,  593,  594,  596,  597,  598,  599,  600,  601,  603,  604,\n",
       "        605,  606,  607,  608,  610,  611,  612,  613,  614,  615,  617,\n",
       "        618,  619,  620,  621,  622,  624,  625,  626,  627,  628,  629,\n",
       "        631,  632,  633,  634,  635,  636,  638,  639,  640,  641,  642,\n",
       "        643,  645,  646,  647,  648,  649,  650,  652,  653,  654,  655,\n",
       "        656,  657,  659,  660,  661,  662,  663,  664,  666,  667,  668,\n",
       "        669,  670,  671,  673,  674,  675,  676,  677,  678,  680,  681,\n",
       "        682,  683,  684,  685,  687,  688,  689,  690,  691,  692,  694,\n",
       "        695,  696,  697,  698,  699,  701,  702,  703,  704,  705,  706,\n",
       "        708,  709,  710,  711,  712,  713,  715,  716,  717,  718,  719,\n",
       "        720,  722,  723,  724,  725,  726,  727,  729,  730,  731,  732,\n",
       "        733,  734,  736,  737,  738,  739,  740,  741,  743,  744,  745,\n",
       "        746,  747,  748,  750,  751,  752,  753,  754,  755,  757,  758,\n",
       "        759,  760,  761,  762,  764,  765,  766,  767,  768,  769,  771,\n",
       "        772,  773,  774,  775,  776,  778,  779,  780,  781,  782,  783,\n",
       "        785,  786,  787,  788,  789,  790,  792,  793,  794,  795,  796,\n",
       "        797,  799,  800,  801,  802,  803,  804,  806,  807,  808,  809,\n",
       "        810,  811,  813,  814,  815,  816,  817,  818,  820,  821,  822,\n",
       "        823,  824,  825,  827,  828,  829,  830,  831,  832,  834,  835,\n",
       "        836,  837,  838,  839,  841,  842,  843,  844,  845,  846,  848,\n",
       "        849,  850,  851,  852,  853,  855,  856,  857,  858,  859,  860,\n",
       "        862,  863,  864,  865,  866,  867,  869,  870,  871,  872,  873,\n",
       "        874,  876,  877,  878,  879,  880,  881,  883,  884,  885,  886,\n",
       "        887,  888,  890,  891,  892,  893,  894,  895,  897,  898,  899,\n",
       "        900,  901,  902,  904,  905,  906,  907,  908,  909,  911,  912,\n",
       "        913,  914,  915,  916,  918,  919,  920,  921,  922,  923,  925,\n",
       "        926,  927,  928,  929,  930,  932,  933,  934,  935,  936,  937,\n",
       "        939,  940,  941,  942,  943,  944,  946,  947,  948,  949,  950,\n",
       "        951,  953,  954,  955,  956,  957,  958,  960,  961,  962,  963,\n",
       "        964,  965,  967,  968,  969,  970,  971,  972,  974,  975,  976,\n",
       "        977,  978,  979,  981,  982,  983,  984,  985,  986,  988,  989,\n",
       "        990,  991,  992,  993,  995,  996,  997,  998,  999, 1000])"
      ]
     },
     "execution_count": 1630,
     "metadata": {},
     "output_type": "execute_result"
    }
   ],
   "source": [
    "array_nuovo = array[array % 7 != 0]\n",
    "array_nuovo"
   ]
  },
  {
   "cell_type": "markdown",
   "id": "67ec09e9",
   "metadata": {},
   "source": [
    "## ESERCIZIO 2 (Facoltativo per DSA)\n",
    "Usa numpy per creare l'immagine seguente (n x n). L'intensità del colore aumenta sia lungo le colonne sia lungo le righe. L'intensità di colore di ogni riga è sempre maggiore della riga precedente.\n",
    "\n",
    "Per esempio con n = 10:\n",
    "\n",
    "![matrice](matrice.png)\n",
    "\n",
    "Codice per visualizzare l'immagine:\n",
    "\n",
    "    plt.imshow(mat, cmap=\"Blues\")"
   ]
  },
  {
   "cell_type": "code",
   "execution_count": 1631,
   "metadata": {},
   "outputs": [
    {
     "data": {
      "text/plain": [
       "<matplotlib.image.AxesImage at 0x28ba5cc5fc0>"
      ]
     },
     "execution_count": 1631,
     "metadata": {},
     "output_type": "execute_result"
    },
    {
     "data": {
      "image/png": "[encoded data removed]",
      "text/plain": [
       "<Figure size 640x480 with 1 Axes>"
      ]
     },
     "metadata": {},
     "output_type": "display_data"
    }
   ],
   "source": [
    "numero = 10\n",
    "Array = np.arange(0,100)\n",
    "Array = Array.reshape(10,10)\n",
    "plt.imshow(Array, cmap=\"Blues\")"
   ]
  },
  {
   "cell_type": "markdown",
   "id": "dfbbb094",
   "metadata": {},
   "source": [
    "## ESERCIZIO 3\n",
    "All'interno dello stesso grafico traccia gli andamenti delle seguenti funzioni per valori di $x \\in [-2\\pi,2\\pi]$:\n",
    "\n",
    "- $f(x) = \\frac{\\sin(x)}{x}$ (usa la funzione `np.sin()`)\n",
    "- $g(x) = e^{-x^2} $ (usa funzione `np.exp()` per l'esponenziale)\n",
    "- $h(x) = f(x)-g(x)$"
   ]
  },
  {
   "cell_type": "code",
   "execution_count": 1632,
   "id": "53545f80",
   "metadata": {},
   "outputs": [],
   "source": [
    "x = np.linspace(-2* np.pi, 2* np.pi, 1000)\n",
    "y = np.sin(x) / x\n",
    "y_2 = np.exp(-x**2)\n",
    "y_3 = y - y_2\n",
    "\n"
   ]
  },
  {
   "cell_type": "code",
   "execution_count": 1633,
   "metadata": {},
   "outputs": [
    {
     "data": {
      "image/png": "[encoded data removed]",
      "text/plain": [
       "<Figure size 500x300 with 1 Axes>"
      ]
     },
     "metadata": {},
     "output_type": "display_data"
    }
   ],
   "source": [
    "fig, ax = plt.subplots(figsize = (5,3))\n",
    "ax.plot(x,y,\"k--\", linewidth = 1)\n",
    "ax.plot(x,y_2,\"b--\", linewidth = 1)\n",
    "ax.plot(x,y_3,\"r--\", linewidth = 1)\n",
    "ax.set_title(\"Un grafico di funzioni\", fontsize = 12)\n",
    "ax.set_xlabel(\"x\")\n",
    "ax.set_ylabel(\"y\")\n",
    "ax.grid()\n",
    "plt.show()\n"
   ]
  },
  {
   "cell_type": "markdown",
   "id": "c681a56c",
   "metadata": {},
   "source": [
    "## ESERCIZIO 4\n",
    "Dato `n`numero intero dispari maggiore o uguale a 5 crea una matrice di numpy che abbia la struttura seguente.\n",
    "\n",
    "La cornice della matrice deve essere composta di numeri pseudocasuali compresi tra 0 e 1, mentre l'interno deve essere riempito di 0 tranne nella riga e nella colonna mediane, le quali conterrano degli 1.\n",
    "\n",
    "Per esempio per n=5:\n",
    "\n",
    "    [[0.54619729, 0.80300612, 0.45894256, 0.67077658, 0.71578404],\n",
    "     [0.51791038, 0.        , 1.        , 0.        , 0.81375618],\n",
    "     [0.8230843 , 1.        , 1.        , 1.        , 0.48473322],\n",
    "     [0.87689576, 0.        , 1.        , 0.        , 0.58361921],\n",
    "     [0.13940942, 0.83365168, 0.03049039, 0.92278332, 0.69799144]]\n",
    " "
   ]
  },
  {
   "cell_type": "code",
   "execution_count": 1634,
   "id": "dd7a28bb",
   "metadata": {},
   "outputs": [
    {
     "data": {
      "text/plain": [
       "array([[0.54156618, 0.33838363, 0.41006168, 0.35260991, 0.30201365],\n",
       "       [0.96437191, 0.47141857, 0.19425765, 0.02793687, 0.91015336],\n",
       "       [0.06872395, 0.76231985, 0.29036864, 0.00636032, 0.10130971],\n",
       "       [0.73991355, 0.50044008, 0.85758819, 0.16525405, 0.1620908 ],\n",
       "       [0.69375904, 0.84874348, 0.20103506, 0.64886323, 0.17400333]])"
      ]
     },
     "execution_count": 1634,
     "metadata": {},
     "output_type": "execute_result"
    }
   ],
   "source": [
    "numero = 5\n",
    "\n",
    "matrice  = np.random.uniform(0,1,(numero, numero))\n",
    "matrice"
   ]
  },
  {
   "cell_type": "code",
   "execution_count": 1635,
   "metadata": {},
   "outputs": [
    {
     "data": {
      "text/plain": [
       "array([[0.54156618, 0.33838363, 0.41006168, 0.35260991, 0.30201365],\n",
       "       [0.96437191, 1.        , 1.        , 1.        , 0.91015336],\n",
       "       [0.06872395, 1.        , 1.        , 1.        , 0.10130971],\n",
       "       [0.73991355, 1.        , 1.        , 1.        , 0.1620908 ],\n",
       "       [0.69375904, 0.84874348, 0.20103506, 0.64886323, 0.17400333]])"
      ]
     },
     "execution_count": 1635,
     "metadata": {},
     "output_type": "execute_result"
    }
   ],
   "source": [
    "matrice[1:numero-1,1:numero-1] = 1\n",
    "matrice"
   ]
  },
  {
   "cell_type": "code",
   "execution_count": 1636,
   "metadata": {},
   "outputs": [
    {
     "name": "stdout",
     "output_type": "stream",
     "text": [
      "[[0.54156618 0.33838363 0.41006168 0.35260991 0.30201365]\n",
      " [0.96437191 0.         1.         0.         0.91015336]\n",
      " [0.06872395 1.         1.         1.         0.10130971]\n",
      " [0.73991355 0.         1.         0.         0.1620908 ]\n",
      " [0.69375904 0.84874348 0.20103506 0.64886323 0.17400333]]\n"
     ]
    }
   ],
   "source": [
    "matrice[1:-1, 1:-1] = 0\n",
    "matrice[numero // 2, 1:numero-1] = 1\n",
    "matrice[1:numero-1, numero // 2] = 1\n",
    "print(matrice)"
   ]
  },
  {
   "cell_type": "markdown",
   "id": "e75da7dd",
   "metadata": {},
   "source": [
    "## ESERCIZIO 5\n",
    "Il file *robots.txt* contiene un frammento del vero file *robots.txt* di un importante quotidiano online. Tutte le righe che iniziano con la parola chiave `Disallow:` contengono le URL di pagine del quotidiano alle quali i software automatici di web crawling o di indicizzazione non dovrebbero mai accedere. La prima directory della URL indica la tipologia di notizia a cui punta l'URL. Per esempio la riga `Disallow: /economia/finanza-personale/2010/Prova-Metadati_a1b5a008-f178-11df-8c4b-00144f02aabc.shtml`fa riferimento a una notizia di **economia**.\n",
    "\n",
    "Crea un programma in Python 3 che legga il file e generi un dizionario in cui:\n",
    "* la chiave è la tipologia di notizia,\n",
    "* il valore è il numero di notizie di quella tipologia."
   ]
  },
  {
   "cell_type": "code",
   "execution_count": 1637,
   "id": "744604f2",
   "metadata": {},
   "outputs": [
    {
     "name": "stdout",
     "output_type": "stream",
     "text": [
      "['# item\\nDisallow: ', 'politica', '10_febbraio_05', 'sabrina_ferilli_non_sono_la_sora_palin_5d9b4bb8-1224-11df-b50d-00144f02aabe.shtml\\nDisallow: ', 'esteri', '07_novembre_24', 'allam_8b31e72c-9a84-11dc-a3e4-0003ba99c53b.shtml\\nDisallow: ', 'cronache', '09_ottobre_31', 'marrazzo_quinto_indagato_ceb2b5c2-c5f1-11de-a5d7-00144f02aabc.shtml\\nDisallow: ', 'cronache', '10_settembre_20', 'napoli-donna-uccisa-in-auto_d6588bc2-c48c-11df-be0b-00144f02aabe.shtml\\nDisallow: ', 'politica', '11_gennaio_10', 'prova_dbfc1a72-1ce7-11e0-a4b5-00144f02aabc.shtml\\nDisallow: ', 'cronache', '10_ottobre_19', 'Prova_NONToccare_1137fc74-db6b-11df-a6e9-00144f02aabc.shtml\\nDisallow: ', 'sport', '10_ottobre_05', 'prova_articoloNOTOUCH_4957ef9a-d05a-11df-9b01-00144f02aabc.shtml\\nDisallow: ', 'economia', 'finanza-personale', '2010', 'Prova-Metadati_a1b5a008-f178-11df-8c4b-00144f02aabc.shtml\\nDisallow: ', 'scienze_e_tecnologie', 'speciali', '2010', 'corriere-mobile', 'notizie', 'test_6eec41ea-3364-11df-82b0-00144f02aabe.shtml\\nDisallow: ', 'economia', 'speciali', '2010', 'la-crisi-greca', 'notizie', 'test1_db95ec2e-520e-11df-9da0-00144f02aabe.shtml\\nDisallow: ', 'spettacoli', 'speciali', '2010', 'moda', 'notizie', 'prova_84d39878-159b-11df-82f4-00144f02aabe.shtml\\nDisallow: ', 'Primo_Piano', 'Spettacoli', '2005', '09_Settembre', '25', 'cupo.shtml\\nDisallow: ', 'Primo_Piano', 'Cronache', '2004', '08_Agosto', '27', 'topmodel.shtml\\nDisallow: ', 'ioscrivo', 'racconti', 'racconto-236052.shtml\\nDisallow: ', 'Primo_Piano', 'Cronache', '2006', '06_Giugno', '20', 'fitto.shtml\\nDisallow: ', 'notizie-ultima-ora', 'Cronache_e_politica', 'Genova-anziani-lasciati-tra-escrementi', '17-04-2011', '1-A_000197811.shtml\\nDisallow: ', 'economia', '12_aprile_25', 'caizzi-liddi-detroit_dec93e0e-8ee4-11e1-8466-78a3503db387.shtml\\nDisallow: ', 'Primo_Piano', 'Cronache', '2005', '10_Ottobre', '22', 'cavallaro.shtml\\nDisallow: ', 'cultura', 'leparole', 'index_temp.shtml\\nDisallow: ', 'cronache', '09_novembre_29', 'natalie-carcere-pizzo-trans-sacchettoni_74ea4a9c-dcc0-11de-8223-00144f02aabc.shtml\\nDisallow: ', 'gallery', 'politica', '07-2012', 'minzolini', '02', 'minzolini-coccole-relax-ad-amalfi_6a6d1f70-d1bb-11e1-aa2d-fec7547fb733.shtml\\nDisallow: ', 'cronache', '12_agosto_06', 'uno-bianca-poliziotti-encomio_8848a6f8-df9a-11e1-a2e0-2a62fa6322b0.shtml\\nDisallow: ', 'cronache', '09_marzo_06', 'bormioli_cocaina_parma_bc0e9980-0a90-11de-91a6-00144f02aabc.shtml\\nDisallow: ', 'Primo_Piano', 'Politica', '2006', '02_Febbraio', '09', 'comici.shtml\\nDisallow: ', 'Primo_Piano', 'Cronache', '2005', '06_Giugno', '05', 'messina.shtml\\nDisallow: ', 'cronache', '11_luglio_13', 'bianconi-manovre-su-pm-per-spostare-indagini_debc4886-ad10-11e0-83b2-951b61194bdf.shtml\\nDisallow: ', 'cronache', '11_luglio_14', 'sarzanini_soffiata-mediolanum-aperta-inchiesta_00cd7cd0-addc-11e0-9787-0699da0a075e.shtml\\nDisallow: ', 'cronache', '11_luglio_13', 'sarzanini-tremonti-mi-pedinano_63a4dd60-ad11-11e0-83b2-951b61194bdf.shtml\\nDisallow: ', 'notizie-ultima-ora', 'Economia', 'Banco-Desio-soldi-Banda-della-Magliana-parenti-Sandokan-Fatto', '12-02-2013', '1-A_004889541.shtml\\nDisallow: ', 'Primo_Piano', 'Cronache', '2004', '05_Maggio', '23', 'diplomi.shtml\\nDisallow: ', 'Primo_Piano', 'Cronache', '2006', '12_Dicembre', '31', 'lauree.shtml\\nDisallow: ', 'Primo_Piano', 'Cronache', '10_Ottobre', '23', 'stanzamostro.shtml\\nDisallow: ', 'politica', '08_giugno_26', 'intercettazioni_telefonata_deangelis_berlusconi_3bf1f9e2-439c-11dd-bb33-00144f02aabc.shtml\\nDisallow: ', 'politica', '08_giugno_26', 'intercettazioni_telefonata_deangelis_berlusconi_due_02f36cb0-439d-11dd-bb33-00144f02aabc.shtml\\nDisallow: ', 'politica', '08_giugno_26', 'intercettazioni_telefonata_deangelis_berlusconi_tre_61c6ac92-439e-11dd-bb33-00144f02aabc.shtml\\nDisallow: ', 'politica', '08_giugno_26', 'intercettazioni_telefonata_sacca_berlusconi_16d8bd60-4399-11dd-bb33-00144f02aabc.shtml\\nDisallow: ', 'politica', '08_giugno_26', 'intercettazioni_telefonata_sacca_berlusconi_due_e8d57f00-439a-11dd-bb33-00144f02aabc.shtml\\nDisallow: ', 'politica', '08_giugno_26', 'intercettazioni_tutte_f9f653b6-439c-11dd-bb33-00144f02aabc.shtml\\nDisallow: ', 'cronache', '08_luglio_27', 'andrea_precario_contento_flessibilita_marro_0bdc7910-5b8b-11dd-b836-00144f02aabc.shtml\\nDisallow: ', 'cronache', '14_febbraio_20', 'crescina-contestata-indaga-guariniello-b84e1482-9a47-11e3-b6d7-4032582c678b.shtml\\nDisallow: ', 'cronache', '10_aprile_04', 'lucca-omicidio-suicidio_9d215c6a-4027-11df-8d90-00144f02aabe.shtml\\nDisallow: ', 'cronache', '10_luglio_21', 'caso-verdini-la-finanza-indaga-su-due-milioni-fiorenza-sarzanini_17590c68-9491-11df-91c3-00144f02aabe.shtml\\nDisallow: ', 'Primo_Piano', 'Cronache', '2007', '06_Giugno', '26', 'interrogatorio_tavallini_droga.shtml\\nDisallow: ', 'Primo_Piano', 'Cronache', '2007', '06_Giugno', '26', 'interrogatorio_tavallini_droga.html\\nDisallow: ', 'Primo_Piano', 'Sport', '2002', '12_Dicembre', '10', 'bugno.shtml\\nDisallow: ', 'cronache', '10_dicembre_22', 'nipote-reviglio-arresti-14-dicembre_4a3b9fb4-0e13-11e0-8558-00144f02aabc.shtml\\nDisallow: ', 'cronache', '10_agosto_05', 'milano-cocaina-showgirl-santucci_08306886-a052-11df-bc17-00144f02aabe.shtml\\nDisallow: ', 'Primo_Piano', 'Cronache', '2004', '12_Dicembre', '23', 'manager.shtml\\nDisallow: ', 'Primo_Piano', 'Cronache', '2003', '10_Ottobre', '14', 'european_school.shtml\\nDisallow: ', 'economia', '13_aprile_07', 'ginori-porcellana-crisi_ad24c478-9f4a-11e2-bce6-d212a8ef12b1.shtml\\nDisallow: ', 'Primo_Piano', 'Cronache', '2005', '10_Ottobre', '25', 'droga.html\\nDisallow: ', 'Primo_Piano', 'Cronache', '2005', '10_Ottobre', '25', 'droga.shtml\\nDisallow: ', 'cronache', '08_marzo_15', 'lancini_arrestato_587263ee-f299-11dc-ae1f-0003ba99c667.shtml\\nDisallow: ', 'Primo_Piano', 'Cronache', '2004', '12_Dicembre', '01', 'bambina.shtml\\nDisallow: ', 'cronache', '09_luglio_23', 'banda_fdf91ed0-7749-11de-a20d-00144f02aabc.shtml\\nDisallow: ', 'Primo_Piano', 'Cronache', '2006', '03_Marzo', '16', 'haver-marsiglia.html\\nDisallow: ', 'Primo_Piano', 'Cronache', '2006', '03_Marzo', '16', 'haver-marsiglia.shtml\\nDisallow: ', 'Primo_Piano', 'Cronache', '2006', '05_Maggio', '12', 'pop_indagati.shtml\\nDisallow: ', 'cronache', '14_giugno_13', 'posti-barca-donne-finanzieri-sistema-aggiustare-controlli-4be678a0-f2b9-11e3-9109-f9f25fcc02f9.shtml\\nDisallow: ', 'Primo_Piano', 'Cronache', '2006', '12_Dicembre', '31', 'lauree.html\\nDisallow: ', 'cronache', '12_novembre_04', 'cosenza-madre-denuncia-figlio_1135d162-2671-11e2-8015-d7b141f471a2.shtml\\nDisallow: ', 'notizie-ultima-ora', 'Cronache_e_politica', 'Scomparsa-week-end-Romagna', '19-03-2014', '1-A_011472825.shtml\\nDisallow: ', 'Primo_Piano', 'Cronache', '2007', '04_Aprile', '20', 'auto_incidentifinti_bologna_imarisio.html\\nDisallow: ', 'Primo_Piano', 'Cronache', '2007', '04_Aprile', '20', 'auto_incidentifinti_bologna_imarisio.shtml \\nDisallow: ', 'economia', '08_febbraio_28', 'wind_corruzione_887238f4-e61d-11dc-ab61-0003ba99c667.shtml\\nDisallow: ', 'cronache', '14_gennaio_23', 'rimini-risarcito-barbone-bruciato-ma-suo-avvocato-prosciuga-conto-232fb234-845d-11e3-a32e-831830ba1aa5.shtml\\nDisallow: ', 'politica', '12_aprile_12', 'fondi-all-estero-cosi-il-carroccio-tento-di-coprire-tesoriere-fiorenza-sarzanini_8245d858-8468-11e1-8bd9-25a08dbe0046.shtml\\nDisallow: ', 'cronache', '12_ottobre_05', 'tasse-rubate-saggese_606fb92a-0eaa-11e2-8205-e823db4485d4.shtml\\nDisallow: ', 'cultura', '12_dicembre_19', 'frignani-truffa-nome-modigliani_d1c07518-49e4-11e2-8f39-57d26b118e07.shtml\\nDisallow: ', 'notizie-ultima-ora', 'Cronache', 'Petrolio-condannato-sen-Margiotta', '11-12-2014', '1-A_015317166.shtml\\nDisallow: ', 'cronache', '13_gennaio_31', 'maenza-indagato-abusi-sessuali-su-minori_507e2eae-6bc3-11e2-bfdf-0d9d15b9395f.shtml\\nDisallow: ', 'politica', '09_novembre_01', 'sarzanini-carte-marrazzo_d7edba10-c6d7-11de-b8db-00144f02aabc.shtml\\nDisallow: ', 'Primo_Piano', 'Cronache', '2006', '07_Luglio', '29', 'hav3r.html\\nDisallow: ', 'Primo_Piano', 'Cronache', '2006', '07_Luglio', '29', 'hav3r.shtml\\nDisallow: ', 'Primo_Piano', 'Cronache', '2007', '05_Maggio', '08', 'perugia_arresti_cassazione.html\\nDisallow: ', 'Primo_Piano', 'Cronache', '2007', '05_Maggio', '08', 'perugia_arresti_cassazione.shtml\\nDisallow: ', 'cronache', '08_febbraio_04', 'genova_arrestato_presidente_porto_6ce48218-d344-11dc-8916-0003ba99c667.shtml\\nDisallow: ', 'spettacoli', '10_ottobre_28', 'baby-sky-tv_96993302-e259-11df-8440-00144f02aabc.shtml\\nDisallow: ', 'economia', 'trovolavoro', '12_dicembre_07', 'consigliere-startup-iniziare-donne_03104550-405b-11e2-abcd-38132480d58e.shtml\\nDisallow: ', 'notizie-ultima-ora', 'Cronache_e_politica', 'Corruzione-indagati-vertici-Gdf-AP', '28-02-2014', '1-A_011152497.shtml\\nDisallow: ', 'cronache', '08_dicembre_17', 'woodcock_indagato_chiave_fiorenza_sarzanini_140878bc-cc03-11dd-bd86-00144f02aabc.shtml\\nDisallow: ', 'cronache', '15_ottobre_06', 'torino-uomo-precipita-settimo-piano-lite-una-donna-e2cc8c66-6c0f-11e5-8623-fefb598d5187.shtml\\nDisallow: ', 'cronache', '12_marzo_20', 'reggio-calabria-arresto-infermiere-furti-pazienti_dbdb74fc-7281-11e1-a140-d2a8d972d17a.shtml\\nDisallow: ', 'Primo_Piano', 'Cronache', '2007', '04_Aprile', '20', 'auto_incidentifinti_bologna_imarisio.shtml\\nDisallow: ', 'cultura', 'dai-cittadini-per-i-cittadini', 'lettere-d-amore', 'gallery.shtml\\nDisallow: ', 'Primo_Piano', 'Cronache', '2003', '06_Giugno', '06', 'sequestro.shtml\\nDisallow: ', 'Primo_Piano', 'Cronache', '2006', '07_Luglio', '07', 'scandalo.html\\nDisallow: ', 'politica', 'speciali', '2012', 'elezioni-amministrative', 'notizie', 'liste-elettorali-belluno_ec09c338-84bf-11e1-8bd9-25a08dbe0046.shtml\\nDisallow: ', 'sette', '13_luglio_29', '2013-31-fiaschetti-falsi-autori_9becf36c-f84e-11e2-a59e-96a502746665.shtml\\nDisallow: ', 'Primo_Piano', 'Cronache', '2006', '03_Marzo', '08', 'videopoker.shtml\\nDisallow: ', 'Primo_Piano', 'Cronache', '2006', '03_Marzo', '08', 'videopoker.html\\nDisallow: ', 'cronache', '08_febbraio_04', 'genova_arrestato_presidente_porto_6ce48218-d344-11dc-8916-0003ba99c667.shtml\\nDisallow: ', 'politica', '07_dicembre_23', 'intercettazioni_vittime_colloqui_laterali_0b01ba62-b133-11dc-9f4d-0003ba99c53b.shtml\\nDisallow: ', 'Primo_Piano', 'Cronache', '2006', '09_Settembre', '22', 'bille.html\\nDisallow: ', 'Primo_Piano', 'Cronache', '2006', '09_Settembre', '22', 'bille.shtml\\nDisallow: ', 'politica', '09_novembre_01', 'sarzanini-carte-marrazzo_d7edba10-c6d7-11de-b8db-00144f02aabc.shtml\\nDisallow: ', 'politica', '16_luglio_08', 'gara-camera-manovre-pizza-bene-c-marotta-inchiesta-tiap-549f4872-4484-11e6-a4dc-8aa8f57c2afd.shtml\\nDisallow: ', 'cronache', '12_luglio_12', 'con-amico-lelemora-in-cella-farina-condannato-per-falso_0649516c-cbdf-11e1-b65b-6f476fc4c4c1.shtml\\nDisallow: ', 'cronache', '13_febbraio_17', 'mps-interrogatorio-sarzanini_53d10ac4-78dc-11e2-a28b-a2fa92ae99be.shtml\\nDisallow: ', 'cronache', '12_settembre_18', 'dellutri-indagata-moglie-palermo_f8508d56-0170-11e2-a63e-daa4ff219e76.shtml\\nDisallow: ', 'Primo_Piano', 'Cronache', '2007', '06_Giugno', '18', 'perquisizioni_catanzaro.html\\nDisallow: ', 'cronache', '10_settembre_23', 'imprenditori-arrestati-torino_6dbdeb30-c6f2-11df-ad8a-00144f02aabe.shtml\\nDisallow: ', 'politica', '12_aprile_06', 'sarzanini-ora-i-soldi-a-calderoli_ad49dee4-7fab-11e1-8090-7ef417050996.shtml\\nDisallow: ', 'politica', '12_aprile_06', 'sarzanini-ora-i-soldi-a-calderoli_ad49dee4-7fab-11e1-8090-7ef417050996_print.html\\nDisallow: ', 'Primo_Piano', 'Economia', '2007', '05_Maggio', '21', 'sicilia.html\\nDisallow: ', 'Primo_Piano', 'Cronache', '2003', '12_Dicembre', '19', 'stella.shtml\\nDisallow: ', 'notizie-ultima-ora', 'Cronache', 'Trani-sfruttamento-della-prostituzione-due-arresti', '22-09-2009', '1-A_000048745.shtml\\nDisallow: ', 'Primo_Piano', 'Cronache', '2007', '07_Luglio', '25', 'tanzi_rinviato_giudizio.html\\nDisallow: ', 'notizie-ultima-ora', 'Cronache_e_politica', 'Beni-mln-sequestrati-cosche', '04-11-2014', '1-A_015082704.shtml\\nDisallow: ', 'Primo_Piano', 'Cronache', '2003', '05_Maggio', '05', 'spari.shtml\\nDisallow: ', 'politica', '12_maggio_15', 'sottosegretario-zoppini-indagato-si-dimette_c396ceaa-9eb4-11e1-96f0-f194789fe706.shtml\\nDisallow: ', 'cronache', '10_novembre_19', 'arresto-errani-pilota-rally-evasione-fiscale_cc284ce8-f3b5-11df-91ce-00144f02aabc.shtml\\nDisallow: ', 'Primo_Piano', 'Cronache', '2006', '06_Giugno', '17', 'biancon1-sarzanin1.shtml\\nDisallow: ', 'Primo_Piano', 'Cronache', '2006', '06_Giugno', '17', 'biancon1-sarzanin1.html\\nDisallow: ', 'Primo_Piano', 'Economia', '2006', '12_Dicembre', '18', 'carige.html\\nDisallow: ', 'Primo_Piano', 'Economia', '2006', '12_Dicembre', '18', 'carige.shtml\\nDisallow: ', 'Primo_Piano', 'Economia', '2006', '10_Ottobre', '23', 'gerevini.shtml\\nDisallow: ', 'Primo_Piano', 'Economia', '2006', '10_Ottobre', '23', 'gerevini.html\\nDisallow: ', 'cronache', '13_novembre_27', 'ecco-manager-politici-corrotti-fondi-neri-a43e5264-572f-11e3-a452-4c48221dc3be.shtml\\nDisallow: ', 'cronache', '08_febbraio_11', 'ricucci_rcs_rinvio_giudizio_a2d14564-d8b7-11dc-94be-0003ba99c667.shtml\\nDisallow: ', 'inchieste', 'reportime', 'societa', 'enpam-indagato-anche-super-consulente', '77a7036a-898e-11e1-a8e9-f84c50c7f614.shtml']\n"
     ]
    },
    {
     "data": {
      "text/plain": [
       "{'politica': 1,\n",
       " 'esteri': 1,\n",
       " 'cronache': 1,\n",
       " 'sport': 1,\n",
       " 'economia': 1,\n",
       " 'Primo_piano': 1,\n",
       " 'spettacoli': 1,\n",
       " 'ioscrivo': 1,\n",
       " 'cultura': 1,\n",
       " 'gallery': 1,\n",
       " 'inchieste': 1,\n",
       " 'notizie-ultima-ora': 1,\n",
       " 'sette': 1}"
      ]
     },
     "execution_count": 1637,
     "metadata": {},
     "output_type": "execute_result"
    }
   ],
   "source": [
    "chiavi = [\"politica\",\"esteri\", \"cronache\", \"sport\", \"economia\",\"Primo_piano\",\"spettacoli\",\"ioscrivo\",\"cultura\", \"gallery\",\"inchieste\", \"notizie-ultima-ora\",\"sette\"]\n",
    "file=open(\"robots.txt\",\"r\",encoding=\"utf-8\")\n",
    "dati = file.read()\n",
    "file.close()\n",
    "#print(dati)\n",
    "dati_2 = dati.split(\"/\")\n",
    "print(dati_2)\n",
    "\n",
    "\n",
    "dizionario = {}\n",
    "for categorie in chiavi:\n",
    "    dizionario[categorie] = np.count_nonzero(dati_2[categorie == dati_2])\n",
    "dizionario\n",
    "\n",
    "\n"
   ]
  }
 ],
 "metadata": {
  "kernelspec": {
   "display_name": "Python 3 (ipykernel)",
   "language": "python",
   "name": "python3"
  },
  "language_info": {
   "codemirror_mode": {
    "name": "ipython",
    "version": 3
   },
   "file_extension": ".py",
   "mimetype": "text/x-python",
   "name": "python",
   "nbconvert_exporter": "python",
   "pygments_lexer": "ipython3",
   "version": "3.10.7"
  }
 },
 "nbformat": 4,
 "nbformat_minor": 5
}
