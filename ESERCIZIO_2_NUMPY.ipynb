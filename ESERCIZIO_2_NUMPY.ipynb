{
 "cells": [
  {
   "cell_type": "markdown",
   "metadata": {},
   "source": [
    "## ESERCIZIO\n",
    "\n",
    " Dato N creare un array 1d [0,1,0,1,0,1,0,........] di tipo intero senza utilizzare cicli for"
   ]
  },
  {
   "cell_type": "code",
   "execution_count": 4,
   "metadata": {},
   "outputs": [],
   "source": [
    "import numpy as np\n"
   ]
  },
  {
   "cell_type": "code",
   "execution_count": 5,
   "metadata": {},
   "outputs": [],
   "source": [
    "import matplotlib.pyplot as plt"
   ]
  },
  {
   "cell_type": "code",
   "execution_count": 6,
   "metadata": {},
   "outputs": [
    {
     "data": {
      "text/plain": [
       "array([0, 1, 0, 1, 0, 1, 0, 1, 0, 1], dtype=int8)"
      ]
     },
     "execution_count": 6,
     "metadata": {},
     "output_type": "execute_result"
    }
   ],
   "source": [
    "n = 10\n",
    "array1d =  np.zeros(n, dtype = np.int8)\n",
    "array1d[1::2] = 1\n",
    "array1d\n",
    "\n",
    "\n"
   ]
  },
  {
   "cell_type": "markdown",
   "metadata": {},
   "source": [
    "### ESERCIZIO 2 \n",
    "\n",
    " Dato N creare un array 2d come prima di tipo intero senza cicli for"
   ]
  },
  {
   "cell_type": "code",
   "execution_count": 7,
   "metadata": {},
   "outputs": [
    {
     "data": {
      "text/plain": [
       "array([[0, 0, 0, 0, 0, 0, 0, 0, 0, 0],\n",
       "       [0, 0, 0, 0, 0, 0, 0, 0, 0, 0],\n",
       "       [0, 0, 0, 0, 0, 0, 0, 0, 0, 0],\n",
       "       [0, 0, 0, 0, 0, 0, 0, 0, 0, 0],\n",
       "       [0, 0, 0, 0, 0, 0, 0, 0, 0, 0],\n",
       "       [0, 0, 0, 0, 0, 0, 0, 0, 0, 0],\n",
       "       [0, 0, 0, 0, 0, 0, 0, 0, 0, 0],\n",
       "       [0, 0, 0, 0, 0, 0, 0, 0, 0, 0],\n",
       "       [0, 0, 0, 0, 0, 0, 0, 0, 0, 0],\n",
       "       [0, 0, 0, 0, 0, 0, 0, 0, 0, 0]], dtype=int8)"
      ]
     },
     "execution_count": 7,
     "metadata": {},
     "output_type": "execute_result"
    }
   ],
   "source": [
    "n = 10\n",
    "array2d =  np.zeros((n,n), dtype= np.int8)\n",
    "array2d\n",
    "\n",
    "\n"
   ]
  },
  {
   "cell_type": "code",
   "execution_count": 8,
   "metadata": {},
   "outputs": [
    {
     "data": {
      "text/plain": [
       "array([[0, 1, 0, 1, 0, 1, 0, 1, 0, 1],\n",
       "       [0, 0, 0, 0, 0, 0, 0, 0, 0, 0],\n",
       "       [0, 1, 0, 1, 0, 1, 0, 1, 0, 1],\n",
       "       [0, 0, 0, 0, 0, 0, 0, 0, 0, 0],\n",
       "       [0, 1, 0, 1, 0, 1, 0, 1, 0, 1],\n",
       "       [0, 0, 0, 0, 0, 0, 0, 0, 0, 0],\n",
       "       [0, 1, 0, 1, 0, 1, 0, 1, 0, 1],\n",
       "       [0, 0, 0, 0, 0, 0, 0, 0, 0, 0],\n",
       "       [0, 1, 0, 1, 0, 1, 0, 1, 0, 1],\n",
       "       [0, 0, 0, 0, 0, 0, 0, 0, 0, 0]], dtype=int8)"
      ]
     },
     "execution_count": 8,
     "metadata": {},
     "output_type": "execute_result"
    }
   ],
   "source": [
    "array2d[::2, 1::2] = 1\n",
    "array2d"
   ]
  },
  {
   "cell_type": "markdown",
   "metadata": {},
   "source": [
    "## ESERCIZIO 3\n",
    "\n",
    "Dato Vettore = np.array ([1,2,3,1,-2,4,3,1,2])\n",
    "trovare minimi e massimi locali e globali"
   ]
  },
  {
   "cell_type": "code",
   "execution_count": 9,
   "metadata": {},
   "outputs": [
    {
     "data": {
      "text/plain": [
       "array([ 1,  2,  3,  1, -2,  4,  3,  1,  2])"
      ]
     },
     "execution_count": 9,
     "metadata": {},
     "output_type": "execute_result"
    }
   ],
   "source": [
    "a = np.array([1,2,3,1,-2,4,3,1,2])\n",
    "a\n"
   ]
  },
  {
   "cell_type": "code",
   "execution_count": 10,
   "metadata": {},
   "outputs": [
    {
     "data": {
      "text/plain": [
       "-2"
      ]
     },
     "execution_count": 10,
     "metadata": {},
     "output_type": "execute_result"
    }
   ],
   "source": [
    "np.min(a)"
   ]
  },
  {
   "cell_type": "code",
   "execution_count": 11,
   "metadata": {},
   "outputs": [
    {
     "data": {
      "text/plain": [
       "array([ 2,  1,  2,  3,  1, -2,  4,  3,  1])"
      ]
     },
     "execution_count": 11,
     "metadata": {},
     "output_type": "execute_result"
    }
   ],
   "source": [
    "array_dx = np.roll(a, +1)\n",
    "array_dx"
   ]
  },
  {
   "cell_type": "code",
   "execution_count": 12,
   "metadata": {},
   "outputs": [
    {
     "data": {
      "text/plain": [
       "array([ 2,  3,  1, -2,  4,  3,  1,  2,  1])"
      ]
     },
     "execution_count": 12,
     "metadata": {},
     "output_type": "execute_result"
    }
   ],
   "source": [
    "array_sx = np.roll(a, -1)\n",
    "array_sx"
   ]
  },
  {
   "cell_type": "markdown",
   "metadata": {},
   "source": [
    "TROVARE MIN LOCALE"
   ]
  },
  {
   "cell_type": "code",
   "execution_count": 13,
   "metadata": {},
   "outputs": [
    {
     "data": {
      "text/plain": [
       "array([False, False,  True, False, False,  True, False, False,  True])"
      ]
     },
     "execution_count": 13,
     "metadata": {},
     "output_type": "execute_result"
    }
   ],
   "source": [
    "(a > array_sx) & (a > array_dx)"
   ]
  },
  {
   "cell_type": "markdown",
   "metadata": {},
   "source": [
    "Vettorizzazione : permette di non usare i cicli for"
   ]
  },
  {
   "cell_type": "code",
   "execution_count": 14,
   "metadata": {},
   "outputs": [
    {
     "data": {
      "text/plain": [
       "array([3, 4, 2])"
      ]
     },
     "execution_count": 14,
     "metadata": {},
     "output_type": "execute_result"
    }
   ],
   "source": [
    "v1 = a[(a > array_sx) & (a > array_dx)]\n",
    "v1"
   ]
  },
  {
   "cell_type": "markdown",
   "metadata": {},
   "source": [
    "### ESERCIZIO 4\n"
   ]
  },
  {
   "cell_type": "code",
   "execution_count": 15,
   "metadata": {},
   "outputs": [
    {
     "data": {
      "text/plain": [
       "array([[0, 0, 0, 0, 0, 0, 0, 0, 0, 0],\n",
       "       [0, 0, 0, 0, 0, 0, 0, 0, 0, 0],\n",
       "       [0, 0, 0, 0, 0, 0, 0, 0, 0, 0],\n",
       "       [0, 0, 0, 0, 0, 0, 0, 0, 0, 0],\n",
       "       [0, 0, 0, 0, 0, 0, 0, 0, 0, 0],\n",
       "       [0, 0, 0, 0, 0, 0, 0, 0, 0, 0],\n",
       "       [0, 0, 0, 0, 0, 0, 0, 0, 0, 0],\n",
       "       [0, 0, 0, 0, 0, 0, 0, 0, 0, 0],\n",
       "       [0, 0, 0, 0, 0, 0, 0, 0, 0, 0],\n",
       "       [0, 0, 0, 0, 0, 0, 0, 0, 0, 0]], dtype=int8)"
      ]
     },
     "execution_count": 15,
     "metadata": {},
     "output_type": "execute_result"
    }
   ],
   "source": [
    "n = 10\n",
    "array2d = np.zeros((n,n) ,dtype= np.int8)\n",
    "array2d\n"
   ]
  },
  {
   "cell_type": "code",
   "execution_count": 16,
   "metadata": {},
   "outputs": [
    {
     "data": {
      "text/plain": [
       "array([[0, 0, 0, 0, 0, 0, 0, 0, 0, 0],\n",
       "       [0, 1, 1, 1, 1, 1, 1, 1, 1, 0],\n",
       "       [0, 1, 2, 2, 2, 2, 2, 2, 1, 0],\n",
       "       [0, 1, 2, 3, 3, 3, 3, 2, 1, 0],\n",
       "       [0, 1, 2, 3, 4, 4, 3, 2, 1, 0],\n",
       "       [0, 1, 2, 3, 4, 4, 3, 2, 1, 0],\n",
       "       [0, 1, 2, 3, 3, 3, 3, 2, 1, 0],\n",
       "       [0, 1, 2, 2, 2, 2, 2, 2, 1, 0],\n",
       "       [0, 1, 1, 1, 1, 1, 1, 1, 1, 0],\n",
       "       [0, 0, 0, 0, 0, 0, 0, 0, 0, 0]], dtype=int8)"
      ]
     },
     "execution_count": 16,
     "metadata": {},
     "output_type": "execute_result"
    }
   ],
   "source": [
    "for i in range(1, n//2):\n",
    "    array2d[i:-i,i:-i]+=1\n",
    "\n",
    "array2d\n"
   ]
  },
  {
   "cell_type": "code",
   "execution_count": 17,
   "metadata": {},
   "outputs": [
    {
     "data": {
      "text/plain": [
       "<matplotlib.image.AxesImage at 0x24717fac1f0>"
      ]
     },
     "execution_count": 17,
     "metadata": {},
     "output_type": "execute_result"
    },
    {
     "data": {
      "image/png": "[encoded data removed]",
      "text/plain": [
       "<Figure size 640x480 with 1 Axes>"
      ]
     },
     "metadata": {},
     "output_type": "display_data"
    }
   ],
   "source": [
    "plt.imshow(array2d)"
   ]
  },
  {
   "cell_type": "markdown",
   "metadata": {},
   "source": [
    "## ESERCIZIO 5"
   ]
  },
  {
   "cell_type": "code",
   "execution_count": 18,
   "metadata": {},
   "outputs": [
    {
     "data": {
      "text/plain": [
       "array([144.97081979, 185.35527277, 173.97515675, 175.63871633,\n",
       "       153.22175883, 175.21113537])"
      ]
     },
     "execution_count": 18,
     "metadata": {},
     "output_type": "execute_result"
    }
   ],
   "source": [
    "altezze = np.array([189,178,145,177,181,180])\n",
    "\n",
    "np.random.normal(np.mean(altezze), np.std(altezze), len(altezze))"
   ]
  },
  {
   "cell_type": "code",
   "execution_count": 19,
   "metadata": {},
   "outputs": [
    {
     "data": {
      "text/plain": [
       "array([156.32384443, 193.48513834, 179.51474827, ..., 147.63796461,\n",
       "       195.55322313, 166.84188416])"
      ]
     },
     "execution_count": 19,
     "metadata": {},
     "output_type": "execute_result"
    }
   ],
   "source": [
    "altezze_itis = np.random.normal(np.mean(altezze), np.std(altezze), 1200)\n",
    "altezze_itis"
   ]
  },
  {
   "cell_type": "code",
   "execution_count": 20,
   "metadata": {},
   "outputs": [
    {
     "data": {
      "text/plain": [
       "51"
      ]
     },
     "execution_count": 20,
     "metadata": {},
     "output_type": "execute_result"
    }
   ],
   "source": [
    "np.count_nonzero(altezze_itis > 200)"
   ]
  },
  {
   "cell_type": "code",
   "execution_count": 21,
   "metadata": {},
   "outputs": [
    {
     "data": {
      "text/plain": [
       "array([204.03020294, 217.81116639, 200.64429069, 207.94087008,\n",
       "       201.51930731, 201.40738582, 208.79212704, 206.69662984,\n",
       "       204.60827003, 205.48784906, 204.85115818, 203.10355644,\n",
       "       203.27156036, 200.70561112, 202.00406121, 200.31095528,\n",
       "       205.17797038, 208.42506995, 202.1279199 , 202.26992583,\n",
       "       209.56755755, 211.70053159, 209.57792837, 202.44127243,\n",
       "       203.33352888, 202.71812179, 207.95363314, 202.79854841,\n",
       "       205.89392577, 200.97684744, 202.44923883, 206.52657234,\n",
       "       223.77165653, 202.08548245, 217.73746412, 200.05973859,\n",
       "       202.03780124, 200.67996165, 200.29145564, 203.48156581,\n",
       "       201.90364748, 210.69072992, 210.33378994, 212.14739123,\n",
       "       204.18114975, 200.08732156, 203.66553315, 206.16245904,\n",
       "       201.45645992, 214.17853023, 218.75726939])"
      ]
     },
     "execution_count": 21,
     "metadata": {},
     "output_type": "execute_result"
    }
   ],
   "source": [
    "altezze_itis[altezze_itis > 200]"
   ]
  },
  {
   "cell_type": "markdown",
   "metadata": {},
   "source": [
    "## ESERCIZIO 6"
   ]
  },
  {
   "cell_type": "code",
   "execution_count": 22,
   "metadata": {},
   "outputs": [
    {
     "data": {
      "text/plain": [
       "array([15.70011394, 18.97893221, 28.02681336, 14.93353429, 15.1275748 ,\n",
       "        9.01302412, 19.74494164, 24.26999304, 21.92333601, 17.4798866 ,\n",
       "       21.93361565, 17.30787487, 21.96314198, 21.2668024 , 21.27340091,\n",
       "       16.85349091, 21.9885927 , 25.39886828, 15.38073797, 20.76936344,\n",
       "       20.66802735, 25.69507228, 10.7271761 , 17.71040452, 20.09929265,\n",
       "       15.40463197, 12.54094498, 18.48014016, 13.83995432, 15.8957646 ,\n",
       "       27.45773773, 17.34497401, 22.25974646, 15.77479041, 22.29341997,\n",
       "       23.62099563, 11.39252013, 22.23425368, 17.43417666, 15.32171739,\n",
       "       18.93666125, 18.65537871, 25.55670859, 24.4352508 , 15.38499911,\n",
       "       24.08621143, 16.21702148, 26.35814486, 19.25250444, 14.51184364,\n",
       "       22.27957559, 17.6671236 , 17.03230191, 18.35197648, 24.65468452,\n",
       "       23.70533232, 17.82052364, 10.9682278 , 20.01563904, 23.34522181,\n",
       "       21.28486368, 18.82979928, 15.73054928, 17.88693786, 14.93570946,\n",
       "       19.61492731, 20.81352555, 19.09406682, 11.05514851, 18.66066818,\n",
       "       27.90972624, 20.70374965, 20.92657436, 14.34928779, 24.10296282,\n",
       "       20.39090952, 19.62891786, 13.41673084,  8.64947534, 23.80461399,\n",
       "       17.31389632, 21.70868668, 21.81147501, 18.56411879, 17.84190489,\n",
       "       16.78236767, 15.25480665, 20.36640717, 22.08327609, 21.08806716,\n",
       "        9.41183985, 15.36331511, 27.64507591, 11.52603548, 12.61804914,\n",
       "       23.87732567, 14.54064983, 17.38917685, 18.2472476 , 16.44990601,\n",
       "       15.78572179, 18.62602374, 13.3667851 , 13.86787298, 24.46690195,\n",
       "       13.64895199, 13.37134133, 28.96543743, 20.45319482, 19.65768376,\n",
       "       26.26148483, 27.55221823, 19.81347383, 25.59012849, 15.02095618,\n",
       "       15.43788442, 14.79657414, 22.10156527, 25.27640937, 21.91508231,\n",
       "       10.94799276, 12.70761348, 19.71406291, 24.05585408, 31.99765951,\n",
       "       17.68093748, 16.9113753 , 14.76075124, 15.09261467, 22.71544078,\n",
       "       11.64161496, 28.95415721, 17.73576854,  9.13394507, 13.64906746,\n",
       "       23.17206309, 25.94288649, 22.67378999, 24.25713835, 30.68609763,\n",
       "       14.91110729,  8.56221325, 21.72198707, 12.78758952, 26.03063971,\n",
       "       18.75357845,  8.70204413, 15.34298474, 27.44021304, 11.55510405,\n",
       "       21.6119811 ,  5.3052338 , 23.39010284, 16.17977293, 18.1764717 ,\n",
       "       13.9383239 , 26.27003421, 22.28377944, 26.08552611, 18.74496931,\n",
       "        9.63485784,  9.89122785, 16.30079455, 18.17894779, 19.53516016,\n",
       "       21.81057231, 18.14194478, 25.53510725, 24.6103669 ,  8.33128649,\n",
       "       15.3846277 , 22.98155633, 14.53011938, 11.73146083, 15.86276629,\n",
       "       11.93626396, 20.56346514, 22.24472546, 29.08858901, 31.8910217 ,\n",
       "       17.98053962, 26.54347463, 23.20114096, 24.656478  , 11.67979294,\n",
       "       23.72268888, 16.81692799, 20.69990326, 14.59028834, 21.30140783,\n",
       "       17.48464624, 16.46774576, 18.30111212, 19.88788495, 14.74861845,\n",
       "       31.88863875, 15.55470231, 19.33981201, 19.56976458, 17.99628201,\n",
       "       17.83842181, 17.20380214, 18.33468921, 17.65323706, 17.93864538,\n",
       "       22.17125462, 16.14415967, 24.77230513, 11.49052979, 19.90002488,\n",
       "       23.85211569, 26.43171111, 13.74116491, 12.47451956, 13.19163298,\n",
       "       17.78904824, 20.18574814, 12.52788972, 22.3480664 , 21.84330307,\n",
       "       11.50455204, 20.78381484, 12.09643844, 21.51615206, 14.62930341,\n",
       "       13.20147145, 24.5481068 , 23.19183746, 19.66072442, 13.82575915,\n",
       "       23.60074468, 15.52002571, 19.17110916, 24.71401605, 25.53276286,\n",
       "       24.79131375, 19.21181625, 26.18937139, 10.88020977, 13.96520317,\n",
       "       17.20743247, 20.61568717, 12.54281149, 21.86936455, 18.84729456,\n",
       "       20.48508244,  7.05749345, 19.25304108, 18.21159578, 19.89226673,\n",
       "       15.73411766, 19.84570662, 14.71343203, 20.36503892, 17.79241277,\n",
       "       24.21151245, 18.00970184, 16.10173197, 18.1705039 , 32.12323971,\n",
       "       23.59421752, 15.36773643, 14.50646134, 20.50198478, 14.7671389 ,\n",
       "       19.07253922, 16.69244743, 17.06494142, 16.29747901, 18.21643511,\n",
       "       25.40588602, 20.30456897, 29.75034084, 18.09990695, 22.04814631,\n",
       "       24.91831533, 13.5157819 , 14.26825519, 20.99730762, 20.20106887,\n",
       "       19.25956774, 12.89752652, 15.28800414, 18.29845075, 14.64952158,\n",
       "       13.97794391, 16.50678576, 22.16552084, 23.96157318,  9.83036421,\n",
       "       14.93020955, 21.31922446, 17.35557199, 14.09615768, 20.36306656,\n",
       "       18.7384431 , 10.90376658, 23.21048189, 17.35930357, 24.72423943,\n",
       "       11.50997945, 11.07213691, 31.88056067, 26.78902784, 20.48398062,\n",
       "       17.90547518, 17.85387451, 16.73431615, 24.30358773, 26.28647147,\n",
       "       12.21103925, 18.09298767, 17.83894145, 14.96617296, 26.04339707,\n",
       "       21.99657564, 19.66947696, 24.76263229, 13.75388606, 29.22540949,\n",
       "       10.88299238, 15.97216194, 22.07529824, 12.48369277, 15.35287231,\n",
       "       10.77127518, 16.49466538, 26.00637521,  6.72832957, 21.14377162,\n",
       "       24.45434851, 21.67725978,  8.23686704, 25.21994621, 20.07117508,\n",
       "       19.1730845 , 23.70672861, 16.55257109, 20.87902716, 14.99696647,\n",
       "       25.04444886, 22.38830679, 14.27265203, 17.72122111, 16.56282131,\n",
       "       21.26479498, 22.99657511, 16.91153059, 19.16169551, 16.72762349,\n",
       "       17.02203191, 16.37439974, 21.10937924, 23.33842366, 25.45396039,\n",
       "       18.58588717, 13.05564741, 22.8725815 , 20.47823254, 20.45248507,\n",
       "       17.27858403, 20.08409038, 12.47110698, 24.42639537, 17.04091123,\n",
       "       36.11055158, 20.24036949, 15.60405725, 15.65318197, 21.42265757,\n",
       "       20.45663438, 17.10320282, 16.44182582, 20.86539581, 29.46369426,\n",
       "       27.78575344, 14.33365022, 10.35196486, 20.98844604, 18.59093323,\n",
       "        7.54682643, 22.58751636, 24.86944254, 26.05770592, 17.75801074,\n",
       "       12.63665538, 19.16499937, 13.08896268, 20.25004603, 10.8916849 ,\n",
       "       24.32120016, 22.48010928, 20.58800142, 18.27867218, 15.91454736,\n",
       "       16.32512805, 22.15360227, 14.27053872, 21.14417736, 11.7322872 ,\n",
       "       14.03155384, 23.7828026 , 26.49069627, 26.13381405, 19.253741  ,\n",
       "       13.73960696, 23.98940246, 14.46878698, 29.02683778, 19.28093563,\n",
       "       20.7659715 , 16.52621822, 21.09737251, 22.24715655, 17.43860772,\n",
       "        8.55609054, 11.89790694, 17.3294534 , 10.91539295, 14.53394594,\n",
       "       17.22736363, 12.04930331, 12.05845918, 14.934549  , 15.8284238 ,\n",
       "       23.13172528, 16.37485828, 22.84391049, 18.06030314, 21.65375395,\n",
       "       12.60025732, 25.48998117, 25.87560607, 23.86678654, 19.34737487,\n",
       "       16.84633248, 16.28117822, 19.61835447, 10.1616057 , 21.73342294,\n",
       "       16.80346095, 14.94482544, 12.64834068, 23.45750995, 25.26780217,\n",
       "       24.79860192, 17.90739715, 16.20997561, 22.22783306, 22.29052259,\n",
       "       22.1566762 , 24.18229969, 22.91967964, 22.94938265, 26.23214151,\n",
       "       15.80361758, 19.09394582, 19.24206686, 13.33991867, 20.67476654,\n",
       "       27.08867233, 17.31181397, 20.91388632, 17.09741578, 15.79605374,\n",
       "       18.6226127 , 17.88647922, 21.36013989, 16.82218659, 29.13673178,\n",
       "       15.03765889, 19.93091896, 17.45542873, 15.97237606, 23.34517471,\n",
       "       23.73594446, 17.89387505, 27.96571615, 17.61184518, 20.71023954,\n",
       "       19.44145572, 18.56584826, 16.66621622, 19.28368858, 26.30270313,\n",
       "       20.6012779 ,  9.47588409, 17.42216555, 25.82658959, 14.3187087 ,\n",
       "       11.6501049 , 22.09851564, 22.83342481, 24.17316617, 10.66198958,\n",
       "       11.23409198, 20.6506817 , 18.22920364, 19.48888686, 10.17499421,\n",
       "       16.81939142, 10.49251575, 20.54056932, 17.63489367, 16.27927742,\n",
       "       13.53172647, 15.33324765, 20.04936081, 18.10978076, 20.74258142,\n",
       "       22.84335038, 16.665367  , 21.99759943, 14.55326154, 14.40953764,\n",
       "       13.83360404, 19.02105223, 25.02429334, 19.28314748, 17.96068775,\n",
       "       20.53458208,  7.99199525, 24.35023527, 12.16766152, 13.95452812,\n",
       "       15.25484735, 16.96843663, 14.46358351, 28.28173055, 21.74091105,\n",
       "       18.79159657, 19.51613718, 10.51011971, 27.41705703, 18.34477092,\n",
       "       28.765966  , 11.1657263 , 17.67443575, 18.29840696, 18.80398501,\n",
       "       21.42443464, 15.64758835, 24.81455875, 18.89715703, 17.73728682,\n",
       "       17.26274454, 18.49833471, 14.54722415, 19.61628414, 17.30953876,\n",
       "       26.8689142 , 28.34644146, 14.74253944, 18.23971318, 19.84096581,\n",
       "       14.93425128, 22.02001329,  9.46343305, 14.0263843 , 21.82191322,\n",
       "       23.41373779, 22.31639207, 21.54181411, 24.46052009, 20.18833529,\n",
       "       18.27180617, 13.84725419, 14.03303052, 12.21060877, 25.21151533,\n",
       "        7.69677877, 15.77091065, 19.47068378, 13.16539118, 13.9705139 ,\n",
       "       15.75440691, 26.40975213, 15.436497  , 10.55842293, 16.76469424,\n",
       "       20.86463401, 23.05278935, 19.66997092, 10.14301371, 16.22932264,\n",
       "       26.88739102, 16.44861181, 10.70495098, 21.20863991, 19.0621788 ,\n",
       "       14.16529609, 13.12049064, 16.3216258 , 16.84604449, 21.18929815,\n",
       "       13.31375282, 15.28527307, 19.20442907, 15.16028188, 22.73937996,\n",
       "       27.74432749, 26.18623143, 25.65293005, 20.65597771, 17.467266  ,\n",
       "       21.43689676, 24.11392574, 12.73475598, 23.43447719, 16.04790478,\n",
       "       10.31060369, 14.5814419 , 20.19188449, 21.04730207, 18.45350867,\n",
       "       21.54810105, 22.40762724, 24.42738853, 22.75393979, 19.27503215,\n",
       "       18.76878922, 14.77922287, 14.21171329, 17.22841411, 19.93851641,\n",
       "       33.55253312, 11.02303451, 18.43328966, 13.53878381, 19.07228809,\n",
       "       22.02105221, 18.71937682, 15.68192663, 29.56131006, 12.65292422,\n",
       "       15.40140641, 13.39488372, 22.3328433 , 26.17976937,  7.03235231,\n",
       "       26.9740172 , 18.15546081, 16.13124671, 13.96239837, 24.19944713,\n",
       "       25.77377363, 14.9298362 , 24.57584573, 22.73097177, 17.45208886,\n",
       "       21.05857007, 13.05017459, 17.00540047, 22.4309838 , 17.47890985,\n",
       "       18.40432743, 17.49261007, 27.63066012, 17.44313202, 25.25630874,\n",
       "       19.39256534, 20.14286122, 23.42789929, 28.73393378, 17.39575329,\n",
       "       16.02282467,  7.13812787, 23.04130077, 21.77580779, 20.15787582,\n",
       "       16.70117765, 20.1500663 , 23.13316227,  5.59599597, 28.99693099,\n",
       "       15.16886695, 18.39499882, 15.66341923, 11.19810678, 31.82989448,\n",
       "       23.59270009, 17.89453103, 20.90222571, 20.53462927, 18.77990184,\n",
       "       21.52949384, 11.9432329 , 28.39333016, 12.09702381, 15.95918248,\n",
       "       16.58443356, 15.43005212, 16.112723  , 25.31651746, 13.95285087,\n",
       "       12.18087869, 22.41691072, 17.01328912, 15.3482875 , 12.83857903,\n",
       "       18.51532856, 14.35167559, 23.42932685, 17.85472279, 14.61958352,\n",
       "       12.39817771, 20.2214183 , 13.73578559, 18.38211093, 27.84546375,\n",
       "        9.66648764, 24.67482104, 13.70957497, 26.34082028, 20.0822811 ,\n",
       "       15.82735816, 16.38103965, 19.33045554, 17.36558304, 15.55698057,\n",
       "       22.69193991, 17.46104524, 23.40274651, 20.29553132, 23.15924098,\n",
       "       29.19652638, 21.84650737,  9.12002043, 18.6493677 ,  7.03462613,\n",
       "       22.49427888, 15.02417285, 19.97635712, 18.39356383, 25.36514354,\n",
       "       19.85367569, 14.8152068 , 14.65935645, 21.5018491 , 18.28912684,\n",
       "       22.27816872, 17.76075707, 18.45803881, 25.01472006,  9.81928204,\n",
       "       15.20187287, 20.27873337, 14.73904943, 22.03629473, 26.65318496,\n",
       "       14.86640943, 14.1651346 , 21.13615162, 20.8568888 , 23.04008549,\n",
       "       15.88416395, 14.0301377 , 14.65839587, 17.76546571, 15.85835984,\n",
       "       15.80253699, 15.5281119 , 19.5829359 , 18.59332749, 11.14741342,\n",
       "       18.90792108, 20.46958924, 27.90566182, 17.69580261, 26.51768112,\n",
       "       22.06472725, 11.58856394, 17.30740566, 28.01695823, 20.29787125,\n",
       "       23.41819483, 20.22180905, 15.46523657, 23.35996107, 15.5342986 ,\n",
       "       11.92380512, 16.23644973, 14.50032215, 19.78424991, 18.88153572,\n",
       "       24.28023922, 23.16206745, 26.75425541, 20.3860038 , 14.50247645,\n",
       "       17.86759046, 26.05889932, 29.23855769, 11.17987386, 17.16207024,\n",
       "       13.21584315, 17.31136583, 19.24887017,  6.93793844, 20.82725911,\n",
       "       14.34201938, 31.967407  , 15.41966571, 20.00260009, 18.61868042,\n",
       "       17.14110677, 15.10797938, 20.69743062, 17.14511081, 20.87225668,\n",
       "       21.34053634, 29.31622932, 13.75960603, 17.29578547, 19.32057696,\n",
       "       22.42431517, 16.99564192, 11.73896606, 20.91400691, 22.42979553,\n",
       "       13.81383689, 14.07836579, 22.09996073, 21.08613922, 15.59302567,\n",
       "       17.74787741, 19.34571343, 23.28526216, 23.9954282 , 15.36778602,\n",
       "       16.74069726, 12.80055691, 26.90304911, 22.97353006, 14.76122425,\n",
       "       23.09715394, 28.76277063, 15.69251642, 14.07340539, 16.98819563,\n",
       "       23.18295483, 16.36444093, 12.92023647, 18.29976589, 17.33656558,\n",
       "       29.0720749 , 19.12457663, 14.20482072, 18.2916867 , 26.03747298,\n",
       "       22.50668368, 19.27390728, 25.04682778, 19.75347836, 23.02720357,\n",
       "       21.30256135, 15.23158971, 24.15917497, 15.38077802, 11.34085404,\n",
       "       10.60677369, 18.42326609, 21.44185739, 12.6093163 , 21.7878969 ,\n",
       "       16.11431379, 17.74319603, 15.10439373, 23.16836163, 20.22978713,\n",
       "       13.17952492, 25.14077707, 16.18726501, 14.29168984, 23.85163987,\n",
       "       19.87510424, 18.52516247, 11.16283109, 11.79032036, 20.415453  ,\n",
       "       30.33284334, 22.33363011,  5.165151  , 21.07038853, 16.11147091,\n",
       "       16.33749692, 25.07591429, 12.60105498, 27.00264782, 21.13428226,\n",
       "       23.3037915 ,  9.18132521, 12.38905189, 14.0195781 , 14.38594651,\n",
       "       15.75554609, 12.6144301 , 17.47579213, 18.56679642, 24.05568823,\n",
       "       14.53069022, 16.36516426, 18.26732626, 15.91142608, 24.13527678,\n",
       "       12.96642632, 22.00771804, 23.16263652, 15.028962  , 23.854986  ,\n",
       "       18.28186477, 23.84982985, 20.86259096, 20.2684927 , 25.55684712,\n",
       "       19.56016843, 14.85808795, 18.0209024 , 18.10557285, 25.05191156,\n",
       "       16.52384012, 17.88087722, 27.14443108, 18.4243405 , 24.71962377,\n",
       "       22.39277624, 17.18343817, 31.92587012, 23.76662665, 14.92380137,\n",
       "       26.50261909, 10.71321254, 20.68799906, 21.46904084, 16.59810002,\n",
       "       20.98240098, 18.22749997, 19.05930792, 17.34656654, 16.97267055,\n",
       "       17.61732017, 18.82409247, 18.36445049, 19.0468096 , 13.13312285,\n",
       "       17.28845235, 24.18062237, 14.47497567,  6.52800404, 21.25216274,\n",
       "       20.48747769, 22.94724122, 16.44565388, 26.28147689, 17.59142056,\n",
       "       20.99963602, 10.29363222, 18.37695047, 20.07115075, 14.28882783,\n",
       "       14.06247032, 15.42274347, 26.84312366, 19.34298667, 19.52522853,\n",
       "       26.33644646, 17.34288995, 12.24815572, 20.88832654, 12.99337017,\n",
       "       17.98530515, 30.94049257, 14.36837329, 17.26472966, 18.04973324,\n",
       "       29.11430567, 16.05333657, 11.9246971 , 10.61152334, 25.50296902,\n",
       "       21.79946971, 13.03154979, 23.54082149,  7.73240648, 23.43332183,\n",
       "        9.55310249, 20.22417737, 19.43197449, 13.38934104, 20.30812706,\n",
       "       29.05211352, 19.80519254, 21.80864568, 25.47962407, 15.13236843,\n",
       "       24.7079918 , 12.88392074, 16.4986191 , 16.80299658, 18.51343368])"
      ]
     },
     "execution_count": 22,
     "metadata": {},
     "output_type": "execute_result"
    }
   ],
   "source": [
    "array_campioni = np.random.normal(19,5,1000)\n",
    "array_campioni"
   ]
  },
  {
   "cell_type": "code",
   "execution_count": 23,
   "metadata": {},
   "outputs": [],
   "source": [
    "array_campioni[np.random.randint(0,1000,20)] = 9999.99"
   ]
  },
  {
   "cell_type": "code",
   "execution_count": 24,
   "metadata": {},
   "outputs": [
    {
     "data": {
      "text/plain": [
       "array([1.57001139e+01, 1.89789322e+01, 2.80268134e+01, 1.49335343e+01,\n",
       "       1.51275748e+01, 9.01302412e+00, 1.97449416e+01, 2.42699930e+01,\n",
       "       2.19233360e+01, 1.74798866e+01, 2.19336157e+01, 1.73078749e+01,\n",
       "       2.19631420e+01, 2.12668024e+01, 2.12734009e+01, 1.68534909e+01,\n",
       "       2.19885927e+01, 2.53988683e+01, 1.53807380e+01, 2.07693634e+01,\n",
       "       2.06680273e+01, 2.56950723e+01, 1.07271761e+01, 1.77104045e+01,\n",
       "       2.00992927e+01, 1.54046320e+01, 1.25409450e+01, 1.84801402e+01,\n",
       "       1.38399543e+01, 1.58957646e+01, 2.74577377e+01, 1.73449740e+01,\n",
       "       2.22597465e+01, 1.57747904e+01, 2.22934200e+01, 2.36209956e+01,\n",
       "       1.13925201e+01, 2.22342537e+01, 1.74341767e+01, 1.53217174e+01,\n",
       "       1.89366612e+01, 1.86553787e+01, 2.55567086e+01, 2.44352508e+01,\n",
       "       1.53849991e+01, 2.40862114e+01, 1.62170215e+01, 2.63581449e+01,\n",
       "       1.92525044e+01, 1.45118436e+01, 2.22795756e+01, 1.76671236e+01,\n",
       "       1.70323019e+01, 1.83519765e+01, 2.46546845e+01, 2.37053323e+01,\n",
       "       1.78205236e+01, 1.09682278e+01, 2.00156390e+01, 2.33452218e+01,\n",
       "       2.12848637e+01, 1.88297993e+01, 1.57305493e+01, 1.78869379e+01,\n",
       "       1.49357095e+01, 1.96149273e+01, 2.08135255e+01, 1.90940668e+01,\n",
       "       1.10551485e+01, 1.86606682e+01, 2.79097262e+01, 2.07037497e+01,\n",
       "       2.09265744e+01, 1.43492878e+01, 2.41029628e+01, 2.03909095e+01,\n",
       "       1.96289179e+01, 1.34167308e+01, 8.64947534e+00, 2.38046140e+01,\n",
       "       1.73138963e+01, 2.17086867e+01, 2.18114750e+01, 1.85641188e+01,\n",
       "       1.78419049e+01, 1.67823677e+01, 1.52548066e+01, 2.03664072e+01,\n",
       "       2.20832761e+01, 9.99999000e+03, 9.41183985e+00, 1.53633151e+01,\n",
       "       2.76450759e+01, 1.15260355e+01, 1.26180491e+01, 2.38773257e+01,\n",
       "       1.45406498e+01, 1.73891769e+01, 1.82472476e+01, 1.64499060e+01,\n",
       "       1.57857218e+01, 1.86260237e+01, 1.33667851e+01, 1.38678730e+01,\n",
       "       2.44669020e+01, 1.36489520e+01, 1.33713413e+01, 2.89654374e+01,\n",
       "       2.04531948e+01, 1.96576838e+01, 2.62614848e+01, 2.75522182e+01,\n",
       "       1.98134738e+01, 2.55901285e+01, 1.50209562e+01, 1.54378844e+01,\n",
       "       1.47965741e+01, 2.21015653e+01, 2.52764094e+01, 2.19150823e+01,\n",
       "       1.09479928e+01, 1.27076135e+01, 1.97140629e+01, 2.40558541e+01,\n",
       "       3.19976595e+01, 1.76809375e+01, 1.69113753e+01, 1.47607512e+01,\n",
       "       1.50926147e+01, 2.27154408e+01, 1.16416150e+01, 2.89541572e+01,\n",
       "       1.77357685e+01, 9.13394507e+00, 1.36490675e+01, 2.31720631e+01,\n",
       "       2.59428865e+01, 2.26737900e+01, 2.42571384e+01, 3.06860976e+01,\n",
       "       1.49111073e+01, 9.99999000e+03, 2.17219871e+01, 1.27875895e+01,\n",
       "       2.60306397e+01, 1.87535785e+01, 8.70204413e+00, 1.53429847e+01,\n",
       "       2.74402130e+01, 1.15551040e+01, 2.16119811e+01, 5.30523380e+00,\n",
       "       2.33901028e+01, 1.61797729e+01, 1.81764717e+01, 1.39383239e+01,\n",
       "       2.62700342e+01, 2.22837794e+01, 2.60855261e+01, 1.87449693e+01,\n",
       "       9.63485784e+00, 9.89122785e+00, 1.63007945e+01, 1.81789478e+01,\n",
       "       1.95351602e+01, 2.18105723e+01, 1.81419448e+01, 2.55351073e+01,\n",
       "       2.46103669e+01, 8.33128649e+00, 1.53846277e+01, 2.29815563e+01,\n",
       "       1.45301194e+01, 1.17314608e+01, 1.58627663e+01, 1.19362640e+01,\n",
       "       2.05634651e+01, 2.22447255e+01, 2.90885890e+01, 3.18910217e+01,\n",
       "       1.79805396e+01, 2.65434746e+01, 2.32011410e+01, 2.46564780e+01,\n",
       "       1.16797929e+01, 2.37226889e+01, 1.68169280e+01, 2.06999033e+01,\n",
       "       1.45902883e+01, 2.13014078e+01, 1.74846462e+01, 1.64677458e+01,\n",
       "       1.83011121e+01, 1.98878849e+01, 1.47486185e+01, 3.18886388e+01,\n",
       "       1.55547023e+01, 1.93398120e+01, 1.95697646e+01, 1.79962820e+01,\n",
       "       1.78384218e+01, 1.72038021e+01, 1.83346892e+01, 1.76532371e+01,\n",
       "       1.79386454e+01, 2.21712546e+01, 1.61441597e+01, 2.47723051e+01,\n",
       "       1.14905298e+01, 1.99000249e+01, 2.38521157e+01, 2.64317111e+01,\n",
       "       1.37411649e+01, 1.24745196e+01, 1.31916330e+01, 1.77890482e+01,\n",
       "       2.01857481e+01, 1.25278897e+01, 2.23480664e+01, 2.18433031e+01,\n",
       "       1.15045520e+01, 2.07838148e+01, 1.20964384e+01, 2.15161521e+01,\n",
       "       1.46293034e+01, 9.99999000e+03, 2.45481068e+01, 2.31918375e+01,\n",
       "       1.96607244e+01, 1.38257591e+01, 2.36007447e+01, 1.55200257e+01,\n",
       "       1.91711092e+01, 2.47140161e+01, 2.55327629e+01, 9.99999000e+03,\n",
       "       1.92118162e+01, 2.61893714e+01, 1.08802098e+01, 1.39652032e+01,\n",
       "       1.72074325e+01, 2.06156872e+01, 1.25428115e+01, 2.18693645e+01,\n",
       "       1.88472946e+01, 2.04850824e+01, 7.05749345e+00, 1.92530411e+01,\n",
       "       1.82115958e+01, 1.98922667e+01, 1.57341177e+01, 1.98457066e+01,\n",
       "       1.47134320e+01, 2.03650389e+01, 1.77924128e+01, 2.42115125e+01,\n",
       "       1.80097018e+01, 1.61017320e+01, 1.81705039e+01, 3.21232397e+01,\n",
       "       2.35942175e+01, 1.53677364e+01, 1.45064613e+01, 2.05019848e+01,\n",
       "       1.47671389e+01, 1.90725392e+01, 1.66924474e+01, 1.70649414e+01,\n",
       "       1.62974790e+01, 1.82164351e+01, 2.54058860e+01, 2.03045690e+01,\n",
       "       2.97503408e+01, 1.80999069e+01, 2.20481463e+01, 2.49183153e+01,\n",
       "       1.35157819e+01, 1.42682552e+01, 2.09973076e+01, 2.02010689e+01,\n",
       "       1.92595677e+01, 1.28975265e+01, 1.52880041e+01, 1.82984507e+01,\n",
       "       1.46495216e+01, 1.39779439e+01, 1.65067858e+01, 2.21655208e+01,\n",
       "       2.39615732e+01, 9.83036421e+00, 1.49302095e+01, 2.13192245e+01,\n",
       "       9.99999000e+03, 1.40961577e+01, 2.03630666e+01, 1.87384431e+01,\n",
       "       1.09037666e+01, 2.32104819e+01, 1.73593036e+01, 2.47242394e+01,\n",
       "       1.15099794e+01, 1.10721369e+01, 3.18805607e+01, 2.67890278e+01,\n",
       "       2.04839806e+01, 1.79054752e+01, 1.78538745e+01, 1.67343161e+01,\n",
       "       2.43035877e+01, 2.62864715e+01, 1.22110393e+01, 1.80929877e+01,\n",
       "       1.78389415e+01, 1.49661730e+01, 2.60433971e+01, 2.19965756e+01,\n",
       "       1.96694770e+01, 2.47626323e+01, 1.37538861e+01, 2.92254095e+01,\n",
       "       1.08829924e+01, 1.59721619e+01, 2.20752982e+01, 1.24836928e+01,\n",
       "       1.53528723e+01, 9.99999000e+03, 1.64946654e+01, 2.60063752e+01,\n",
       "       6.72832957e+00, 2.11437716e+01, 2.44543485e+01, 2.16772598e+01,\n",
       "       9.99999000e+03, 2.52199462e+01, 2.00711751e+01, 1.91730845e+01,\n",
       "       2.37067286e+01, 1.65525711e+01, 2.08790272e+01, 1.49969665e+01,\n",
       "       2.50444489e+01, 2.23883068e+01, 1.42726520e+01, 1.77212211e+01,\n",
       "       1.65628213e+01, 2.12647950e+01, 2.29965751e+01, 1.69115306e+01,\n",
       "       1.91616955e+01, 1.67276235e+01, 1.70220319e+01, 1.63743997e+01,\n",
       "       2.11093792e+01, 2.33384237e+01, 2.54539604e+01, 1.85858872e+01,\n",
       "       1.30556474e+01, 2.28725815e+01, 2.04782325e+01, 2.04524851e+01,\n",
       "       9.99999000e+03, 2.00840904e+01, 1.24711070e+01, 2.44263954e+01,\n",
       "       1.70409112e+01, 3.61105516e+01, 2.02403695e+01, 1.56040572e+01,\n",
       "       1.56531820e+01, 2.14226576e+01, 2.04566344e+01, 1.71032028e+01,\n",
       "       1.64418258e+01, 2.08653958e+01, 2.94636943e+01, 2.77857534e+01,\n",
       "       1.43336502e+01, 1.03519649e+01, 2.09884460e+01, 1.85909332e+01,\n",
       "       7.54682643e+00, 2.25875164e+01, 2.48694425e+01, 2.60577059e+01,\n",
       "       1.77580107e+01, 1.26366554e+01, 1.91649994e+01, 1.30889627e+01,\n",
       "       2.02500460e+01, 1.08916849e+01, 2.43212002e+01, 2.24801093e+01,\n",
       "       2.05880014e+01, 1.82786722e+01, 1.59145474e+01, 1.63251281e+01,\n",
       "       2.21536023e+01, 1.42705387e+01, 2.11441774e+01, 1.17322872e+01,\n",
       "       1.40315538e+01, 2.37828026e+01, 2.64906963e+01, 2.61338140e+01,\n",
       "       1.92537410e+01, 1.37396070e+01, 2.39894025e+01, 1.44687870e+01,\n",
       "       2.90268378e+01, 1.92809356e+01, 2.07659715e+01, 1.65262182e+01,\n",
       "       2.10973725e+01, 2.22471566e+01, 1.74386077e+01, 8.55609054e+00,\n",
       "       1.18979069e+01, 9.99999000e+03, 1.09153929e+01, 1.45339459e+01,\n",
       "       1.72273636e+01, 1.20493033e+01, 1.20584592e+01, 1.49345490e+01,\n",
       "       1.58284238e+01, 2.31317253e+01, 1.63748583e+01, 2.28439105e+01,\n",
       "       1.80603031e+01, 2.16537540e+01, 1.26002573e+01, 2.54899812e+01,\n",
       "       2.58756061e+01, 2.38667865e+01, 1.93473749e+01, 1.68463325e+01,\n",
       "       1.62811782e+01, 1.96183545e+01, 1.01616057e+01, 2.17334229e+01,\n",
       "       1.68034610e+01, 1.49448254e+01, 1.26483407e+01, 2.34575100e+01,\n",
       "       2.52678022e+01, 2.47986019e+01, 1.79073971e+01, 1.62099756e+01,\n",
       "       2.22278331e+01, 2.22905226e+01, 2.21566762e+01, 2.41822997e+01,\n",
       "       2.29196796e+01, 9.99999000e+03, 2.62321415e+01, 1.58036176e+01,\n",
       "       1.90939458e+01, 1.92420669e+01, 1.33399187e+01, 2.06747665e+01,\n",
       "       2.70886723e+01, 1.73118140e+01, 2.09138863e+01, 1.70974158e+01,\n",
       "       1.57960537e+01, 1.86226127e+01, 1.78864792e+01, 2.13601399e+01,\n",
       "       1.68221866e+01, 2.91367318e+01, 9.99999000e+03, 1.99309190e+01,\n",
       "       1.74554287e+01, 1.59723761e+01, 2.33451747e+01, 2.37359445e+01,\n",
       "       1.78938750e+01, 2.79657162e+01, 1.76118452e+01, 2.07102395e+01,\n",
       "       1.94414557e+01, 1.85658483e+01, 1.66662162e+01, 1.92836886e+01,\n",
       "       2.63027031e+01, 2.06012779e+01, 9.47588409e+00, 1.74221656e+01,\n",
       "       2.58265896e+01, 1.43187087e+01, 1.16501049e+01, 2.20985156e+01,\n",
       "       2.28334248e+01, 2.41731662e+01, 1.06619896e+01, 1.12340920e+01,\n",
       "       2.06506817e+01, 1.82292036e+01, 1.94888869e+01, 1.01749942e+01,\n",
       "       1.68193914e+01, 1.04925157e+01, 2.05405693e+01, 1.76348937e+01,\n",
       "       1.62792774e+01, 1.35317265e+01, 1.53332476e+01, 2.00493608e+01,\n",
       "       1.81097808e+01, 2.07425814e+01, 2.28433504e+01, 1.66653670e+01,\n",
       "       2.19975994e+01, 1.45532615e+01, 1.44095376e+01, 1.38336040e+01,\n",
       "       1.90210522e+01, 2.50242933e+01, 1.92831475e+01, 1.79606877e+01,\n",
       "       2.05345821e+01, 7.99199525e+00, 2.43502353e+01, 1.21676615e+01,\n",
       "       1.39545281e+01, 1.52548474e+01, 1.69684366e+01, 1.44635835e+01,\n",
       "       2.82817305e+01, 2.17409111e+01, 1.87915966e+01, 1.95161372e+01,\n",
       "       1.05101197e+01, 2.74170570e+01, 1.83447709e+01, 2.87659660e+01,\n",
       "       1.11657263e+01, 1.76744357e+01, 1.82984070e+01, 1.88039850e+01,\n",
       "       2.14244346e+01, 1.56475883e+01, 2.48145587e+01, 1.88971570e+01,\n",
       "       1.77372868e+01, 1.72627445e+01, 1.84983347e+01, 1.45472242e+01,\n",
       "       1.96162841e+01, 1.73095388e+01, 2.68689142e+01, 2.83464415e+01,\n",
       "       1.47425394e+01, 1.82397132e+01, 1.98409658e+01, 1.49342513e+01,\n",
       "       2.20200133e+01, 9.46343305e+00, 1.40263843e+01, 2.18219132e+01,\n",
       "       2.34137378e+01, 2.23163921e+01, 2.15418141e+01, 2.44605201e+01,\n",
       "       2.01883353e+01, 1.82718062e+01, 1.38472542e+01, 1.40330305e+01,\n",
       "       1.22106088e+01, 2.52115153e+01, 7.69677877e+00, 1.57709107e+01,\n",
       "       1.94706838e+01, 1.31653912e+01, 1.39705139e+01, 1.57544069e+01,\n",
       "       2.64097521e+01, 1.54364970e+01, 1.05584229e+01, 1.67646942e+01,\n",
       "       2.08646340e+01, 2.30527893e+01, 1.96699709e+01, 1.01430137e+01,\n",
       "       1.62293226e+01, 9.99999000e+03, 1.64486118e+01, 1.07049510e+01,\n",
       "       2.12086399e+01, 1.90621788e+01, 1.41652961e+01, 1.31204906e+01,\n",
       "       1.63216258e+01, 1.68460445e+01, 2.11892981e+01, 1.33137528e+01,\n",
       "       9.99999000e+03, 1.92044291e+01, 1.51602819e+01, 2.27393800e+01,\n",
       "       2.77443275e+01, 2.61862314e+01, 2.56529300e+01, 2.06559777e+01,\n",
       "       1.74672660e+01, 2.14368968e+01, 2.41139257e+01, 1.27347560e+01,\n",
       "       2.34344772e+01, 1.60479048e+01, 1.03106037e+01, 1.45814419e+01,\n",
       "       2.01918845e+01, 2.10473021e+01, 1.84535087e+01, 2.15481010e+01,\n",
       "       2.24076272e+01, 2.44273885e+01, 2.27539398e+01, 1.92750321e+01,\n",
       "       1.87687892e+01, 1.47792229e+01, 1.42117133e+01, 1.72284141e+01,\n",
       "       1.99385164e+01, 3.35525331e+01, 1.10230345e+01, 1.84332897e+01,\n",
       "       1.35387838e+01, 1.90722881e+01, 2.20210522e+01, 9.99999000e+03,\n",
       "       1.56819266e+01, 2.95613101e+01, 1.26529242e+01, 1.54014064e+01,\n",
       "       1.33948837e+01, 2.23328433e+01, 2.61797694e+01, 7.03235231e+00,\n",
       "       2.69740172e+01, 1.81554608e+01, 1.61312467e+01, 1.39623984e+01,\n",
       "       2.41994471e+01, 2.57737736e+01, 1.49298362e+01, 2.45758457e+01,\n",
       "       2.27309718e+01, 1.74520889e+01, 2.10585701e+01, 1.30501746e+01,\n",
       "       1.70054005e+01, 2.24309838e+01, 1.74789099e+01, 1.84043274e+01,\n",
       "       1.74926101e+01, 2.76306601e+01, 1.74431320e+01, 2.52563087e+01,\n",
       "       1.93925653e+01, 2.01428612e+01, 2.34278993e+01, 2.87339338e+01,\n",
       "       1.73957533e+01, 1.60228247e+01, 7.13812787e+00, 2.30413008e+01,\n",
       "       2.17758078e+01, 2.01578758e+01, 1.67011777e+01, 2.01500663e+01,\n",
       "       9.99999000e+03, 5.59599597e+00, 2.89969310e+01, 1.51688670e+01,\n",
       "       1.83949988e+01, 1.56634192e+01, 1.11981068e+01, 3.18298945e+01,\n",
       "       2.35927001e+01, 1.78945310e+01, 2.09022257e+01, 2.05346293e+01,\n",
       "       1.87799018e+01, 2.15294938e+01, 1.19432329e+01, 2.83933302e+01,\n",
       "       1.20970238e+01, 1.59591825e+01, 1.65844336e+01, 1.54300521e+01,\n",
       "       1.61127230e+01, 2.53165175e+01, 1.39528509e+01, 1.21808787e+01,\n",
       "       2.24169107e+01, 9.99999000e+03, 1.53482875e+01, 1.28385790e+01,\n",
       "       1.85153286e+01, 1.43516756e+01, 2.34293268e+01, 1.78547228e+01,\n",
       "       1.46195835e+01, 1.23981777e+01, 2.02214183e+01, 1.37357856e+01,\n",
       "       1.83821109e+01, 2.78454637e+01, 9.66648764e+00, 2.46748210e+01,\n",
       "       1.37095750e+01, 2.63408203e+01, 2.00822811e+01, 1.58273582e+01,\n",
       "       1.63810397e+01, 1.93304555e+01, 1.73655830e+01, 1.55569806e+01,\n",
       "       2.26919399e+01, 1.74610452e+01, 2.34027465e+01, 9.99999000e+03,\n",
       "       2.31592410e+01, 2.91965264e+01, 2.18465074e+01, 9.12002043e+00,\n",
       "       1.86493677e+01, 7.03462613e+00, 2.24942789e+01, 1.50241729e+01,\n",
       "       1.99763571e+01, 1.83935638e+01, 2.53651435e+01, 1.98536757e+01,\n",
       "       1.48152068e+01, 1.46593565e+01, 2.15018491e+01, 1.82891268e+01,\n",
       "       2.22781687e+01, 1.77607571e+01, 1.84580388e+01, 2.50147201e+01,\n",
       "       9.81928204e+00, 1.52018729e+01, 2.02787334e+01, 1.47390494e+01,\n",
       "       2.20362947e+01, 2.66531850e+01, 1.48664094e+01, 1.41651346e+01,\n",
       "       2.11361516e+01, 2.08568888e+01, 2.30400855e+01, 1.58841640e+01,\n",
       "       1.40301377e+01, 1.46583959e+01, 1.77654657e+01, 1.58583598e+01,\n",
       "       1.58025370e+01, 1.55281119e+01, 1.95829359e+01, 1.85933275e+01,\n",
       "       1.11474134e+01, 1.89079211e+01, 2.04695892e+01, 2.79056618e+01,\n",
       "       1.76958026e+01, 2.65176811e+01, 2.20647273e+01, 1.15885639e+01,\n",
       "       1.73074057e+01, 2.80169582e+01, 2.02978712e+01, 2.34181948e+01,\n",
       "       2.02218090e+01, 1.54652366e+01, 2.33599611e+01, 1.55342986e+01,\n",
       "       1.19238051e+01, 1.62364497e+01, 1.45003221e+01, 1.97842499e+01,\n",
       "       1.88815357e+01, 2.42802392e+01, 2.31620675e+01, 2.67542554e+01,\n",
       "       2.03860038e+01, 1.45024764e+01, 1.78675905e+01, 2.60588993e+01,\n",
       "       2.92385577e+01, 1.11798739e+01, 1.71620702e+01, 1.32158431e+01,\n",
       "       1.73113658e+01, 1.92488702e+01, 6.93793844e+00, 2.08272591e+01,\n",
       "       1.43420194e+01, 3.19674070e+01, 1.54196657e+01, 2.00026001e+01,\n",
       "       1.86186804e+01, 1.71411068e+01, 1.51079794e+01, 2.06974306e+01,\n",
       "       1.71451108e+01, 2.08722567e+01, 2.13405363e+01, 2.93162293e+01,\n",
       "       1.37596060e+01, 1.72957855e+01, 1.93205770e+01, 2.24243152e+01,\n",
       "       1.69956419e+01, 1.17389661e+01, 2.09140069e+01, 2.24297955e+01,\n",
       "       1.38138369e+01, 1.40783658e+01, 2.20999607e+01, 2.10861392e+01,\n",
       "       1.55930257e+01, 1.77478774e+01, 1.93457134e+01, 2.32852622e+01,\n",
       "       2.39954282e+01, 1.53677860e+01, 1.67406973e+01, 1.28005569e+01,\n",
       "       2.69030491e+01, 2.29735301e+01, 1.47612242e+01, 2.30971539e+01,\n",
       "       2.87627706e+01, 1.56925164e+01, 1.40734054e+01, 1.69881956e+01,\n",
       "       2.31829548e+01, 1.63644409e+01, 1.29202365e+01, 1.82997659e+01,\n",
       "       1.73365656e+01, 2.90720749e+01, 1.91245766e+01, 1.42048207e+01,\n",
       "       1.82916867e+01, 2.60374730e+01, 2.25066837e+01, 1.92739073e+01,\n",
       "       2.50468278e+01, 1.97534784e+01, 2.30272036e+01, 2.13025613e+01,\n",
       "       1.52315897e+01, 2.41591750e+01, 1.53807780e+01, 1.13408540e+01,\n",
       "       1.06067737e+01, 1.84232661e+01, 2.14418574e+01, 1.26093163e+01,\n",
       "       2.17878969e+01, 1.61143138e+01, 1.77431960e+01, 1.51043937e+01,\n",
       "       2.31683616e+01, 2.02297871e+01, 1.31795249e+01, 2.51407771e+01,\n",
       "       1.61872650e+01, 1.42916898e+01, 2.38516399e+01, 1.98751042e+01,\n",
       "       1.85251625e+01, 1.11628311e+01, 9.99999000e+03, 2.04154530e+01,\n",
       "       3.03328433e+01, 2.23336301e+01, 5.16515100e+00, 2.10703885e+01,\n",
       "       1.61114709e+01, 1.63374969e+01, 2.50759143e+01, 1.26010550e+01,\n",
       "       2.70026478e+01, 2.11342823e+01, 2.33037915e+01, 9.18132521e+00,\n",
       "       1.23890519e+01, 1.40195781e+01, 1.43859465e+01, 1.57555461e+01,\n",
       "       1.26144301e+01, 1.74757921e+01, 1.85667964e+01, 2.40556882e+01,\n",
       "       1.45306902e+01, 1.63651643e+01, 1.82673263e+01, 1.59114261e+01,\n",
       "       2.41352768e+01, 1.29664263e+01, 2.20077180e+01, 2.31626365e+01,\n",
       "       1.50289620e+01, 2.38549860e+01, 1.82818648e+01, 2.38498299e+01,\n",
       "       2.08625910e+01, 2.02684927e+01, 2.55568471e+01, 1.95601684e+01,\n",
       "       1.48580879e+01, 1.80209024e+01, 1.81055728e+01, 2.50519116e+01,\n",
       "       1.65238401e+01, 1.78808772e+01, 2.71444311e+01, 1.84243405e+01,\n",
       "       2.47196238e+01, 2.23927762e+01, 1.71834382e+01, 3.19258701e+01,\n",
       "       2.37666266e+01, 1.49238014e+01, 2.65026191e+01, 1.07132125e+01,\n",
       "       2.06879991e+01, 2.14690408e+01, 1.65981000e+01, 2.09824010e+01,\n",
       "       1.82275000e+01, 1.90593079e+01, 1.73465665e+01, 1.69726705e+01,\n",
       "       1.76173202e+01, 1.88240925e+01, 1.83644505e+01, 1.90468096e+01,\n",
       "       1.31331228e+01, 1.72884523e+01, 2.41806224e+01, 9.99999000e+03,\n",
       "       6.52800404e+00, 2.12521627e+01, 2.04874777e+01, 2.29472412e+01,\n",
       "       1.64456539e+01, 2.62814769e+01, 9.99999000e+03, 2.09996360e+01,\n",
       "       1.02936322e+01, 1.83769505e+01, 2.00711508e+01, 1.42888278e+01,\n",
       "       1.40624703e+01, 1.54227435e+01, 2.68431237e+01, 1.93429867e+01,\n",
       "       1.95252285e+01, 2.63364465e+01, 1.73428899e+01, 1.22481557e+01,\n",
       "       2.08883265e+01, 1.29933702e+01, 1.79853052e+01, 3.09404926e+01,\n",
       "       1.43683733e+01, 1.72647297e+01, 1.80497332e+01, 2.91143057e+01,\n",
       "       1.60533366e+01, 1.19246971e+01, 1.06115233e+01, 2.55029690e+01,\n",
       "       2.17994697e+01, 1.30315498e+01, 2.35408215e+01, 7.73240648e+00,\n",
       "       2.34333218e+01, 9.55310249e+00, 2.02241774e+01, 1.94319745e+01,\n",
       "       1.33893410e+01, 2.03081271e+01, 2.90521135e+01, 1.98051925e+01,\n",
       "       2.18086457e+01, 2.54796241e+01, 1.51323684e+01, 2.47079918e+01,\n",
       "       1.28839207e+01, 1.64986191e+01, 1.68029966e+01, 1.85134337e+01])"
      ]
     },
     "execution_count": 24,
     "metadata": {},
     "output_type": "execute_result"
    }
   ],
   "source": [
    "array_campioni"
   ]
  },
  {
   "cell_type": "code",
   "execution_count": 25,
   "metadata": {},
   "outputs": [
    {
     "data": {
      "text/plain": [
       "20"
      ]
     },
     "execution_count": 25,
     "metadata": {},
     "output_type": "execute_result"
    }
   ],
   "source": [
    "np.count_nonzero(array_campioni == 9999.99)"
   ]
  }
 ],
 "metadata": {
  "kernelspec": {
   "display_name": "Python 3",
   "language": "python",
   "name": "python3"
  },
  "language_info": {
   "codemirror_mode": {
    "name": "ipython",
    "version": 3
   },
   "file_extension": ".py",
   "mimetype": "text/x-python",
   "name": "python",
   "nbconvert_exporter": "python",
   "pygments_lexer": "ipython3",
   "version": "3.10.7"
  }
 },
 "nbformat": 4,
 "nbformat_minor": 2
}
