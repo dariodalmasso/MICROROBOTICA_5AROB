{
 "cells": [
  {
   "cell_type": "code",
   "execution_count": 207,
   "metadata": {},
   "outputs": [],
   "source": [
    "import pandas as pd\n",
    "import matplotlib.pyplot as plt\n",
    "import numpy as np"
   ]
  },
  {
   "cell_type": "code",
   "execution_count": 208,
   "metadata": {},
   "outputs": [
    {
     "data": {
      "text/plain": [
       "array([171.83806928, 195.42992622, 185.71630867, 168.37683736,\n",
       "       183.53583185, 170.27843674, 155.12844702, 162.44795234,\n",
       "       181.88068102, 185.07692184, 170.36888065, 174.66311271,\n",
       "       172.6548456 , 175.58932036, 169.26885192, 183.36972712,\n",
       "       183.48692065, 188.45055175, 169.51125098, 178.69396456,\n",
       "       182.15801637, 185.03546805, 184.21214098, 181.83240348,\n",
       "       180.0452261 , 185.37789486, 186.93973377, 143.66750366,\n",
       "       181.53389558, 190.59192959, 160.60090661, 180.54506873,\n",
       "       175.49236757, 171.805684  , 169.96329746, 180.57095742,\n",
       "       170.81510668, 185.07533252, 179.75523226, 178.60513272])"
      ]
     },
     "execution_count": 208,
     "metadata": {},
     "output_type": "execute_result"
    }
   ],
   "source": [
    "altezze = np.random.normal(175, 10, 40)\n",
    "altezze"
   ]
  },
  {
   "cell_type": "code",
   "execution_count": 209,
   "metadata": {},
   "outputs": [
    {
     "data": {
      "text/plain": [
       "array([-1.50892387e+01,  8.50261825e+00, -1.21099930e+00, -1.85504706e+01,\n",
       "       -3.39147612e+00, -1.66488712e+01, -3.17988610e+01, -2.44793556e+01,\n",
       "       -5.04662695e+00, -1.85038614e+00, -1.65584273e+01, -1.22641953e+01,\n",
       "       -1.42724624e+01, -1.13379876e+01, -1.76584560e+01, -3.55758085e+00,\n",
       "       -3.44038732e+00,  1.52324378e+00, -1.74160570e+01, -8.23334342e+00,\n",
       "       -4.76929160e+00, -1.89183993e+00, -2.71516699e+00, -5.09490449e+00,\n",
       "       -6.88208187e+00, -1.54941311e+00,  1.24257947e-02, -4.32598043e+01,\n",
       "       -5.39341239e+00,  3.66462162e+00, -2.63264014e+01, -6.38223924e+00,\n",
       "       -1.14349404e+01, -1.51216240e+01, -1.69640105e+01, -6.35635056e+00,\n",
       "       -1.61122013e+01, -1.85197546e+00, -7.17207571e+00, -8.32217525e+00])"
      ]
     },
     "execution_count": 209,
     "metadata": {},
     "output_type": "execute_result"
    }
   ],
   "source": [
    "altezze_normalizzate = (altezze - np.mean(altezze)) - np.std(altezze)\n",
    "altezze_normalizzate"
   ]
  },
  {
   "cell_type": "code",
   "execution_count": 210,
   "metadata": {},
   "outputs": [
    {
     "data": {
      "image/png": "[encoded data removed]",
      "text/plain": [
       "<Figure size 1000x300 with 2 Axes>"
      ]
     },
     "metadata": {},
     "output_type": "display_data"
    }
   ],
   "source": [
    "fig , axs = plt.subplots(nrows=1, ncols=2, figsize=(10,3))\n",
    "axs[0].hist(altezze, bins=10)\n",
    "axs[0].set_title(\"Distribuzione delle altezze\")\n",
    "axs[1].hist(altezze_normalizzate, bins=10)\n",
    "axs[1].set_title(\"Distribuzione delle altezze normalizzati\")\n",
    "plt.show()"
   ]
  },
  {
   "cell_type": "markdown",
   "metadata": {},
   "source": [
    "## SECONDO ESEMPIO"
   ]
  },
  {
   "cell_type": "code",
   "execution_count": 211,
   "metadata": {},
   "outputs": [
    {
     "data": {
      "text/html": [
       "<div>\n",
       "<style scoped>\n",
       "    .dataframe tbody tr th:only-of-type {\n",
       "        vertical-align: middle;\n",
       "    }\n",
       "\n",
       "    .dataframe tbody tr th {\n",
       "        vertical-align: top;\n",
       "    }\n",
       "\n",
       "    .dataframe thead th {\n",
       "        text-align: right;\n",
       "    }\n",
       "</style>\n",
       "<table border=\"1\" class=\"dataframe\">\n",
       "  <thead>\n",
       "    <tr style=\"text-align: right;\">\n",
       "      <th></th>\n",
       "      <th>YEAR</th>\n",
       "      <th>MAKE</th>\n",
       "      <th>MODEL</th>\n",
       "      <th>VEHICLE CLASS</th>\n",
       "      <th>ENGINE SIZE</th>\n",
       "      <th>CYLINDERS</th>\n",
       "      <th>TRANSMISSION</th>\n",
       "      <th>FUEL</th>\n",
       "      <th>FUEL CONSUMPTION</th>\n",
       "      <th>HWY (L/100 KM)</th>\n",
       "      <th>COMB (L/100 KM)</th>\n",
       "      <th>COMB (MPG)</th>\n",
       "      <th>EMISSIONS</th>\n",
       "    </tr>\n",
       "  </thead>\n",
       "  <tbody>\n",
       "    <tr>\n",
       "      <th>0</th>\n",
       "      <td>2000</td>\n",
       "      <td>ACURA</td>\n",
       "      <td>1.6EL</td>\n",
       "      <td>COMPACT</td>\n",
       "      <td>1.6</td>\n",
       "      <td>4</td>\n",
       "      <td>A4</td>\n",
       "      <td>X</td>\n",
       "      <td>9.2</td>\n",
       "      <td>6.7</td>\n",
       "      <td>8.1</td>\n",
       "      <td>35</td>\n",
       "      <td>186</td>\n",
       "    </tr>\n",
       "    <tr>\n",
       "      <th>1</th>\n",
       "      <td>2000</td>\n",
       "      <td>ACURA</td>\n",
       "      <td>1.6EL</td>\n",
       "      <td>COMPACT</td>\n",
       "      <td>1.6</td>\n",
       "      <td>4</td>\n",
       "      <td>M5</td>\n",
       "      <td>X</td>\n",
       "      <td>8.5</td>\n",
       "      <td>6.5</td>\n",
       "      <td>7.6</td>\n",
       "      <td>37</td>\n",
       "      <td>175</td>\n",
       "    </tr>\n",
       "    <tr>\n",
       "      <th>2</th>\n",
       "      <td>2000</td>\n",
       "      <td>ACURA</td>\n",
       "      <td>3.2TL</td>\n",
       "      <td>MID-SIZE</td>\n",
       "      <td>3.2</td>\n",
       "      <td>6</td>\n",
       "      <td>AS5</td>\n",
       "      <td>Z</td>\n",
       "      <td>12.2</td>\n",
       "      <td>7.4</td>\n",
       "      <td>10.0</td>\n",
       "      <td>28</td>\n",
       "      <td>230</td>\n",
       "    </tr>\n",
       "    <tr>\n",
       "      <th>3</th>\n",
       "      <td>2000</td>\n",
       "      <td>ACURA</td>\n",
       "      <td>3.5RL</td>\n",
       "      <td>MID-SIZE</td>\n",
       "      <td>3.5</td>\n",
       "      <td>6</td>\n",
       "      <td>A4</td>\n",
       "      <td>Z</td>\n",
       "      <td>13.4</td>\n",
       "      <td>9.2</td>\n",
       "      <td>11.5</td>\n",
       "      <td>25</td>\n",
       "      <td>264</td>\n",
       "    </tr>\n",
       "    <tr>\n",
       "      <th>4</th>\n",
       "      <td>2000</td>\n",
       "      <td>ACURA</td>\n",
       "      <td>INTEGRA</td>\n",
       "      <td>SUBCOMPACT</td>\n",
       "      <td>1.8</td>\n",
       "      <td>4</td>\n",
       "      <td>A4</td>\n",
       "      <td>X</td>\n",
       "      <td>10.0</td>\n",
       "      <td>7.0</td>\n",
       "      <td>8.6</td>\n",
       "      <td>33</td>\n",
       "      <td>198</td>\n",
       "    </tr>\n",
       "    <tr>\n",
       "      <th>...</th>\n",
       "      <td>...</td>\n",
       "      <td>...</td>\n",
       "      <td>...</td>\n",
       "      <td>...</td>\n",
       "      <td>...</td>\n",
       "      <td>...</td>\n",
       "      <td>...</td>\n",
       "      <td>...</td>\n",
       "      <td>...</td>\n",
       "      <td>...</td>\n",
       "      <td>...</td>\n",
       "      <td>...</td>\n",
       "      <td>...</td>\n",
       "    </tr>\n",
       "    <tr>\n",
       "      <th>22551</th>\n",
       "      <td>2022</td>\n",
       "      <td>VOLVO</td>\n",
       "      <td>XC40 T5 AWD</td>\n",
       "      <td>SUV: SMALL</td>\n",
       "      <td>2.0</td>\n",
       "      <td>4</td>\n",
       "      <td>AS8</td>\n",
       "      <td>Z</td>\n",
       "      <td>10.7</td>\n",
       "      <td>7.7</td>\n",
       "      <td>9.4</td>\n",
       "      <td>30</td>\n",
       "      <td>219</td>\n",
       "    </tr>\n",
       "    <tr>\n",
       "      <th>22552</th>\n",
       "      <td>2022</td>\n",
       "      <td>VOLVO</td>\n",
       "      <td>XC60 B5 AWD</td>\n",
       "      <td>SUV: SMALL</td>\n",
       "      <td>2.0</td>\n",
       "      <td>4</td>\n",
       "      <td>AS8</td>\n",
       "      <td>Z</td>\n",
       "      <td>10.5</td>\n",
       "      <td>8.1</td>\n",
       "      <td>9.4</td>\n",
       "      <td>30</td>\n",
       "      <td>219</td>\n",
       "    </tr>\n",
       "    <tr>\n",
       "      <th>22553</th>\n",
       "      <td>2022</td>\n",
       "      <td>VOLVO</td>\n",
       "      <td>XC60 B6 AWD</td>\n",
       "      <td>SUV: SMALL</td>\n",
       "      <td>2.0</td>\n",
       "      <td>4</td>\n",
       "      <td>AS8</td>\n",
       "      <td>Z</td>\n",
       "      <td>11.0</td>\n",
       "      <td>8.7</td>\n",
       "      <td>9.9</td>\n",
       "      <td>29</td>\n",
       "      <td>232</td>\n",
       "    </tr>\n",
       "    <tr>\n",
       "      <th>22554</th>\n",
       "      <td>2022</td>\n",
       "      <td>VOLVO</td>\n",
       "      <td>XC90 T5 AWD</td>\n",
       "      <td>SUV: STANDARD</td>\n",
       "      <td>2.0</td>\n",
       "      <td>4</td>\n",
       "      <td>AS8</td>\n",
       "      <td>Z</td>\n",
       "      <td>11.5</td>\n",
       "      <td>8.4</td>\n",
       "      <td>10.1</td>\n",
       "      <td>28</td>\n",
       "      <td>236</td>\n",
       "    </tr>\n",
       "    <tr>\n",
       "      <th>22555</th>\n",
       "      <td>2022</td>\n",
       "      <td>VOLVO</td>\n",
       "      <td>XC90 T6 AWD</td>\n",
       "      <td>SUV: STANDARD</td>\n",
       "      <td>2.0</td>\n",
       "      <td>4</td>\n",
       "      <td>AS8</td>\n",
       "      <td>Z</td>\n",
       "      <td>12.4</td>\n",
       "      <td>8.9</td>\n",
       "      <td>10.8</td>\n",
       "      <td>26</td>\n",
       "      <td>252</td>\n",
       "    </tr>\n",
       "  </tbody>\n",
       "</table>\n",
       "<p>22556 rows × 13 columns</p>\n",
       "</div>"
      ],
      "text/plain": [
       "       YEAR   MAKE        MODEL  VEHICLE CLASS  ENGINE SIZE  CYLINDERS  \\\n",
       "0      2000  ACURA        1.6EL        COMPACT          1.6          4   \n",
       "1      2000  ACURA        1.6EL        COMPACT          1.6          4   \n",
       "2      2000  ACURA        3.2TL       MID-SIZE          3.2          6   \n",
       "3      2000  ACURA        3.5RL       MID-SIZE          3.5          6   \n",
       "4      2000  ACURA      INTEGRA     SUBCOMPACT          1.8          4   \n",
       "...     ...    ...          ...            ...          ...        ...   \n",
       "22551  2022  VOLVO  XC40 T5 AWD     SUV: SMALL          2.0          4   \n",
       "22552  2022  VOLVO  XC60 B5 AWD     SUV: SMALL          2.0          4   \n",
       "22553  2022  VOLVO  XC60 B6 AWD     SUV: SMALL          2.0          4   \n",
       "22554  2022  VOLVO  XC90 T5 AWD  SUV: STANDARD          2.0          4   \n",
       "22555  2022  VOLVO  XC90 T6 AWD  SUV: STANDARD          2.0          4   \n",
       "\n",
       "      TRANSMISSION FUEL  FUEL CONSUMPTION  HWY (L/100 KM)  COMB (L/100 KM)  \\\n",
       "0               A4    X               9.2             6.7              8.1   \n",
       "1               M5    X               8.5             6.5              7.6   \n",
       "2              AS5    Z              12.2             7.4             10.0   \n",
       "3               A4    Z              13.4             9.2             11.5   \n",
       "4               A4    X              10.0             7.0              8.6   \n",
       "...            ...  ...               ...             ...              ...   \n",
       "22551          AS8    Z              10.7             7.7              9.4   \n",
       "22552          AS8    Z              10.5             8.1              9.4   \n",
       "22553          AS8    Z              11.0             8.7              9.9   \n",
       "22554          AS8    Z              11.5             8.4             10.1   \n",
       "22555          AS8    Z              12.4             8.9             10.8   \n",
       "\n",
       "       COMB (MPG)  EMISSIONS  \n",
       "0              35        186  \n",
       "1              37        175  \n",
       "2              28        230  \n",
       "3              25        264  \n",
       "4              33        198  \n",
       "...           ...        ...  \n",
       "22551          30        219  \n",
       "22552          30        219  \n",
       "22553          29        232  \n",
       "22554          28        236  \n",
       "22555          26        252  \n",
       "\n",
       "[22556 rows x 13 columns]"
      ]
     },
     "execution_count": 211,
     "metadata": {},
     "output_type": "execute_result"
    }
   ],
   "source": [
    "data = pd.read_csv(\"./Fuel_Consumption_2000-2022.csv\")\n",
    "data"
   ]
  },
  {
   "cell_type": "code",
   "execution_count": 212,
   "metadata": {},
   "outputs": [
    {
     "data": {
      "text/plain": [
       "Index(['YEAR', 'MAKE', 'MODEL', 'VEHICLE CLASS', 'ENGINE SIZE', 'CYLINDERS',\n",
       "       'TRANSMISSION', 'FUEL', 'FUEL CONSUMPTION', 'HWY (L/100 KM)',\n",
       "       'COMB (L/100 KM)', 'COMB (MPG)', 'EMISSIONS'],\n",
       "      dtype='object')"
      ]
     },
     "execution_count": 212,
     "metadata": {},
     "output_type": "execute_result"
    }
   ],
   "source": [
    "data.columns"
   ]
  },
  {
   "cell_type": "code",
   "execution_count": 213,
   "metadata": {},
   "outputs": [
    {
     "data": {
      "text/plain": [
       "array([[  9.2, 186. ],\n",
       "       [  8.5, 175. ],\n",
       "       [ 12.2, 230. ],\n",
       "       ...,\n",
       "       [ 11. , 232. ],\n",
       "       [ 11.5, 236. ],\n",
       "       [ 12.4, 252. ]])"
      ]
     },
     "execution_count": 213,
     "metadata": {},
     "output_type": "execute_result"
    }
   ],
   "source": [
    "x = data[['FUEL CONSUMPTION', 'EMISSIONS']].values\n",
    "x"
   ]
  },
  {
   "cell_type": "code",
   "execution_count": 214,
   "metadata": {},
   "outputs": [
    {
     "data": {
      "text/plain": [
       "array([ 12.76351303, 250.06845185])"
      ]
     },
     "execution_count": 214,
     "metadata": {},
     "output_type": "execute_result"
    }
   ],
   "source": [
    "np.mean(x, axis=0)"
   ]
  },
  {
   "cell_type": "code",
   "execution_count": 215,
   "metadata": {},
   "outputs": [
    {
     "data": {
      "text/plain": [
       "array([[  -7.06443425, -123.42241243],\n",
       "       [  -7.76443425, -134.42241243],\n",
       "       [  -4.06443425,  -79.42241243],\n",
       "       ...,\n",
       "       [  -5.26443425,  -77.42241243],\n",
       "       [  -4.76443425,  -73.42241243],\n",
       "       [  -3.86443425,  -57.42241243]])"
      ]
     },
     "execution_count": 215,
     "metadata": {},
     "output_type": "execute_result"
    }
   ],
   "source": [
    "X_normalizzate = (x-np.mean(x, axis=0) - np.std(x,axis=0))\n",
    "X_normalizzate"
   ]
  },
  {
   "cell_type": "code",
   "execution_count": 216,
   "metadata": {},
   "outputs": [
    {
     "data": {
      "image/png": "[encoded data removed]",
      "text/plain": [
       "<Figure size 1000x300 with 2 Axes>"
      ]
     },
     "metadata": {},
     "output_type": "display_data"
    }
   ],
   "source": [
    "fig , axs = plt.subplots(nrows=1, ncols=2, figsize=(10,3))\n",
    "axs[0].hist(x, bins=10)\n",
    "axs[0].set_title(\"Distribuzione delle altezze\")\n",
    "axs[1].hist(X_normalizzate, bins=10)\n",
    "axs[1].set_title(\"Distribuzione delle altezze normalizzati\")\n",
    "plt.show()"
   ]
  },
  {
   "cell_type": "markdown",
   "metadata": {},
   "source": [
    "## ESERCIZIO\n"
   ]
  },
  {
   "cell_type": "markdown",
   "metadata": {},
   "source": [
    "#### FEATURES ENGINEERING"
   ]
  },
  {
   "cell_type": "code",
   "execution_count": 217,
   "metadata": {},
   "outputs": [
    {
     "data": {
      "text/html": [
       "<div>\n",
       "<style scoped>\n",
       "    .dataframe tbody tr th:only-of-type {\n",
       "        vertical-align: middle;\n",
       "    }\n",
       "\n",
       "    .dataframe tbody tr th {\n",
       "        vertical-align: top;\n",
       "    }\n",
       "\n",
       "    .dataframe thead th {\n",
       "        text-align: right;\n",
       "    }\n",
       "</style>\n",
       "<table border=\"1\" class=\"dataframe\">\n",
       "  <thead>\n",
       "    <tr style=\"text-align: right;\">\n",
       "      <th></th>\n",
       "      <th>specie</th>\n",
       "      <th>colore</th>\n",
       "      <th>n_arti</th>\n",
       "      <th>peso</th>\n",
       "      <th>altezza</th>\n",
       "      <th>larghezza</th>\n",
       "    </tr>\n",
       "  </thead>\n",
       "  <tbody>\n",
       "    <tr>\n",
       "      <th>0</th>\n",
       "      <td>Robby</td>\n",
       "      <td>viola</td>\n",
       "      <td>20.0</td>\n",
       "      <td>3.87</td>\n",
       "      <td>14.77</td>\n",
       "      <td>73.22</td>\n",
       "    </tr>\n",
       "    <tr>\n",
       "      <th>1</th>\n",
       "      <td>Robby</td>\n",
       "      <td>viola</td>\n",
       "      <td>27.0</td>\n",
       "      <td>3.15</td>\n",
       "      <td>28.19</td>\n",
       "      <td>88.44</td>\n",
       "    </tr>\n",
       "    <tr>\n",
       "      <th>2</th>\n",
       "      <td>Robby</td>\n",
       "      <td>viola</td>\n",
       "      <td>25.0</td>\n",
       "      <td>4.35</td>\n",
       "      <td>12.05</td>\n",
       "      <td>76.74</td>\n",
       "    </tr>\n",
       "    <tr>\n",
       "      <th>3</th>\n",
       "      <td>Robby</td>\n",
       "      <td>blu</td>\n",
       "      <td>20.0</td>\n",
       "      <td>3.76</td>\n",
       "      <td>9.90</td>\n",
       "      <td>81.37</td>\n",
       "    </tr>\n",
       "    <tr>\n",
       "      <th>4</th>\n",
       "      <td>Robby</td>\n",
       "      <td>blu</td>\n",
       "      <td>28.0</td>\n",
       "      <td>2.86</td>\n",
       "      <td>19.87</td>\n",
       "      <td>84.65</td>\n",
       "    </tr>\n",
       "    <tr>\n",
       "      <th>...</th>\n",
       "      <td>...</td>\n",
       "      <td>...</td>\n",
       "      <td>...</td>\n",
       "      <td>...</td>\n",
       "      <td>...</td>\n",
       "      <td>...</td>\n",
       "    </tr>\n",
       "    <tr>\n",
       "      <th>1995</th>\n",
       "      <td>Simmy</td>\n",
       "      <td>viola</td>\n",
       "      <td>29.0</td>\n",
       "      <td>4.55</td>\n",
       "      <td>35.48</td>\n",
       "      <td>68.47</td>\n",
       "    </tr>\n",
       "    <tr>\n",
       "      <th>1996</th>\n",
       "      <td>Simmy</td>\n",
       "      <td>blu</td>\n",
       "      <td>23.0</td>\n",
       "      <td>3.84</td>\n",
       "      <td>29.86</td>\n",
       "      <td>71.51</td>\n",
       "    </tr>\n",
       "    <tr>\n",
       "      <th>1997</th>\n",
       "      <td>Simmy</td>\n",
       "      <td>viola</td>\n",
       "      <td>22.0</td>\n",
       "      <td>4.55</td>\n",
       "      <td>29.41</td>\n",
       "      <td>68.38</td>\n",
       "    </tr>\n",
       "    <tr>\n",
       "      <th>1998</th>\n",
       "      <td>Simmy</td>\n",
       "      <td>rosso</td>\n",
       "      <td>27.0</td>\n",
       "      <td>4.53</td>\n",
       "      <td>33.12</td>\n",
       "      <td>68.10</td>\n",
       "    </tr>\n",
       "    <tr>\n",
       "      <th>1999</th>\n",
       "      <td>Simmy</td>\n",
       "      <td>viola</td>\n",
       "      <td>23.0</td>\n",
       "      <td>5.10</td>\n",
       "      <td>18.88</td>\n",
       "      <td>64.95</td>\n",
       "    </tr>\n",
       "  </tbody>\n",
       "</table>\n",
       "<p>2000 rows × 6 columns</p>\n",
       "</div>"
      ],
      "text/plain": [
       "     specie colore  n_arti  peso  altezza  larghezza\n",
       "0     Robby  viola    20.0  3.87    14.77      73.22\n",
       "1     Robby  viola    27.0  3.15    28.19      88.44\n",
       "2     Robby  viola    25.0  4.35    12.05      76.74\n",
       "3     Robby    blu    20.0  3.76     9.90      81.37\n",
       "4     Robby    blu    28.0  2.86    19.87      84.65\n",
       "...     ...    ...     ...   ...      ...        ...\n",
       "1995  Simmy  viola    29.0  4.55    35.48      68.47\n",
       "1996  Simmy    blu    23.0  3.84    29.86      71.51\n",
       "1997  Simmy  viola    22.0  4.55    29.41      68.38\n",
       "1998  Simmy  rosso    27.0  4.53    33.12      68.10\n",
       "1999  Simmy  viola    23.0  5.10    18.88      64.95\n",
       "\n",
       "[2000 rows x 6 columns]"
      ]
     },
     "execution_count": 217,
     "metadata": {},
     "output_type": "execute_result"
    }
   ],
   "source": [
    "data = pd.read_csv(\"./marziani.csv\")\n",
    "data"
   ]
  },
  {
   "cell_type": "code",
   "execution_count": 218,
   "metadata": {},
   "outputs": [
    {
     "data": {
      "text/plain": [
       "array(['Robby', 'Robby', 'Robby', ..., 'Simmy', 'Simmy', 'Simmy'],\n",
       "      dtype=object)"
      ]
     },
     "execution_count": 218,
     "metadata": {},
     "output_type": "execute_result"
    }
   ],
   "source": [
    "specie = data[\"specie\"].values\n",
    "specie"
   ]
  },
  {
   "cell_type": "code",
   "execution_count": 219,
   "metadata": {},
   "outputs": [],
   "source": [
    "dati = data[\"colore\"].unique()"
   ]
  },
  {
   "cell_type": "code",
   "execution_count": 220,
   "metadata": {},
   "outputs": [
    {
     "data": {
      "text/plain": [
       "array(['viola', 'viola', 'viola', ..., 'viola', 'rosso', 'viola'],\n",
       "      dtype=object)"
      ]
     },
     "execution_count": 220,
     "metadata": {},
     "output_type": "execute_result"
    }
   ],
   "source": [
    "colori = data[\"colore\"].values\n",
    "colori"
   ]
  },
  {
   "cell_type": "code",
   "execution_count": 221,
   "metadata": {},
   "outputs": [
    {
     "data": {
      "text/plain": [
       "array([20., 27., 25., ..., 22., 27., 23.])"
      ]
     },
     "execution_count": 221,
     "metadata": {},
     "output_type": "execute_result"
    }
   ],
   "source": [
    "numero_arti = data[\"n_arti\"].values\n",
    "numero_arti"
   ]
  },
  {
   "cell_type": "code",
   "execution_count": 222,
   "metadata": {},
   "outputs": [
    {
     "data": {
      "text/plain": [
       "array([3.87, 3.15, 4.35, ..., 4.55, 4.53, 5.1 ])"
      ]
     },
     "execution_count": 222,
     "metadata": {},
     "output_type": "execute_result"
    }
   ],
   "source": [
    "peso = data[\"peso\"].values\n",
    "peso"
   ]
  },
  {
   "cell_type": "code",
   "execution_count": 223,
   "metadata": {},
   "outputs": [
    {
     "data": {
      "text/plain": [
       "array([73.22, 88.44, 76.74, ..., 68.38, 68.1 , 64.95])"
      ]
     },
     "execution_count": 223,
     "metadata": {},
     "output_type": "execute_result"
    }
   ],
   "source": [
    "altezza = data[\"larghezza\"].values\n",
    "altezza"
   ]
  },
  {
   "cell_type": "code",
   "execution_count": 224,
   "metadata": {},
   "outputs": [
    {
     "data": {
      "text/plain": [
       "array([73.22, 88.44, 76.74, ..., 68.38, 68.1 , 64.95])"
      ]
     },
     "execution_count": 224,
     "metadata": {},
     "output_type": "execute_result"
    }
   ],
   "source": [
    "larghezza = data[\"larghezza\"].values\n",
    "larghezza"
   ]
  },
  {
   "cell_type": "code",
   "execution_count": 226,
   "metadata": {},
   "outputs": [
    {
     "data": {
      "text/plain": [
       "<matplotlib.collections.PathCollection at 0x1c770745db0>"
      ]
     },
     "execution_count": 226,
     "metadata": {},
     "output_type": "execute_result"
    },
    {
     "data": {
      "image/png": "[encoded data removed]",
      "text/plain": [
       "<Figure size 1000x1200 with 4 Axes>"
      ]
     },
     "metadata": {},
     "output_type": "display_data"
    }
   ],
   "source": [
    "fig, axs = plt.subplots(nrows=4, ncols= 1,figsize=(10,12))\n",
    "#axs[0].scatter(colori, colori, c = \"k\", s=0.1, marker=\"*\")\n",
    "axs[0].scatter(numero_arti, numero_arti, c = \"b\", s=0.1, marker=\"*\")\n",
    "axs[1].scatter(peso, peso, c = \"r\", s=0.1, marker=\"*\")\n",
    "axs[2].scatter(altezza, altezza, c = \"b\", s=0.1, marker=\"*\")\n",
    "axs[3].scatter(larghezza,larghezza, c = \"g\", s=0.1, marker=\"*\")\n"
   ]
  }
 ],
 "metadata": {
  "kernelspec": {
   "display_name": "Python 3",
   "language": "python",
   "name": "python3"
  },
  "language_info": {
   "codemirror_mode": {
    "name": "ipython",
    "version": 3
   },
   "file_extension": ".py",
   "mimetype": "text/x-python",
   "name": "python",
   "nbconvert_exporter": "python",
   "pygments_lexer": "ipython3",
   "version": "3.10.7"
  }
 },
 "nbformat": 4,
 "nbformat_minor": 2
}
