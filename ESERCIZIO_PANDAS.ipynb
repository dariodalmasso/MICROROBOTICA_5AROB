{
 "cells": [
  {
   "cell_type": "code",
   "execution_count": 24,
   "metadata": {
    "collapsed": true,
    "ExecuteTime": {
     "start_time": "2023-12-07T12:56:54.014501Z",
     "end_time": "2023-12-07T12:56:55.034862Z"
    }
   },
   "outputs": [],
   "source": [
    "import pandas as pd\n",
    "import matplotlib.pyplot as plt"
   ]
  },
  {
   "cell_type": "markdown",
   "source": [
    "## ESERCIZIO MARZIANI"
   ],
   "metadata": {
    "collapsed": false
   }
  },
  {
   "cell_type": "code",
   "execution_count": 3,
   "outputs": [],
   "source": [
    "data = pd.read_csv(\"./marziani.csv\")\n"
   ],
   "metadata": {
    "collapsed": false,
    "ExecuteTime": {
     "start_time": "2023-12-07T12:01:26.729167Z",
     "end_time": "2023-12-07T12:01:26.760681Z"
    }
   }
  },
  {
   "cell_type": "code",
   "execution_count": 4,
   "outputs": [
    {
     "data": {
      "text/plain": "   specie colore  n_arti  peso  altezza  larghezza\n0   Robby  viola    20.0  3.87    14.77      73.22\n1   Robby  viola    27.0  3.15    28.19      88.44\n2   Robby  viola    25.0  4.35    12.05      76.74\n3   Robby    blu    20.0  3.76     9.90      81.37\n4   Robby    blu    28.0  2.86    19.87      84.65\n..    ...    ...     ...   ...      ...        ...\n95  Robby    blu    27.0  3.34    17.46      80.56\n96  Robby  viola    29.0  3.67    20.65      80.58\n97  Robby    blu    29.0  4.14    14.54      80.44\n98  Robby    blu    20.0  3.21    14.21      89.06\n99  Robby  rosso    22.0  2.34    25.49      72.14\n\n[100 rows x 6 columns]",
      "text/html": "<div>\n<style scoped>\n    .dataframe tbody tr th:only-of-type {\n        vertical-align: middle;\n    }\n\n    .dataframe tbody tr th {\n        vertical-align: top;\n    }\n\n    .dataframe thead th {\n        text-align: right;\n    }\n</style>\n<table border=\"1\" class=\"dataframe\">\n  <thead>\n    <tr style=\"text-align: right;\">\n      <th></th>\n      <th>specie</th>\n      <th>colore</th>\n      <th>n_arti</th>\n      <th>peso</th>\n      <th>altezza</th>\n      <th>larghezza</th>\n    </tr>\n  </thead>\n  <tbody>\n    <tr>\n      <th>0</th>\n      <td>Robby</td>\n      <td>viola</td>\n      <td>20.0</td>\n      <td>3.87</td>\n      <td>14.77</td>\n      <td>73.22</td>\n    </tr>\n    <tr>\n      <th>1</th>\n      <td>Robby</td>\n      <td>viola</td>\n      <td>27.0</td>\n      <td>3.15</td>\n      <td>28.19</td>\n      <td>88.44</td>\n    </tr>\n    <tr>\n      <th>2</th>\n      <td>Robby</td>\n      <td>viola</td>\n      <td>25.0</td>\n      <td>4.35</td>\n      <td>12.05</td>\n      <td>76.74</td>\n    </tr>\n    <tr>\n      <th>3</th>\n      <td>Robby</td>\n      <td>blu</td>\n      <td>20.0</td>\n      <td>3.76</td>\n      <td>9.90</td>\n      <td>81.37</td>\n    </tr>\n    <tr>\n      <th>4</th>\n      <td>Robby</td>\n      <td>blu</td>\n      <td>28.0</td>\n      <td>2.86</td>\n      <td>19.87</td>\n      <td>84.65</td>\n    </tr>\n    <tr>\n      <th>...</th>\n      <td>...</td>\n      <td>...</td>\n      <td>...</td>\n      <td>...</td>\n      <td>...</td>\n      <td>...</td>\n    </tr>\n    <tr>\n      <th>95</th>\n      <td>Robby</td>\n      <td>blu</td>\n      <td>27.0</td>\n      <td>3.34</td>\n      <td>17.46</td>\n      <td>80.56</td>\n    </tr>\n    <tr>\n      <th>96</th>\n      <td>Robby</td>\n      <td>viola</td>\n      <td>29.0</td>\n      <td>3.67</td>\n      <td>20.65</td>\n      <td>80.58</td>\n    </tr>\n    <tr>\n      <th>97</th>\n      <td>Robby</td>\n      <td>blu</td>\n      <td>29.0</td>\n      <td>4.14</td>\n      <td>14.54</td>\n      <td>80.44</td>\n    </tr>\n    <tr>\n      <th>98</th>\n      <td>Robby</td>\n      <td>blu</td>\n      <td>20.0</td>\n      <td>3.21</td>\n      <td>14.21</td>\n      <td>89.06</td>\n    </tr>\n    <tr>\n      <th>99</th>\n      <td>Robby</td>\n      <td>rosso</td>\n      <td>22.0</td>\n      <td>2.34</td>\n      <td>25.49</td>\n      <td>72.14</td>\n    </tr>\n  </tbody>\n</table>\n<p>100 rows × 6 columns</p>\n</div>"
     },
     "execution_count": 4,
     "metadata": {},
     "output_type": "execute_result"
    }
   ],
   "source": [
    "data.head(100)"
   ],
   "metadata": {
    "collapsed": false,
    "ExecuteTime": {
     "start_time": "2023-12-07T12:01:26.760681Z",
     "end_time": "2023-12-07T12:01:26.791936Z"
    }
   }
  },
  {
   "cell_type": "code",
   "execution_count": 5,
   "outputs": [
    {
     "name": "stdout",
     "output_type": "stream",
     "text": [
      "<class 'pandas.core.frame.DataFrame'>\n",
      "RangeIndex: 2000 entries, 0 to 1999\n",
      "Data columns (total 6 columns):\n",
      " #   Column     Non-Null Count  Dtype  \n",
      "---  ------     --------------  -----  \n",
      " 0   specie     2000 non-null   object \n",
      " 1   colore     1993 non-null   object \n",
      " 2   n_arti     1994 non-null   float64\n",
      " 3   peso       2000 non-null   float64\n",
      " 4   altezza    1995 non-null   float64\n",
      " 5   larghezza  1997 non-null   float64\n",
      "dtypes: float64(4), object(2)\n",
      "memory usage: 93.9+ KB\n"
     ]
    }
   ],
   "source": [
    "data.info()"
   ],
   "metadata": {
    "collapsed": false,
    "ExecuteTime": {
     "start_time": "2023-12-07T12:01:26.807555Z",
     "end_time": "2023-12-07T12:01:26.858447Z"
    }
   }
  },
  {
   "cell_type": "code",
   "execution_count": 6,
   "outputs": [],
   "source": [
    "marziani = data.dropna()"
   ],
   "metadata": {
    "collapsed": false,
    "ExecuteTime": {
     "start_time": "2023-12-07T12:01:26.823179Z",
     "end_time": "2023-12-07T12:01:26.980256Z"
    }
   }
  },
  {
   "cell_type": "code",
   "execution_count": 7,
   "outputs": [
    {
     "data": {
      "text/plain": "  specie colore  n_arti  peso  altezza  larghezza\n0  Robby  viola    20.0  3.87    14.77      73.22\n1  Robby  viola    27.0  3.15    28.19      88.44\n2  Robby  viola    25.0  4.35    12.05      76.74\n3  Robby    blu    20.0  3.76     9.90      81.37\n4  Robby    blu    28.0  2.86    19.87      84.65",
      "text/html": "<div>\n<style scoped>\n    .dataframe tbody tr th:only-of-type {\n        vertical-align: middle;\n    }\n\n    .dataframe tbody tr th {\n        vertical-align: top;\n    }\n\n    .dataframe thead th {\n        text-align: right;\n    }\n</style>\n<table border=\"1\" class=\"dataframe\">\n  <thead>\n    <tr style=\"text-align: right;\">\n      <th></th>\n      <th>specie</th>\n      <th>colore</th>\n      <th>n_arti</th>\n      <th>peso</th>\n      <th>altezza</th>\n      <th>larghezza</th>\n    </tr>\n  </thead>\n  <tbody>\n    <tr>\n      <th>0</th>\n      <td>Robby</td>\n      <td>viola</td>\n      <td>20.0</td>\n      <td>3.87</td>\n      <td>14.77</td>\n      <td>73.22</td>\n    </tr>\n    <tr>\n      <th>1</th>\n      <td>Robby</td>\n      <td>viola</td>\n      <td>27.0</td>\n      <td>3.15</td>\n      <td>28.19</td>\n      <td>88.44</td>\n    </tr>\n    <tr>\n      <th>2</th>\n      <td>Robby</td>\n      <td>viola</td>\n      <td>25.0</td>\n      <td>4.35</td>\n      <td>12.05</td>\n      <td>76.74</td>\n    </tr>\n    <tr>\n      <th>3</th>\n      <td>Robby</td>\n      <td>blu</td>\n      <td>20.0</td>\n      <td>3.76</td>\n      <td>9.90</td>\n      <td>81.37</td>\n    </tr>\n    <tr>\n      <th>4</th>\n      <td>Robby</td>\n      <td>blu</td>\n      <td>28.0</td>\n      <td>2.86</td>\n      <td>19.87</td>\n      <td>84.65</td>\n    </tr>\n  </tbody>\n</table>\n</div>"
     },
     "execution_count": 7,
     "metadata": {},
     "output_type": "execute_result"
    }
   ],
   "source": [
    "marziani.head()"
   ],
   "metadata": {
    "collapsed": false,
    "ExecuteTime": {
     "start_time": "2023-12-07T12:01:26.838802Z",
     "end_time": "2023-12-07T12:01:26.980256Z"
    }
   }
  },
  {
   "cell_type": "markdown",
   "source": [
    "## ESERCIZIO ALUNNI VOTI"
   ],
   "metadata": {
    "collapsed": false
   }
  },
  {
   "cell_type": "code",
   "execution_count": 8,
   "outputs": [],
   "source": [
    "data = pd.read_csv(\"./Alunni.csv\")"
   ],
   "metadata": {
    "collapsed": false,
    "ExecuteTime": {
     "start_time": "2023-12-07T12:01:26.854437Z",
     "end_time": "2023-12-07T12:01:26.980256Z"
    }
   }
  },
  {
   "cell_type": "code",
   "execution_count": 9,
   "outputs": [
    {
     "data": {
      "text/plain": "          Nome  PrimaValutazione  SecondaValutazione\n0        Mario               8.5                 9.0\n1         Luca               9.2                 8.8\n2         Anna               7.8                 8.5\n3     Giuseppe               9.0                 9.1\n4         Sara               8.8                 8.9\n5    Francesco               9.4                 9.2\n6    Valentina               8.7                 8.6\n7     Giovanni               8.9                 9.0\n8        Elena               9.1                 9.3\n9      Alessio               8.5                 8.7\n10     Martina               9.2                 9.4\n11      Davide               8.8                 9.1\n12    Isabella               9.0                 8.9\n13      Matteo               8.6                 8.8\n14      Sophia               9.3                 9.5\n15    Leonardo               8.9                 9.2\n16  Alessandra               8.7                 9.0\n17       Luigi               9.1                 9.3\n18       Elisa               9.4                 9.6\n19    Federico               8.8                 8.9",
      "text/html": "<div>\n<style scoped>\n    .dataframe tbody tr th:only-of-type {\n        vertical-align: middle;\n    }\n\n    .dataframe tbody tr th {\n        vertical-align: top;\n    }\n\n    .dataframe thead th {\n        text-align: right;\n    }\n</style>\n<table border=\"1\" class=\"dataframe\">\n  <thead>\n    <tr style=\"text-align: right;\">\n      <th></th>\n      <th>Nome</th>\n      <th>PrimaValutazione</th>\n      <th>SecondaValutazione</th>\n    </tr>\n  </thead>\n  <tbody>\n    <tr>\n      <th>0</th>\n      <td>Mario</td>\n      <td>8.5</td>\n      <td>9.0</td>\n    </tr>\n    <tr>\n      <th>1</th>\n      <td>Luca</td>\n      <td>9.2</td>\n      <td>8.8</td>\n    </tr>\n    <tr>\n      <th>2</th>\n      <td>Anna</td>\n      <td>7.8</td>\n      <td>8.5</td>\n    </tr>\n    <tr>\n      <th>3</th>\n      <td>Giuseppe</td>\n      <td>9.0</td>\n      <td>9.1</td>\n    </tr>\n    <tr>\n      <th>4</th>\n      <td>Sara</td>\n      <td>8.8</td>\n      <td>8.9</td>\n    </tr>\n    <tr>\n      <th>5</th>\n      <td>Francesco</td>\n      <td>9.4</td>\n      <td>9.2</td>\n    </tr>\n    <tr>\n      <th>6</th>\n      <td>Valentina</td>\n      <td>8.7</td>\n      <td>8.6</td>\n    </tr>\n    <tr>\n      <th>7</th>\n      <td>Giovanni</td>\n      <td>8.9</td>\n      <td>9.0</td>\n    </tr>\n    <tr>\n      <th>8</th>\n      <td>Elena</td>\n      <td>9.1</td>\n      <td>9.3</td>\n    </tr>\n    <tr>\n      <th>9</th>\n      <td>Alessio</td>\n      <td>8.5</td>\n      <td>8.7</td>\n    </tr>\n    <tr>\n      <th>10</th>\n      <td>Martina</td>\n      <td>9.2</td>\n      <td>9.4</td>\n    </tr>\n    <tr>\n      <th>11</th>\n      <td>Davide</td>\n      <td>8.8</td>\n      <td>9.1</td>\n    </tr>\n    <tr>\n      <th>12</th>\n      <td>Isabella</td>\n      <td>9.0</td>\n      <td>8.9</td>\n    </tr>\n    <tr>\n      <th>13</th>\n      <td>Matteo</td>\n      <td>8.6</td>\n      <td>8.8</td>\n    </tr>\n    <tr>\n      <th>14</th>\n      <td>Sophia</td>\n      <td>9.3</td>\n      <td>9.5</td>\n    </tr>\n    <tr>\n      <th>15</th>\n      <td>Leonardo</td>\n      <td>8.9</td>\n      <td>9.2</td>\n    </tr>\n    <tr>\n      <th>16</th>\n      <td>Alessandra</td>\n      <td>8.7</td>\n      <td>9.0</td>\n    </tr>\n    <tr>\n      <th>17</th>\n      <td>Luigi</td>\n      <td>9.1</td>\n      <td>9.3</td>\n    </tr>\n    <tr>\n      <th>18</th>\n      <td>Elisa</td>\n      <td>9.4</td>\n      <td>9.6</td>\n    </tr>\n    <tr>\n      <th>19</th>\n      <td>Federico</td>\n      <td>8.8</td>\n      <td>8.9</td>\n    </tr>\n  </tbody>\n</table>\n</div>"
     },
     "execution_count": 9,
     "metadata": {},
     "output_type": "execute_result"
    }
   ],
   "source": [
    "data.head(20)"
   ],
   "metadata": {
    "collapsed": false,
    "ExecuteTime": {
     "start_time": "2023-12-07T12:01:26.870465Z",
     "end_time": "2023-12-07T12:01:26.980256Z"
    }
   }
  },
  {
   "cell_type": "code",
   "execution_count": 10,
   "outputs": [
    {
     "name": "stdout",
     "output_type": "stream",
     "text": [
      "8.885\n"
     ]
    }
   ],
   "source": [
    "alunni_media_primaprova = data[\"PrimaValutazione\"].mean()\n",
    "print(alunni_media_primaprova)"
   ],
   "metadata": {
    "collapsed": false,
    "ExecuteTime": {
     "start_time": "2023-12-07T12:01:26.886108Z",
     "end_time": "2023-12-07T12:01:26.980256Z"
    }
   }
  },
  {
   "cell_type": "code",
   "execution_count": 11,
   "outputs": [
    {
     "name": "stdout",
     "output_type": "stream",
     "text": [
      "9.040000000000001\n"
     ]
    }
   ],
   "source": [
    "alunni_media_secondaprova = data[\"SecondaValutazione\"].mean()\n",
    "print(alunni_media_secondaprova)"
   ],
   "metadata": {
    "collapsed": false,
    "ExecuteTime": {
     "start_time": "2023-12-07T12:01:27.012171Z",
     "end_time": "2023-12-07T12:01:27.077297Z"
    }
   }
  },
  {
   "cell_type": "code",
   "execution_count": 12,
   "outputs": [
    {
     "name": "stdout",
     "output_type": "stream",
     "text": [
      "7.8\n"
     ]
    }
   ],
   "source": [
    "min_1prova = data[\"PrimaValutazione\"].min()\n",
    "print(min_1prova)"
   ],
   "metadata": {
    "collapsed": false,
    "ExecuteTime": {
     "start_time": "2023-12-07T12:01:27.205364Z",
     "end_time": "2023-12-07T12:01:27.315760Z"
    }
   }
  },
  {
   "cell_type": "markdown",
   "source": [],
   "metadata": {
    "collapsed": false
   }
  },
  {
   "cell_type": "code",
   "execution_count": 13,
   "outputs": [
    {
     "name": "stdout",
     "output_type": "stream",
     "text": [
      "8.5\n"
     ]
    }
   ],
   "source": [
    "min_2prova = data[\"SecondaValutazione\"].min()\n",
    "print(min_2prova)"
   ],
   "metadata": {
    "collapsed": false,
    "ExecuteTime": {
     "start_time": "2023-12-07T12:01:27.596786Z",
     "end_time": "2023-12-07T12:01:27.602038Z"
    }
   }
  },
  {
   "cell_type": "code",
   "execution_count": 14,
   "outputs": [
    {
     "name": "stdout",
     "output_type": "stream",
     "text": [
      "9.4\n"
     ]
    }
   ],
   "source": [
    "max_1prova = data[\"PrimaValutazione\"].max()\n",
    "print(max_1prova)"
   ],
   "metadata": {
    "collapsed": false,
    "ExecuteTime": {
     "start_time": "2023-12-07T12:01:28.161890Z",
     "end_time": "2023-12-07T12:01:28.193225Z"
    }
   }
  },
  {
   "cell_type": "code",
   "execution_count": 15,
   "outputs": [
    {
     "name": "stdout",
     "output_type": "stream",
     "text": [
      "9.6\n"
     ]
    }
   ],
   "source": [
    "max_2prova = data[\"SecondaValutazione\"].max()\n",
    "print(max_2prova)"
   ],
   "metadata": {
    "collapsed": false,
    "ExecuteTime": {
     "start_time": "2023-12-07T12:01:28.485402Z",
     "end_time": "2023-12-07T12:01:28.501026Z"
    }
   }
  },
  {
   "cell_type": "markdown",
   "source": [
    "## ESERCIZIO COMETE"
   ],
   "metadata": {
    "collapsed": false
   }
  },
  {
   "cell_type": "code",
   "execution_count": 17,
   "outputs": [],
   "source": [
    "comete = pd.read_json(\"./neowise.json\")"
   ],
   "metadata": {
    "collapsed": false,
    "ExecuteTime": {
     "start_time": "2023-12-07T12:52:04.654848Z",
     "end_time": "2023-12-07T12:52:04.701262Z"
    }
   }
  },
  {
   "cell_type": "code",
   "execution_count": 18,
   "outputs": [
    {
     "data": {
      "text/plain": "             designation           discovery_date  h_mag  moid_au  q_au_1  \\\n0     419880 (2011 AH37)  2011-01-07T00:00:00.000   19.7    0.035    0.84   \n1     419624 (2010 SO16)  2010-09-17T00:00:00.000   20.5    0.028    0.93   \n2    414772 (2010 OC103)  2010-07-28T00:00:00.000   19.0    0.333    0.39   \n3     414746 (2010 EH20)  2010-03-06T00:00:00.000   18.0    0.268    1.25   \n4    407324 (2010 OB101)  2010-07-18T00:00:00.000   20.7    0.111    0.77   \n..                   ...                      ...    ...      ...     ...   \n197           (2010 CO1)  2010-02-01T00:00:00.000   21.5    0.023    0.79   \n198     P/2010 B2 (WISE)  2010-01-22T00:00:00.000    NaN    0.630    1.62   \n199         (2010 AU118)  2010-01-13T00:00:00.000   17.7    0.147    1.13   \n200          (2010 AG79)  2010-01-13T00:00:00.000   19.9    0.244    1.22   \n201          (2010 AB78)  2010-01-12T00:00:00.000   18.3    0.206    1.02   \n\n     q_au_2  period_yr  i_deg  pha       orbit_class  \n0      4.26       4.06   9.65    Y            Apollo  \n1      1.08       1.00  14.52    Y            Apollo  \n2      2.00       1.31  23.11    N            Apollo  \n3      3.99       4.24  23.89    N              Amor  \n4      2.46       2.06   9.12    N            Apollo  \n..      ...        ...    ...  ...               ...  \n197    1.23       1.02  24.03    Y            Apollo  \n198    4.60       5.49   8.93  n/a  Encke-type Comet  \n199    2.12       2.06  43.73    N              Amor  \n200    4.59       4.95  32.96    N              Amor  \n201    3.49       3.38  33.26    N              Amor  \n\n[202 rows x 10 columns]",
      "text/html": "<div>\n<style scoped>\n    .dataframe tbody tr th:only-of-type {\n        vertical-align: middle;\n    }\n\n    .dataframe tbody tr th {\n        vertical-align: top;\n    }\n\n    .dataframe thead th {\n        text-align: right;\n    }\n</style>\n<table border=\"1\" class=\"dataframe\">\n  <thead>\n    <tr style=\"text-align: right;\">\n      <th></th>\n      <th>designation</th>\n      <th>discovery_date</th>\n      <th>h_mag</th>\n      <th>moid_au</th>\n      <th>q_au_1</th>\n      <th>q_au_2</th>\n      <th>period_yr</th>\n      <th>i_deg</th>\n      <th>pha</th>\n      <th>orbit_class</th>\n    </tr>\n  </thead>\n  <tbody>\n    <tr>\n      <th>0</th>\n      <td>419880 (2011 AH37)</td>\n      <td>2011-01-07T00:00:00.000</td>\n      <td>19.7</td>\n      <td>0.035</td>\n      <td>0.84</td>\n      <td>4.26</td>\n      <td>4.06</td>\n      <td>9.65</td>\n      <td>Y</td>\n      <td>Apollo</td>\n    </tr>\n    <tr>\n      <th>1</th>\n      <td>419624 (2010 SO16)</td>\n      <td>2010-09-17T00:00:00.000</td>\n      <td>20.5</td>\n      <td>0.028</td>\n      <td>0.93</td>\n      <td>1.08</td>\n      <td>1.00</td>\n      <td>14.52</td>\n      <td>Y</td>\n      <td>Apollo</td>\n    </tr>\n    <tr>\n      <th>2</th>\n      <td>414772 (2010 OC103)</td>\n      <td>2010-07-28T00:00:00.000</td>\n      <td>19.0</td>\n      <td>0.333</td>\n      <td>0.39</td>\n      <td>2.00</td>\n      <td>1.31</td>\n      <td>23.11</td>\n      <td>N</td>\n      <td>Apollo</td>\n    </tr>\n    <tr>\n      <th>3</th>\n      <td>414746 (2010 EH20)</td>\n      <td>2010-03-06T00:00:00.000</td>\n      <td>18.0</td>\n      <td>0.268</td>\n      <td>1.25</td>\n      <td>3.99</td>\n      <td>4.24</td>\n      <td>23.89</td>\n      <td>N</td>\n      <td>Amor</td>\n    </tr>\n    <tr>\n      <th>4</th>\n      <td>407324 (2010 OB101)</td>\n      <td>2010-07-18T00:00:00.000</td>\n      <td>20.7</td>\n      <td>0.111</td>\n      <td>0.77</td>\n      <td>2.46</td>\n      <td>2.06</td>\n      <td>9.12</td>\n      <td>N</td>\n      <td>Apollo</td>\n    </tr>\n    <tr>\n      <th>...</th>\n      <td>...</td>\n      <td>...</td>\n      <td>...</td>\n      <td>...</td>\n      <td>...</td>\n      <td>...</td>\n      <td>...</td>\n      <td>...</td>\n      <td>...</td>\n      <td>...</td>\n    </tr>\n    <tr>\n      <th>197</th>\n      <td>(2010 CO1)</td>\n      <td>2010-02-01T00:00:00.000</td>\n      <td>21.5</td>\n      <td>0.023</td>\n      <td>0.79</td>\n      <td>1.23</td>\n      <td>1.02</td>\n      <td>24.03</td>\n      <td>Y</td>\n      <td>Apollo</td>\n    </tr>\n    <tr>\n      <th>198</th>\n      <td>P/2010 B2 (WISE)</td>\n      <td>2010-01-22T00:00:00.000</td>\n      <td>NaN</td>\n      <td>0.630</td>\n      <td>1.62</td>\n      <td>4.60</td>\n      <td>5.49</td>\n      <td>8.93</td>\n      <td>n/a</td>\n      <td>Encke-type Comet</td>\n    </tr>\n    <tr>\n      <th>199</th>\n      <td>(2010 AU118)</td>\n      <td>2010-01-13T00:00:00.000</td>\n      <td>17.7</td>\n      <td>0.147</td>\n      <td>1.13</td>\n      <td>2.12</td>\n      <td>2.06</td>\n      <td>43.73</td>\n      <td>N</td>\n      <td>Amor</td>\n    </tr>\n    <tr>\n      <th>200</th>\n      <td>(2010 AG79)</td>\n      <td>2010-01-13T00:00:00.000</td>\n      <td>19.9</td>\n      <td>0.244</td>\n      <td>1.22</td>\n      <td>4.59</td>\n      <td>4.95</td>\n      <td>32.96</td>\n      <td>N</td>\n      <td>Amor</td>\n    </tr>\n    <tr>\n      <th>201</th>\n      <td>(2010 AB78)</td>\n      <td>2010-01-12T00:00:00.000</td>\n      <td>18.3</td>\n      <td>0.206</td>\n      <td>1.02</td>\n      <td>3.49</td>\n      <td>3.38</td>\n      <td>33.26</td>\n      <td>N</td>\n      <td>Amor</td>\n    </tr>\n  </tbody>\n</table>\n<p>202 rows × 10 columns</p>\n</div>"
     },
     "execution_count": 18,
     "metadata": {},
     "output_type": "execute_result"
    }
   ],
   "source": [
    "comete"
   ],
   "metadata": {
    "collapsed": false,
    "ExecuteTime": {
     "start_time": "2023-12-07T12:52:05.843748Z",
     "end_time": "2023-12-07T12:52:05.872463Z"
    }
   }
  },
  {
   "cell_type": "code",
   "execution_count": 19,
   "outputs": [
    {
     "name": "stdout",
     "output_type": "stream",
     "text": [
      "<class 'pandas.core.frame.DataFrame'>\n",
      "RangeIndex: 202 entries, 0 to 201\n",
      "Data columns (total 10 columns):\n",
      " #   Column          Non-Null Count  Dtype  \n",
      "---  ------          --------------  -----  \n",
      " 0   designation     202 non-null    object \n",
      " 1   discovery_date  202 non-null    object \n",
      " 2   h_mag           181 non-null    float64\n",
      " 3   moid_au         202 non-null    float64\n",
      " 4   q_au_1          202 non-null    float64\n",
      " 5   q_au_2          200 non-null    float64\n",
      " 6   period_yr       200 non-null    float64\n",
      " 7   i_deg           202 non-null    float64\n",
      " 8   pha             202 non-null    object \n",
      " 9   orbit_class     202 non-null    object \n",
      "dtypes: float64(6), object(4)\n",
      "memory usage: 15.9+ KB\n"
     ]
    }
   ],
   "source": [
    "comete.info()"
   ],
   "metadata": {
    "collapsed": false,
    "ExecuteTime": {
     "start_time": "2023-12-07T12:52:59.860437Z",
     "end_time": "2023-12-07T12:52:59.918342Z"
    }
   }
  },
  {
   "cell_type": "code",
   "execution_count": 32,
   "outputs": [],
   "source": [
    "query =comete[[\"period_yr\", \"orbit_class\"]].groupby(\"orbit_class\").mean()"
   ],
   "metadata": {
    "collapsed": false,
    "ExecuteTime": {
     "start_time": "2023-12-07T13:02:11.096705Z",
     "end_time": "2023-12-07T13:02:11.115221Z"
    }
   }
  },
  {
   "cell_type": "code",
   "execution_count": 33,
   "outputs": [
    {
     "data": {
      "text/plain": "                           period_yr\norbit_class                         \nAmor                        5.235082\nApollo                      2.941143\nAten                        0.891333\nComet                  238220.625556\nEncke-type Comet            5.490000\nHalley-type Comet*         23.375000\nJupiter-family Comet        8.380000\nJupiter-family Comet*      17.300000\nParabolic Comet                  NaN",
      "text/html": "<div>\n<style scoped>\n    .dataframe tbody tr th:only-of-type {\n        vertical-align: middle;\n    }\n\n    .dataframe tbody tr th {\n        vertical-align: top;\n    }\n\n    .dataframe thead th {\n        text-align: right;\n    }\n</style>\n<table border=\"1\" class=\"dataframe\">\n  <thead>\n    <tr style=\"text-align: right;\">\n      <th></th>\n      <th>period_yr</th>\n    </tr>\n    <tr>\n      <th>orbit_class</th>\n      <th></th>\n    </tr>\n  </thead>\n  <tbody>\n    <tr>\n      <th>Amor</th>\n      <td>5.235082</td>\n    </tr>\n    <tr>\n      <th>Apollo</th>\n      <td>2.941143</td>\n    </tr>\n    <tr>\n      <th>Aten</th>\n      <td>0.891333</td>\n    </tr>\n    <tr>\n      <th>Comet</th>\n      <td>238220.625556</td>\n    </tr>\n    <tr>\n      <th>Encke-type Comet</th>\n      <td>5.490000</td>\n    </tr>\n    <tr>\n      <th>Halley-type Comet*</th>\n      <td>23.375000</td>\n    </tr>\n    <tr>\n      <th>Jupiter-family Comet</th>\n      <td>8.380000</td>\n    </tr>\n    <tr>\n      <th>Jupiter-family Comet*</th>\n      <td>17.300000</td>\n    </tr>\n    <tr>\n      <th>Parabolic Comet</th>\n      <td>NaN</td>\n    </tr>\n  </tbody>\n</table>\n</div>"
     },
     "execution_count": 33,
     "metadata": {},
     "output_type": "execute_result"
    }
   ],
   "source": [
    "query"
   ],
   "metadata": {
    "collapsed": false,
    "ExecuteTime": {
     "start_time": "2023-12-07T13:02:11.551008Z",
     "end_time": "2023-12-07T13:02:11.591541Z"
    }
   }
  },
  {
   "cell_type": "code",
   "execution_count": 34,
   "outputs": [
    {
     "data": {
      "text/plain": "<Figure size 500x500 with 1 Axes>",
      "image/png": "[encoded data removed]"
     },
     "metadata": {},
     "output_type": "display_data"
    }
   ],
   "source": [
    "fig, ax = plt.subplots(figsize = (5,5))\n",
    "ax.scatter(comete[\"moid_au\"],comete[\"period_yr\"], s = 2)\n",
    "ax.set_xlabel(\"x\")\n",
    "ax.set_ylabel(\"y\")\n",
    "plt.show()"
   ],
   "metadata": {
    "collapsed": false,
    "ExecuteTime": {
     "start_time": "2023-12-07T13:02:12.446552Z",
     "end_time": "2023-12-07T13:02:12.552668Z"
    }
   }
  },
  {
   "cell_type": "markdown",
   "source": [
    "## ESERCIZIO PINGUINI"
   ],
   "metadata": {
    "collapsed": false
   }
  },
  {
   "cell_type": "code",
   "execution_count": 37,
   "outputs": [
    {
     "data": {
      "text/plain": "    species     island  culmen_length_mm  culmen_depth_mm  flipper_length_mm  \\\n0    Adelie  Torgersen              39.1             18.7              181.0   \n1    Adelie  Torgersen              39.5             17.4              186.0   \n2    Adelie  Torgersen              40.3             18.0              195.0   \n3    Adelie  Torgersen               NaN              NaN                NaN   \n4    Adelie  Torgersen              36.7             19.3              193.0   \n..      ...        ...               ...              ...                ...   \n339  Gentoo     Biscoe               NaN              NaN                NaN   \n340  Gentoo     Biscoe              46.8             14.3              215.0   \n341  Gentoo     Biscoe              50.4             15.7              222.0   \n342  Gentoo     Biscoe              45.2             14.8              212.0   \n343  Gentoo     Biscoe              49.9             16.1              213.0   \n\n     body_mass_g     sex  \n0         3750.0    MALE  \n1         3800.0  FEMALE  \n2         3250.0  FEMALE  \n3            NaN     NaN  \n4         3450.0  FEMALE  \n..           ...     ...  \n339          NaN     NaN  \n340       4850.0  FEMALE  \n341       5750.0    MALE  \n342       5200.0  FEMALE  \n343       5400.0    MALE  \n\n[344 rows x 7 columns]",
      "text/html": "<div>\n<style scoped>\n    .dataframe tbody tr th:only-of-type {\n        vertical-align: middle;\n    }\n\n    .dataframe tbody tr th {\n        vertical-align: top;\n    }\n\n    .dataframe thead th {\n        text-align: right;\n    }\n</style>\n<table border=\"1\" class=\"dataframe\">\n  <thead>\n    <tr style=\"text-align: right;\">\n      <th></th>\n      <th>species</th>\n      <th>island</th>\n      <th>culmen_length_mm</th>\n      <th>culmen_depth_mm</th>\n      <th>flipper_length_mm</th>\n      <th>body_mass_g</th>\n      <th>sex</th>\n    </tr>\n  </thead>\n  <tbody>\n    <tr>\n      <th>0</th>\n      <td>Adelie</td>\n      <td>Torgersen</td>\n      <td>39.1</td>\n      <td>18.7</td>\n      <td>181.0</td>\n      <td>3750.0</td>\n      <td>MALE</td>\n    </tr>\n    <tr>\n      <th>1</th>\n      <td>Adelie</td>\n      <td>Torgersen</td>\n      <td>39.5</td>\n      <td>17.4</td>\n      <td>186.0</td>\n      <td>3800.0</td>\n      <td>FEMALE</td>\n    </tr>\n    <tr>\n      <th>2</th>\n      <td>Adelie</td>\n      <td>Torgersen</td>\n      <td>40.3</td>\n      <td>18.0</td>\n      <td>195.0</td>\n      <td>3250.0</td>\n      <td>FEMALE</td>\n    </tr>\n    <tr>\n      <th>3</th>\n      <td>Adelie</td>\n      <td>Torgersen</td>\n      <td>NaN</td>\n      <td>NaN</td>\n      <td>NaN</td>\n      <td>NaN</td>\n      <td>NaN</td>\n    </tr>\n    <tr>\n      <th>4</th>\n      <td>Adelie</td>\n      <td>Torgersen</td>\n      <td>36.7</td>\n      <td>19.3</td>\n      <td>193.0</td>\n      <td>3450.0</td>\n      <td>FEMALE</td>\n    </tr>\n    <tr>\n      <th>...</th>\n      <td>...</td>\n      <td>...</td>\n      <td>...</td>\n      <td>...</td>\n      <td>...</td>\n      <td>...</td>\n      <td>...</td>\n    </tr>\n    <tr>\n      <th>339</th>\n      <td>Gentoo</td>\n      <td>Biscoe</td>\n      <td>NaN</td>\n      <td>NaN</td>\n      <td>NaN</td>\n      <td>NaN</td>\n      <td>NaN</td>\n    </tr>\n    <tr>\n      <th>340</th>\n      <td>Gentoo</td>\n      <td>Biscoe</td>\n      <td>46.8</td>\n      <td>14.3</td>\n      <td>215.0</td>\n      <td>4850.0</td>\n      <td>FEMALE</td>\n    </tr>\n    <tr>\n      <th>341</th>\n      <td>Gentoo</td>\n      <td>Biscoe</td>\n      <td>50.4</td>\n      <td>15.7</td>\n      <td>222.0</td>\n      <td>5750.0</td>\n      <td>MALE</td>\n    </tr>\n    <tr>\n      <th>342</th>\n      <td>Gentoo</td>\n      <td>Biscoe</td>\n      <td>45.2</td>\n      <td>14.8</td>\n      <td>212.0</td>\n      <td>5200.0</td>\n      <td>FEMALE</td>\n    </tr>\n    <tr>\n      <th>343</th>\n      <td>Gentoo</td>\n      <td>Biscoe</td>\n      <td>49.9</td>\n      <td>16.1</td>\n      <td>213.0</td>\n      <td>5400.0</td>\n      <td>MALE</td>\n    </tr>\n  </tbody>\n</table>\n<p>344 rows × 7 columns</p>\n</div>"
     },
     "execution_count": 37,
     "metadata": {},
     "output_type": "execute_result"
    }
   ],
   "source": [
    "pinguini = pd.read_csv(\"./penguins_size.csv\")\n",
    "pinguini"
   ],
   "metadata": {
    "collapsed": false,
    "ExecuteTime": {
     "start_time": "2023-12-07T13:13:30.974077Z",
     "end_time": "2023-12-07T13:13:31.005711Z"
    }
   }
  },
  {
   "cell_type": "code",
   "execution_count": 38,
   "outputs": [],
   "source": [
    "query =pinguini[[\"species\", \"island\"]].groupby(\"island\").value_counts()"
   ],
   "metadata": {
    "collapsed": false,
    "ExecuteTime": {
     "start_time": "2023-12-07T13:13:31.338367Z",
     "end_time": "2023-12-07T13:13:31.370073Z"
    }
   }
  },
  {
   "cell_type": "code",
   "execution_count": 39,
   "outputs": [
    {
     "data": {
      "text/plain": "island     species  \nBiscoe     Gentoo       124\n           Adelie        44\nDream      Chinstrap     68\n           Adelie        56\nTorgersen  Adelie        52\nName: count, dtype: int64"
     },
     "execution_count": 39,
     "metadata": {},
     "output_type": "execute_result"
    }
   ],
   "source": [
    "query"
   ],
   "metadata": {
    "collapsed": false,
    "ExecuteTime": {
     "start_time": "2023-12-07T13:13:32.063133Z",
     "end_time": "2023-12-07T13:13:32.094768Z"
    }
   }
  },
  {
   "cell_type": "markdown",
   "source": [
    "## ESERCIZIO PINGUINI 2"
   ],
   "metadata": {
    "collapsed": false
   }
  },
  {
   "cell_type": "code",
   "execution_count": 40,
   "outputs": [
    {
     "data": {
      "text/plain": "    species     island  culmen_length_mm  culmen_depth_mm  flipper_length_mm  \\\n0    Adelie  Torgersen              39.1             18.7              181.0   \n1    Adelie  Torgersen              39.5             17.4              186.0   \n2    Adelie  Torgersen              40.3             18.0              195.0   \n3    Adelie  Torgersen               NaN              NaN                NaN   \n4    Adelie  Torgersen              36.7             19.3              193.0   \n..      ...        ...               ...              ...                ...   \n339  Gentoo     Biscoe               NaN              NaN                NaN   \n340  Gentoo     Biscoe              46.8             14.3              215.0   \n341  Gentoo     Biscoe              50.4             15.7              222.0   \n342  Gentoo     Biscoe              45.2             14.8              212.0   \n343  Gentoo     Biscoe              49.9             16.1              213.0   \n\n     body_mass_g     sex  \n0         3750.0    MALE  \n1         3800.0  FEMALE  \n2         3250.0  FEMALE  \n3            NaN     NaN  \n4         3450.0  FEMALE  \n..           ...     ...  \n339          NaN     NaN  \n340       4850.0  FEMALE  \n341       5750.0    MALE  \n342       5200.0  FEMALE  \n343       5400.0    MALE  \n\n[344 rows x 7 columns]",
      "text/html": "<div>\n<style scoped>\n    .dataframe tbody tr th:only-of-type {\n        vertical-align: middle;\n    }\n\n    .dataframe tbody tr th {\n        vertical-align: top;\n    }\n\n    .dataframe thead th {\n        text-align: right;\n    }\n</style>\n<table border=\"1\" class=\"dataframe\">\n  <thead>\n    <tr style=\"text-align: right;\">\n      <th></th>\n      <th>species</th>\n      <th>island</th>\n      <th>culmen_length_mm</th>\n      <th>culmen_depth_mm</th>\n      <th>flipper_length_mm</th>\n      <th>body_mass_g</th>\n      <th>sex</th>\n    </tr>\n  </thead>\n  <tbody>\n    <tr>\n      <th>0</th>\n      <td>Adelie</td>\n      <td>Torgersen</td>\n      <td>39.1</td>\n      <td>18.7</td>\n      <td>181.0</td>\n      <td>3750.0</td>\n      <td>MALE</td>\n    </tr>\n    <tr>\n      <th>1</th>\n      <td>Adelie</td>\n      <td>Torgersen</td>\n      <td>39.5</td>\n      <td>17.4</td>\n      <td>186.0</td>\n      <td>3800.0</td>\n      <td>FEMALE</td>\n    </tr>\n    <tr>\n      <th>2</th>\n      <td>Adelie</td>\n      <td>Torgersen</td>\n      <td>40.3</td>\n      <td>18.0</td>\n      <td>195.0</td>\n      <td>3250.0</td>\n      <td>FEMALE</td>\n    </tr>\n    <tr>\n      <th>3</th>\n      <td>Adelie</td>\n      <td>Torgersen</td>\n      <td>NaN</td>\n      <td>NaN</td>\n      <td>NaN</td>\n      <td>NaN</td>\n      <td>NaN</td>\n    </tr>\n    <tr>\n      <th>4</th>\n      <td>Adelie</td>\n      <td>Torgersen</td>\n      <td>36.7</td>\n      <td>19.3</td>\n      <td>193.0</td>\n      <td>3450.0</td>\n      <td>FEMALE</td>\n    </tr>\n    <tr>\n      <th>...</th>\n      <td>...</td>\n      <td>...</td>\n      <td>...</td>\n      <td>...</td>\n      <td>...</td>\n      <td>...</td>\n      <td>...</td>\n    </tr>\n    <tr>\n      <th>339</th>\n      <td>Gentoo</td>\n      <td>Biscoe</td>\n      <td>NaN</td>\n      <td>NaN</td>\n      <td>NaN</td>\n      <td>NaN</td>\n      <td>NaN</td>\n    </tr>\n    <tr>\n      <th>340</th>\n      <td>Gentoo</td>\n      <td>Biscoe</td>\n      <td>46.8</td>\n      <td>14.3</td>\n      <td>215.0</td>\n      <td>4850.0</td>\n      <td>FEMALE</td>\n    </tr>\n    <tr>\n      <th>341</th>\n      <td>Gentoo</td>\n      <td>Biscoe</td>\n      <td>50.4</td>\n      <td>15.7</td>\n      <td>222.0</td>\n      <td>5750.0</td>\n      <td>MALE</td>\n    </tr>\n    <tr>\n      <th>342</th>\n      <td>Gentoo</td>\n      <td>Biscoe</td>\n      <td>45.2</td>\n      <td>14.8</td>\n      <td>212.0</td>\n      <td>5200.0</td>\n      <td>FEMALE</td>\n    </tr>\n    <tr>\n      <th>343</th>\n      <td>Gentoo</td>\n      <td>Biscoe</td>\n      <td>49.9</td>\n      <td>16.1</td>\n      <td>213.0</td>\n      <td>5400.0</td>\n      <td>MALE</td>\n    </tr>\n  </tbody>\n</table>\n<p>344 rows × 7 columns</p>\n</div>"
     },
     "execution_count": 40,
     "metadata": {},
     "output_type": "execute_result"
    }
   ],
   "source": [
    "pinguini = pd.read_csv(\"./penguins_size.csv\")\n",
    "pinguini"
   ],
   "metadata": {
    "collapsed": false,
    "ExecuteTime": {
     "start_time": "2023-12-07T13:15:27.686807Z",
     "end_time": "2023-12-07T13:15:27.734429Z"
    }
   }
  },
  {
   "cell_type": "code",
   "execution_count": 49,
   "outputs": [
    {
     "data": {
      "text/plain": "species  island  culmen_length_mm  culmen_depth_mm  flipper_length_mm  body_mass_g  sex   \nAdelie   Biscoe  35.0              17.9             192.0              3725.0       FEMALE    1\n                 35.3              18.9             187.0              3800.0       FEMALE    1\nGentoo   Biscoe  46.5              14.4             217.0              4900.0       FEMALE    1\n                                   13.5             210.0              4550.0       FEMALE    1\n                 46.4              15.0             216.0              4700.0       FEMALE    1\n                                                                                             ..\n                 43.3              14.0             208.0              4575.0       FEMALE    1\n                                   13.4             209.0              4400.0       FEMALE    1\n                 43.2              14.5             208.0              4450.0       FEMALE    1\n                 42.9              13.1             215.0              5000.0       FEMALE    1\n                 50.5              15.2             216.0              5000.0       FEMALE    1\nName: count, Length: 72, dtype: int64"
     },
     "execution_count": 49,
     "metadata": {},
     "output_type": "execute_result"
    }
   ],
   "source": [
    "filtered_sex_weight = pinguini[(pinguini[\"sex\"] == \"FEMALE\") & (pinguini[\"body_mass_g\"] > 3700)].value_counts()\n",
    "filtered_sex_weight"
   ],
   "metadata": {
    "collapsed": false,
    "ExecuteTime": {
     "start_time": "2023-12-07T13:24:12.926871Z",
     "end_time": "2023-12-07T13:24:12.947027Z"
    }
   }
  },
  {
   "cell_type": "code",
   "execution_count": 51,
   "outputs": [
    {
     "data": {
      "text/plain": "species  island  culmen_length_mm  culmen_depth_mm  flipper_length_mm  body_mass_g  sex   \nGentoo   Biscoe  40.9              13.7             214.0              4650.0       FEMALE    1\n                 46.9              14.6             222.0              4875.0       FEMALE    1\n                 45.8              14.2             219.0              4700.0       FEMALE    1\n                                   14.6             210.0              4200.0       FEMALE    1\n                 46.1              13.2             211.0              4500.0       FEMALE    1\n                 46.2              14.1             217.0              4375.0       FEMALE    1\n                                   14.5             209.0              4800.0       FEMALE    1\n                 46.4              15.0             216.0              4700.0       FEMALE    1\n                 46.5              13.5             210.0              4550.0       FEMALE    1\n                                   14.4             217.0              4900.0       FEMALE    1\n                                   14.5             213.0              4400.0       FEMALE    1\n                                   14.8             217.0              5200.0       FEMALE    1\n                 46.6              14.2             210.0              4850.0       FEMALE    1\n                 46.8              14.3             215.0              4850.0       FEMALE    1\n                 47.2              13.7             214.0              4925.0       FEMALE    1\n                 41.7              14.7             210.0              4700.0       FEMALE    1\n                 47.2              15.5             215.0              4975.0       FEMALE    1\n                 47.4              14.6             212.0              4725.0       FEMALE    1\n                 47.5              14.0             212.0              4875.0       FEMALE    1\n                                   14.2             209.0              4600.0       FEMALE    1\n                                   15.0             218.0              4950.0       FEMALE    1\n                 47.7              15.0             216.0              4750.0       FEMALE    1\n                 48.2              14.3             210.0              4600.0       FEMALE    1\n                 48.4              14.4             203.0              4625.0       FEMALE    1\n                 48.5              15.0             219.0              4850.0       FEMALE    1\n                 48.7              14.1             210.0              4450.0       FEMALE    1\n                 49.1              14.5             212.0              4625.0       FEMALE    1\n                                   14.8             220.0              5150.0       FEMALE    1\n                 45.7              13.9             214.0              4400.0       FEMALE    1\n                 45.5              14.5             212.0              4750.0       FEMALE    1\n                                   13.9             210.0              4200.0       FEMALE    1\n                                   13.7             214.0              4650.0       FEMALE    1\n                 42.0              13.5             210.0              4150.0       FEMALE    1\n                 42.6              13.7             213.0              4950.0       FEMALE    1\n                 42.7              13.7             208.0              3950.0       FEMALE    1\n                 42.8              14.2             209.0              4700.0       FEMALE    1\n                 42.9              13.1             215.0              5000.0       FEMALE    1\n                 43.2              14.5             208.0              4450.0       FEMALE    1\n                 43.3              13.4             209.0              4400.0       FEMALE    1\n                                   14.0             208.0              4575.0       FEMALE    1\n                 43.4              14.4             218.0              4600.0       FEMALE    1\n                 43.5              14.2             220.0              4700.0       FEMALE    1\n                                   15.2             213.0              4650.0       FEMALE    1\n                 43.6              13.9             217.0              4900.0       FEMALE    1\n                 43.8              13.9             208.0              4300.0       FEMALE    1\n                 44.0              13.6             208.0              4350.0       FEMALE    1\n                 44.5              14.7             214.0              4850.0       FEMALE    1\n                 44.9              13.3             213.0              5100.0       FEMALE    1\n                                   13.8             212.0              4750.0       FEMALE    1\n                 45.1              14.4             210.0              4400.0       FEMALE    1\n                                   14.5             207.0              5050.0       FEMALE    1\n                                                    215.0              5000.0       FEMALE    1\n                 45.2              13.8             215.0              4750.0       FEMALE    1\n                                   14.8             212.0              5200.0       FEMALE    1\n                 45.3              13.7             210.0              4300.0       FEMALE    1\n                                   13.8             208.0              4200.0       FEMALE    1\n                 45.4              14.6             211.0              4800.0       FEMALE    1\n                 50.5              15.2             216.0              5000.0       FEMALE    1\nName: count, dtype: int64"
     },
     "execution_count": 51,
     "metadata": {},
     "output_type": "execute_result"
    }
   ],
   "source": [
    "filtered_sex_weight = pinguini[(pinguini[\"sex\"] == \"FEMALE\") & (pinguini[\"body_mass_g\"] > 3700) & (pinguini[\"species\"] == \"Gentoo\")].value_counts()\n",
    "filtered_sex_weight"
   ],
   "metadata": {
    "collapsed": false,
    "ExecuteTime": {
     "start_time": "2023-12-07T13:25:09.054090Z",
     "end_time": "2023-12-07T13:25:09.083897Z"
    }
   }
  },
  {
   "cell_type": "code",
   "execution_count": 53,
   "outputs": [
    {
     "data": {
      "text/plain": "189.95364238410596"
     },
     "execution_count": 53,
     "metadata": {},
     "output_type": "execute_result"
    }
   ],
   "source": [
    "peso_media = pinguini[pinguini[\"species\"] == \"Adelie\"][\"flipper_length_mm\"].mean()\n",
    "peso_media"
   ],
   "metadata": {
    "collapsed": false,
    "ExecuteTime": {
     "start_time": "2023-12-07T13:27:23.147869Z",
     "end_time": "2023-12-07T13:27:23.163603Z"
    }
   }
  },
  {
   "cell_type": "code",
   "execution_count": null,
   "outputs": [],
   "source": [],
   "metadata": {
    "collapsed": false
   }
  }
 ],
 "metadata": {
  "kernelspec": {
   "display_name": "Python 3",
   "language": "python",
   "name": "python3"
  },
  "language_info": {
   "codemirror_mode": {
    "name": "ipython",
    "version": 2
   },
   "file_extension": ".py",
   "mimetype": "text/x-python",
   "name": "python",
   "nbconvert_exporter": "python",
   "pygments_lexer": "ipython2",
   "version": "2.7.6"
  }
 },
 "nbformat": 4,
 "nbformat_minor": 0
}
