{
 "cells": [
  {
   "cell_type": "markdown",
   "metadata": {},
   "source": [
    "### Esercizio su _Sei personaggi in cerca di autore_ di Pirandello"
   ]
  },
  {
   "cell_type": "code",
   "execution_count": null,
   "metadata": {},
   "outputs": [],
   "source": [
    "#Constants\n",
    "BAD_CHARS = [\",\", \";\", \".\", \":\", \"!\", \"?\", \"'\"]\n",
    "GOOD_CHAR = \" \""
   ]
  },
  {
   "cell_type": "code",
   "execution_count": null,
   "metadata": {},
   "outputs": [],
   "source": [
    "def file_2_listOfwords(file, bad_chars=BAD_CHARS, good_char=GOOD_CHAR):\n",
    "    \"\"\"\n",
    "    This function returns the list of words contained in a file.\n",
    "    Parameters:\n",
    "    - file: str, file name\n",
    "    - bad_chars: list of chars to be removed\n",
    "    - good_char: str, replacement char\n",
    "    \n",
    "    Returns\n",
    "    - list of strings\n",
    "    \"\"\"\n",
    "    file = open(file, \"r\", encoding=\"utf-8\")\n",
    "    lines = file.readlines()\n",
    "    file.close()\n",
    "    lines_without_carriage_return = [line[:-1] for line in lines\n",
    "                                 if len(line)>1]\n",
    "    book = \" \".join(lines_without_carriage_return).lower()\n",
    "    \n",
    "    for bad_char in BAD_CHARS:\n",
    "        book = book.replace(bad_char, GOOD_CHAR)\n",
    "    \n",
    "    words = book.split(\" \") #split\n",
    "    words = [word for word in words if len(word)>0] #removing empty words\n",
    "    return words"
   ]
  },
  {
   "cell_type": "code",
   "execution_count": null,
   "metadata": {},
   "outputs": [],
   "source": [
    "words = file_2_listOfwords(\"./sei_personaggi_in_cerca_dautore_Luigi_Pirandello.txt\")"
   ]
  },
  {
   "cell_type": "code",
   "execution_count": null,
   "metadata": {},
   "outputs": [],
   "source": [
    "words_count = {}\n",
    "for word in words:\n",
    "    if word in words_count:\n",
    "        #word exists in dict\n",
    "        words_count[word] += 1\n",
    "    else:\n",
    "        #word does not exist in dict\n",
    "        words_count[word] = 1"
   ]
  },
  {
   "cell_type": "code",
   "execution_count": null,
   "metadata": {},
   "outputs": [],
   "source": [
    "words_count"
   ]
  },
  {
   "cell_type": "code",
   "execution_count": null,
   "metadata": {},
   "outputs": [],
   "source": [
    "book"
   ]
  },
  {
   "cell_type": "code",
   "execution_count": null,
   "metadata": {},
   "outputs": [],
   "source": []
  }
 ],
 "metadata": {
  "kernelspec": {
   "display_name": "Python 3 (ipykernel)",
   "language": "python",
   "name": "python3"
  },
  "language_info": {
   "codemirror_mode": {
    "name": "ipython",
    "version": 3
   },
   "file_extension": ".py",
   "mimetype": "text/x-python",
   "name": "python",
   "nbconvert_exporter": "python",
   "pygments_lexer": "ipython3",
   "version": "3.7.6"
  }
 },
 "nbformat": 4,
 "nbformat_minor": 4
}
